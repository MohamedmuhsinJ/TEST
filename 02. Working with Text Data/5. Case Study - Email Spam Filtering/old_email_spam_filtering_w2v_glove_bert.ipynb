{
  "cells": [
    {
      "cell_type": "markdown",
      "metadata": {
        "id": "view-in-github",
        "colab_type": "text"
      },
      "source": [
        "<a href=\"https://colab.research.google.com/github/MohamedmuhsinJ/TEST/blob/main/02.%20Working%20with%20Text%20Data/5.%20Case%20Study%20-%20Email%20Spam%20Filtering/old_email_spam_filtering_w2v_glove_bert.ipynb\" target=\"_parent\"><img src=\"https://colab.research.google.com/assets/colab-badge.svg\" alt=\"Open In Colab\"/></a>"
      ]
    },
    {
      "cell_type": "markdown",
      "source": [
        "**AI BASED SOLUTION FOR FLAGGING OF FALSE\n",
        "INFORMATION ON ONLINE**"
      ],
      "metadata": {
        "id": "rUkEXqigeDOy"
      }
    },
    {
      "cell_type": "code",
      "source": [
        "import pandas as pd\n",
        "import numpy as np\n",
        "data = pd.read_csv(\"/content/new_newsdesk.csv\")"
      ],
      "metadata": {
        "id": "IU5iPifCeRHX"
      },
      "execution_count": 66,
      "outputs": []
    },
    {
      "cell_type": "code",
      "source": [
        "data = data.dropna(how = 'any', axis = 0)"
      ],
      "metadata": {
        "id": "itfDzZHteViK"
      },
      "execution_count": 67,
      "outputs": []
    },
    {
      "cell_type": "code",
      "source": [
        "data.isnull().sum()"
      ],
      "metadata": {
        "colab": {
          "base_uri": "https://localhost:8080/",
          "height": 147
        },
        "id": "TghQpLKgeWLm",
        "outputId": "b66e9a05-e7e7-4d67-8b67-81f7607237c8"
      },
      "execution_count": 68,
      "outputs": [
        {
          "output_type": "execute_result",
          "data": {
            "text/plain": [
              "label    0\n",
              "text     0\n",
              "dtype: int64"
            ],
            "text/html": [
              "<div>\n",
              "<style scoped>\n",
              "    .dataframe tbody tr th:only-of-type {\n",
              "        vertical-align: middle;\n",
              "    }\n",
              "\n",
              "    .dataframe tbody tr th {\n",
              "        vertical-align: top;\n",
              "    }\n",
              "\n",
              "    .dataframe thead th {\n",
              "        text-align: right;\n",
              "    }\n",
              "</style>\n",
              "<table border=\"1\" class=\"dataframe\">\n",
              "  <thead>\n",
              "    <tr style=\"text-align: right;\">\n",
              "      <th></th>\n",
              "      <th>0</th>\n",
              "    </tr>\n",
              "  </thead>\n",
              "  <tbody>\n",
              "    <tr>\n",
              "      <th>label</th>\n",
              "      <td>0</td>\n",
              "    </tr>\n",
              "    <tr>\n",
              "      <th>text</th>\n",
              "      <td>0</td>\n",
              "    </tr>\n",
              "  </tbody>\n",
              "</table>\n",
              "</div><br><label><b>dtype:</b> int64</label>"
            ]
          },
          "metadata": {},
          "execution_count": 68
        }
      ]
    },
    {
      "cell_type": "code",
      "source": [
        "data.label.value_counts()"
      ],
      "metadata": {
        "colab": {
          "base_uri": "https://localhost:8080/",
          "height": 178
        },
        "id": "ASnnCHdEedLf",
        "outputId": "9843186b-6861-44a3-b517-fab50b44a55f"
      },
      "execution_count": 69,
      "outputs": [
        {
          "output_type": "execute_result",
          "data": {
            "text/plain": [
              "label\n",
              "FAKE    1871\n",
              "REAL    1850\n",
              "Name: count, dtype: int64"
            ],
            "text/html": [
              "<div>\n",
              "<style scoped>\n",
              "    .dataframe tbody tr th:only-of-type {\n",
              "        vertical-align: middle;\n",
              "    }\n",
              "\n",
              "    .dataframe tbody tr th {\n",
              "        vertical-align: top;\n",
              "    }\n",
              "\n",
              "    .dataframe thead th {\n",
              "        text-align: right;\n",
              "    }\n",
              "</style>\n",
              "<table border=\"1\" class=\"dataframe\">\n",
              "  <thead>\n",
              "    <tr style=\"text-align: right;\">\n",
              "      <th></th>\n",
              "      <th>count</th>\n",
              "    </tr>\n",
              "    <tr>\n",
              "      <th>label</th>\n",
              "      <th></th>\n",
              "    </tr>\n",
              "  </thead>\n",
              "  <tbody>\n",
              "    <tr>\n",
              "      <th>FAKE</th>\n",
              "      <td>1871</td>\n",
              "    </tr>\n",
              "    <tr>\n",
              "      <th>REAL</th>\n",
              "      <td>1850</td>\n",
              "    </tr>\n",
              "  </tbody>\n",
              "</table>\n",
              "</div><br><label><b>dtype:</b> int64</label>"
            ]
          },
          "metadata": {},
          "execution_count": 69
        }
      ]
    },
    {
      "cell_type": "code",
      "source": [
        "from nltk.stem.porter import PorterStemmer\n",
        "import re\n",
        "from sklearn.feature_extraction.text import TfidfVectorizer\n",
        "from sklearn.preprocessing import LabelEncoder\n",
        "from nltk.stem import WordNetLemmatizer"
      ],
      "metadata": {
        "id": "McmAXC4Cef4e"
      },
      "execution_count": 70,
      "outputs": []
    },
    {
      "cell_type": "code",
      "source": [
        "from nltk.corpus import stopwords\n",
        "import nltk"
      ],
      "metadata": {
        "id": "6KiQnZuqeo5g"
      },
      "execution_count": 71,
      "outputs": []
    },
    {
      "cell_type": "code",
      "source": [
        "stemming = PorterStemmer()\n",
        "lemmatizer = WordNetLemmatizer()"
      ],
      "metadata": {
        "id": "im4aFz7RerHb"
      },
      "execution_count": 72,
      "outputs": []
    },
    {
      "cell_type": "code",
      "source": [
        "from sklearn.model_selection import train_test_split"
      ],
      "metadata": {
        "id": "bq4aJcX_etQ9"
      },
      "execution_count": 73,
      "outputs": []
    },
    {
      "cell_type": "code",
      "source": [
        "X=data[['text']]\n",
        "Y=data['label']"
      ],
      "metadata": {
        "id": "DFKTvdqVew35"
      },
      "execution_count": 74,
      "outputs": []
    },
    {
      "cell_type": "code",
      "source": [
        "X"
      ],
      "metadata": {
        "colab": {
          "base_uri": "https://localhost:8080/",
          "height": 424
        },
        "id": "7nzCKjjSeyZF",
        "outputId": "a6827ea2-fc10-4aa5-b6a1-e34e7caba4f0"
      },
      "execution_count": 75,
      "outputs": [
        {
          "output_type": "execute_result",
          "data": {
            "text/plain": [
              "                                                   text\n",
              "0     Payal has accused filmmaker Anurag Kashyap of ...\n",
              "1     A four-minute-long video of a woman criticisin...\n",
              "2     Republic Poll, a fake Twitter account imitatin...\n",
              "3     Delhi teen finds place on UN green list, turns...\n",
              "4     Delhi: A high-level meeting underway at reside...\n",
              "...                                                 ...\n",
              "3724  19:17 (IST) Sep 20\\n\\nThe second round of coun...\n",
              "3725  19:17 (IST) Sep 20\\n\\nThe second round of coun...\n",
              "3726  The Bengaluru City Police’s official Twitter h...\n",
              "3727  Sep 20, 2020, 08:00AM IST\\n\\nSource: TOI.in\\n\\...\n",
              "3728  Read Also\\n\\nRead Also\\n\\nAdvocate Ishkaran Bh...\n",
              "\n",
              "[3721 rows x 1 columns]"
            ],
            "text/html": [
              "\n",
              "  <div id=\"df-8fd45a1d-1651-4026-8721-3713eccbf252\" class=\"colab-df-container\">\n",
              "    <div>\n",
              "<style scoped>\n",
              "    .dataframe tbody tr th:only-of-type {\n",
              "        vertical-align: middle;\n",
              "    }\n",
              "\n",
              "    .dataframe tbody tr th {\n",
              "        vertical-align: top;\n",
              "    }\n",
              "\n",
              "    .dataframe thead th {\n",
              "        text-align: right;\n",
              "    }\n",
              "</style>\n",
              "<table border=\"1\" class=\"dataframe\">\n",
              "  <thead>\n",
              "    <tr style=\"text-align: right;\">\n",
              "      <th></th>\n",
              "      <th>text</th>\n",
              "    </tr>\n",
              "  </thead>\n",
              "  <tbody>\n",
              "    <tr>\n",
              "      <th>0</th>\n",
              "      <td>Payal has accused filmmaker Anurag Kashyap of ...</td>\n",
              "    </tr>\n",
              "    <tr>\n",
              "      <th>1</th>\n",
              "      <td>A four-minute-long video of a woman criticisin...</td>\n",
              "    </tr>\n",
              "    <tr>\n",
              "      <th>2</th>\n",
              "      <td>Republic Poll, a fake Twitter account imitatin...</td>\n",
              "    </tr>\n",
              "    <tr>\n",
              "      <th>3</th>\n",
              "      <td>Delhi teen finds place on UN green list, turns...</td>\n",
              "    </tr>\n",
              "    <tr>\n",
              "      <th>4</th>\n",
              "      <td>Delhi: A high-level meeting underway at reside...</td>\n",
              "    </tr>\n",
              "    <tr>\n",
              "      <th>...</th>\n",
              "      <td>...</td>\n",
              "    </tr>\n",
              "    <tr>\n",
              "      <th>3724</th>\n",
              "      <td>19:17 (IST) Sep 20\\n\\nThe second round of coun...</td>\n",
              "    </tr>\n",
              "    <tr>\n",
              "      <th>3725</th>\n",
              "      <td>19:17 (IST) Sep 20\\n\\nThe second round of coun...</td>\n",
              "    </tr>\n",
              "    <tr>\n",
              "      <th>3726</th>\n",
              "      <td>The Bengaluru City Police’s official Twitter h...</td>\n",
              "    </tr>\n",
              "    <tr>\n",
              "      <th>3727</th>\n",
              "      <td>Sep 20, 2020, 08:00AM IST\\n\\nSource: TOI.in\\n\\...</td>\n",
              "    </tr>\n",
              "    <tr>\n",
              "      <th>3728</th>\n",
              "      <td>Read Also\\n\\nRead Also\\n\\nAdvocate Ishkaran Bh...</td>\n",
              "    </tr>\n",
              "  </tbody>\n",
              "</table>\n",
              "<p>3721 rows × 1 columns</p>\n",
              "</div>\n",
              "    <div class=\"colab-df-buttons\">\n",
              "\n",
              "  <div class=\"colab-df-container\">\n",
              "    <button class=\"colab-df-convert\" onclick=\"convertToInteractive('df-8fd45a1d-1651-4026-8721-3713eccbf252')\"\n",
              "            title=\"Convert this dataframe to an interactive table.\"\n",
              "            style=\"display:none;\">\n",
              "\n",
              "  <svg xmlns=\"http://www.w3.org/2000/svg\" height=\"24px\" viewBox=\"0 -960 960 960\">\n",
              "    <path d=\"M120-120v-720h720v720H120Zm60-500h600v-160H180v160Zm220 220h160v-160H400v160Zm0 220h160v-160H400v160ZM180-400h160v-160H180v160Zm440 0h160v-160H620v160ZM180-180h160v-160H180v160Zm440 0h160v-160H620v160Z\"/>\n",
              "  </svg>\n",
              "    </button>\n",
              "\n",
              "  <style>\n",
              "    .colab-df-container {\n",
              "      display:flex;\n",
              "      gap: 12px;\n",
              "    }\n",
              "\n",
              "    .colab-df-convert {\n",
              "      background-color: #E8F0FE;\n",
              "      border: none;\n",
              "      border-radius: 50%;\n",
              "      cursor: pointer;\n",
              "      display: none;\n",
              "      fill: #1967D2;\n",
              "      height: 32px;\n",
              "      padding: 0 0 0 0;\n",
              "      width: 32px;\n",
              "    }\n",
              "\n",
              "    .colab-df-convert:hover {\n",
              "      background-color: #E2EBFA;\n",
              "      box-shadow: 0px 1px 2px rgba(60, 64, 67, 0.3), 0px 1px 3px 1px rgba(60, 64, 67, 0.15);\n",
              "      fill: #174EA6;\n",
              "    }\n",
              "\n",
              "    .colab-df-buttons div {\n",
              "      margin-bottom: 4px;\n",
              "    }\n",
              "\n",
              "    [theme=dark] .colab-df-convert {\n",
              "      background-color: #3B4455;\n",
              "      fill: #D2E3FC;\n",
              "    }\n",
              "\n",
              "    [theme=dark] .colab-df-convert:hover {\n",
              "      background-color: #434B5C;\n",
              "      box-shadow: 0px 1px 3px 1px rgba(0, 0, 0, 0.15);\n",
              "      filter: drop-shadow(0px 1px 2px rgba(0, 0, 0, 0.3));\n",
              "      fill: #FFFFFF;\n",
              "    }\n",
              "  </style>\n",
              "\n",
              "    <script>\n",
              "      const buttonEl =\n",
              "        document.querySelector('#df-8fd45a1d-1651-4026-8721-3713eccbf252 button.colab-df-convert');\n",
              "      buttonEl.style.display =\n",
              "        google.colab.kernel.accessAllowed ? 'block' : 'none';\n",
              "\n",
              "      async function convertToInteractive(key) {\n",
              "        const element = document.querySelector('#df-8fd45a1d-1651-4026-8721-3713eccbf252');\n",
              "        const dataTable =\n",
              "          await google.colab.kernel.invokeFunction('convertToInteractive',\n",
              "                                                    [key], {});\n",
              "        if (!dataTable) return;\n",
              "\n",
              "        const docLinkHtml = 'Like what you see? Visit the ' +\n",
              "          '<a target=\"_blank\" href=https://colab.research.google.com/notebooks/data_table.ipynb>data table notebook</a>'\n",
              "          + ' to learn more about interactive tables.';\n",
              "        element.innerHTML = '';\n",
              "        dataTable['output_type'] = 'display_data';\n",
              "        await google.colab.output.renderOutput(dataTable, element);\n",
              "        const docLink = document.createElement('div');\n",
              "        docLink.innerHTML = docLinkHtml;\n",
              "        element.appendChild(docLink);\n",
              "      }\n",
              "    </script>\n",
              "  </div>\n",
              "\n",
              "\n",
              "<div id=\"df-e5477c7b-c2ce-4142-97a4-c1ca793f6039\">\n",
              "  <button class=\"colab-df-quickchart\" onclick=\"quickchart('df-e5477c7b-c2ce-4142-97a4-c1ca793f6039')\"\n",
              "            title=\"Suggest charts\"\n",
              "            style=\"display:none;\">\n",
              "\n",
              "<svg xmlns=\"http://www.w3.org/2000/svg\" height=\"24px\"viewBox=\"0 0 24 24\"\n",
              "     width=\"24px\">\n",
              "    <g>\n",
              "        <path d=\"M19 3H5c-1.1 0-2 .9-2 2v14c0 1.1.9 2 2 2h14c1.1 0 2-.9 2-2V5c0-1.1-.9-2-2-2zM9 17H7v-7h2v7zm4 0h-2V7h2v10zm4 0h-2v-4h2v4z\"/>\n",
              "    </g>\n",
              "</svg>\n",
              "  </button>\n",
              "\n",
              "<style>\n",
              "  .colab-df-quickchart {\n",
              "      --bg-color: #E8F0FE;\n",
              "      --fill-color: #1967D2;\n",
              "      --hover-bg-color: #E2EBFA;\n",
              "      --hover-fill-color: #174EA6;\n",
              "      --disabled-fill-color: #AAA;\n",
              "      --disabled-bg-color: #DDD;\n",
              "  }\n",
              "\n",
              "  [theme=dark] .colab-df-quickchart {\n",
              "      --bg-color: #3B4455;\n",
              "      --fill-color: #D2E3FC;\n",
              "      --hover-bg-color: #434B5C;\n",
              "      --hover-fill-color: #FFFFFF;\n",
              "      --disabled-bg-color: #3B4455;\n",
              "      --disabled-fill-color: #666;\n",
              "  }\n",
              "\n",
              "  .colab-df-quickchart {\n",
              "    background-color: var(--bg-color);\n",
              "    border: none;\n",
              "    border-radius: 50%;\n",
              "    cursor: pointer;\n",
              "    display: none;\n",
              "    fill: var(--fill-color);\n",
              "    height: 32px;\n",
              "    padding: 0;\n",
              "    width: 32px;\n",
              "  }\n",
              "\n",
              "  .colab-df-quickchart:hover {\n",
              "    background-color: var(--hover-bg-color);\n",
              "    box-shadow: 0 1px 2px rgba(60, 64, 67, 0.3), 0 1px 3px 1px rgba(60, 64, 67, 0.15);\n",
              "    fill: var(--button-hover-fill-color);\n",
              "  }\n",
              "\n",
              "  .colab-df-quickchart-complete:disabled,\n",
              "  .colab-df-quickchart-complete:disabled:hover {\n",
              "    background-color: var(--disabled-bg-color);\n",
              "    fill: var(--disabled-fill-color);\n",
              "    box-shadow: none;\n",
              "  }\n",
              "\n",
              "  .colab-df-spinner {\n",
              "    border: 2px solid var(--fill-color);\n",
              "    border-color: transparent;\n",
              "    border-bottom-color: var(--fill-color);\n",
              "    animation:\n",
              "      spin 1s steps(1) infinite;\n",
              "  }\n",
              "\n",
              "  @keyframes spin {\n",
              "    0% {\n",
              "      border-color: transparent;\n",
              "      border-bottom-color: var(--fill-color);\n",
              "      border-left-color: var(--fill-color);\n",
              "    }\n",
              "    20% {\n",
              "      border-color: transparent;\n",
              "      border-left-color: var(--fill-color);\n",
              "      border-top-color: var(--fill-color);\n",
              "    }\n",
              "    30% {\n",
              "      border-color: transparent;\n",
              "      border-left-color: var(--fill-color);\n",
              "      border-top-color: var(--fill-color);\n",
              "      border-right-color: var(--fill-color);\n",
              "    }\n",
              "    40% {\n",
              "      border-color: transparent;\n",
              "      border-right-color: var(--fill-color);\n",
              "      border-top-color: var(--fill-color);\n",
              "    }\n",
              "    60% {\n",
              "      border-color: transparent;\n",
              "      border-right-color: var(--fill-color);\n",
              "    }\n",
              "    80% {\n",
              "      border-color: transparent;\n",
              "      border-right-color: var(--fill-color);\n",
              "      border-bottom-color: var(--fill-color);\n",
              "    }\n",
              "    90% {\n",
              "      border-color: transparent;\n",
              "      border-bottom-color: var(--fill-color);\n",
              "    }\n",
              "  }\n",
              "</style>\n",
              "\n",
              "  <script>\n",
              "    async function quickchart(key) {\n",
              "      const quickchartButtonEl =\n",
              "        document.querySelector('#' + key + ' button');\n",
              "      quickchartButtonEl.disabled = true;  // To prevent multiple clicks.\n",
              "      quickchartButtonEl.classList.add('colab-df-spinner');\n",
              "      try {\n",
              "        const charts = await google.colab.kernel.invokeFunction(\n",
              "            'suggestCharts', [key], {});\n",
              "      } catch (error) {\n",
              "        console.error('Error during call to suggestCharts:', error);\n",
              "      }\n",
              "      quickchartButtonEl.classList.remove('colab-df-spinner');\n",
              "      quickchartButtonEl.classList.add('colab-df-quickchart-complete');\n",
              "    }\n",
              "    (() => {\n",
              "      let quickchartButtonEl =\n",
              "        document.querySelector('#df-e5477c7b-c2ce-4142-97a4-c1ca793f6039 button');\n",
              "      quickchartButtonEl.style.display =\n",
              "        google.colab.kernel.accessAllowed ? 'block' : 'none';\n",
              "    })();\n",
              "  </script>\n",
              "</div>\n",
              "\n",
              "  <div id=\"id_04a5bb0d-2990-4793-8032-2c634118f83e\">\n",
              "    <style>\n",
              "      .colab-df-generate {\n",
              "        background-color: #E8F0FE;\n",
              "        border: none;\n",
              "        border-radius: 50%;\n",
              "        cursor: pointer;\n",
              "        display: none;\n",
              "        fill: #1967D2;\n",
              "        height: 32px;\n",
              "        padding: 0 0 0 0;\n",
              "        width: 32px;\n",
              "      }\n",
              "\n",
              "      .colab-df-generate:hover {\n",
              "        background-color: #E2EBFA;\n",
              "        box-shadow: 0px 1px 2px rgba(60, 64, 67, 0.3), 0px 1px 3px 1px rgba(60, 64, 67, 0.15);\n",
              "        fill: #174EA6;\n",
              "      }\n",
              "\n",
              "      [theme=dark] .colab-df-generate {\n",
              "        background-color: #3B4455;\n",
              "        fill: #D2E3FC;\n",
              "      }\n",
              "\n",
              "      [theme=dark] .colab-df-generate:hover {\n",
              "        background-color: #434B5C;\n",
              "        box-shadow: 0px 1px 3px 1px rgba(0, 0, 0, 0.15);\n",
              "        filter: drop-shadow(0px 1px 2px rgba(0, 0, 0, 0.3));\n",
              "        fill: #FFFFFF;\n",
              "      }\n",
              "    </style>\n",
              "    <button class=\"colab-df-generate\" onclick=\"generateWithVariable('X')\"\n",
              "            title=\"Generate code using this dataframe.\"\n",
              "            style=\"display:none;\">\n",
              "\n",
              "  <svg xmlns=\"http://www.w3.org/2000/svg\" height=\"24px\"viewBox=\"0 0 24 24\"\n",
              "       width=\"24px\">\n",
              "    <path d=\"M7,19H8.4L18.45,9,17,7.55,7,17.6ZM5,21V16.75L18.45,3.32a2,2,0,0,1,2.83,0l1.4,1.43a1.91,1.91,0,0,1,.58,1.4,1.91,1.91,0,0,1-.58,1.4L9.25,21ZM18.45,9,17,7.55Zm-12,3A5.31,5.31,0,0,0,4.9,8.1,5.31,5.31,0,0,0,1,6.5,5.31,5.31,0,0,0,4.9,4.9,5.31,5.31,0,0,0,6.5,1,5.31,5.31,0,0,0,8.1,4.9,5.31,5.31,0,0,0,12,6.5,5.46,5.46,0,0,0,6.5,12Z\"/>\n",
              "  </svg>\n",
              "    </button>\n",
              "    <script>\n",
              "      (() => {\n",
              "      const buttonEl =\n",
              "        document.querySelector('#id_04a5bb0d-2990-4793-8032-2c634118f83e button.colab-df-generate');\n",
              "      buttonEl.style.display =\n",
              "        google.colab.kernel.accessAllowed ? 'block' : 'none';\n",
              "\n",
              "      buttonEl.onclick = () => {\n",
              "        google.colab.notebook.generateWithVariable('X');\n",
              "      }\n",
              "      })();\n",
              "    </script>\n",
              "  </div>\n",
              "\n",
              "    </div>\n",
              "  </div>\n"
            ],
            "application/vnd.google.colaboratory.intrinsic+json": {
              "type": "dataframe",
              "variable_name": "X",
              "summary": "{\n  \"name\": \"X\",\n  \"rows\": 3721,\n  \"fields\": [\n    {\n      \"column\": \"text\",\n      \"properties\": {\n        \"dtype\": \"string\",\n        \"num_unique_values\": 2229,\n        \"samples\": [\n          \"NEW DELHI: Hong Kong has again asked Air India not to operate flights there for two weeks starting Sunday (September 20). Like the first suspension last month , this time also the reason is significant number of passengers from India testing positive on arrival in Hong Kong.\\u201cHong Kong civil aviation authority has advised AI not to operate for two weeks from till October 3. Only one flight was scheduled to operate in this period \\u2014 Delhi-Hong Kong on Monday (September 21) which has been cancelled and passengers informed,\\u201d said a senior AI official.Last month also Hong Kong had barred Air India flights for two weeks after 11 passengers who flew in there from Delhi on August 14 had tested positive on arrival. Cathay Pacific is not operating to India during the pandemic.Chinese media reports Hong Kong has temporarily suspended Cathay Dragon (Cathay\\u2019s regional arm) flights on Kuala Lumpur route. Five people flew AI Express to Malaysia and then took a connecting flight to Hong Kong, where they tested positive on arrival, according to those reports.Last week Dubai aviation authorities had decided to suspend AI Express operations to the city for 15 days after the budget airline twice flew passengers with Covid positive reports there from India. Following an apology from AI Express and assurance that the same will not happen again, Dubai Civil Aviation Authority revoked this suspension.Last Friday, the airline\\u2019s spokesperson had said: \\u201cWe have apologised for the two lapses to Dubai authorities and assured them of putting in place multi-level strict checks to ensure the same does not get repeated. (Accordingly) all AI Express flights from and to Dubai will operate as per original schedule from Saturday (September 19).\\u201d\",\n          \"An edited image of Prime Minister Narendra Modi bowing in front of Chinese President Xi Jinping with folded hands is being shared on social media. The image is doctored to include the Indian prime minister photographed in such a gesture.\\n\\nThe photograph has gone viral in the aftermath of the June 15 clash between the Indian and Chinese troops in the Galwan valley of the eastern Ladakh region of the Line of Actual Control, which led to the death of 20 Indian soldiers. The casualties on the Chinese side are not yet known.\\n\\nThe image has been shared on Twitter and Facebook with a similar narrative.\\n\\nSaughand mujhe is mitti ki.... pic.twitter.com/OG0T5koQLR \\u2014 Sanghamitra (@AudaciousQuest) June 20, 2020\\n\\nThe archives can be found here, here and here.\\n\\nAlso Read: Randeep Surjewala Peddles Old Clips Of India-China Clashes As Recent\\n\\nThe morphed photograph was earlier tweeted by an Indian National Congress party member and a spokesperson Devashish Jarariya claiming that PM Modi 'made this image real.'\\n\\nAfter the all-party meeting, that was convened by prime minister Narendra Modi, to discuss the issue of the India China face off on June 19, questions were raised about PM Modi's concluding remarks about \\\"India not losing any territory to China in recent months.\\\" This led to the opposition questioning the government as to what led to the clash between Indian and Chinese forces on June 15. A clarification was later issued by the Prime Minister's Office about 'the mischievous interpretation of PM's statement.'\\n\\n\\n\\nFact check\\n\\nBOOM ran a reverse image search on the photograph and found this PTI photo taken during Modi and Xi Jinping's 2019 meeting at Mamallapuram. The Hindu also published the photo in an article describing Modi and Xi Jinping's Mamallapuram visit.\\n\\n\\n\\n\\n\\nIn the original image, the Indian Prime Minister can be seen interacting with Xi Jinping while security guards stand behind them.\\n\\nBelow is an image comparison of the morphed image (left) and the original image (right).\\n\\n\\n\\n\\n\\nAlso Read: No This Photo Is Not Of Indian Troops Killed In Galwan Valley\\n\\nThe image of PM Modi bowing with folded hands is originally from 2014, where he was exchanging greetings with the then Mayor of Tumkur, Geeta Rudresh in the airport. BOOM found a cached version of a 2014 article in Vijay Karnataka which featured the image. The article reported that the prime minister had visited Tumkur to inaugurate the India Food Park.\\n\\nThe same image was fact-checked by BOOM Hindi earlier. Social media posts had then falsely claimed that PM Modi was pictured bowing to industrialist Gautam Adani's wife, Priti Adani.\\n\\nBOOM has fact-checked various other claims in the aftermath of the Galwan Valley clash which can be read here.\\n\\n\",\n          \"An old photo of soldiers sleeping in a bus is viral with a misleading caption that it is a picture of the paramilitary personnel before they were killed in the recent terror attack in Pulwama.\\n\\nThe photo which is viral on Facebook with the caption in Hindi, \\\"\\u0926\\u0947\\u0936 \\u0915\\u0947 \\u091c\\u0935\\u093e\\u0928\\u094b \\u0915\\u0947 \\u0936\\u0939\\u0940\\u0926 \\u0939\\u094b\\u0928\\u0947 \\u0938\\u0947 9 \\u0918\\u0902\\u091f\\u094b \\u092a\\u0939\\u0932\\u0947 \\u0915\\u0940 \\u092b\\u094b\\u091f\\u094b\\\" (Nine hours before the country's soldiers were martyred.). It claims that the photo shows the Central Armed Reserve Police Force (CRPF) personnel before the bus they were travelling in was attacked.\\n\\nThe photo was posted on Saturday by a page called Cricket Times and received more than 1000 shares.\\n\\nIt is also viral on other posts receiving more than 4000 reactions and nearly 300 shares.\\n\\nClick here for an archived version of the post.\\n\\nFact-Check\\n\\nBOOM reverse image searched the photo and found that it was available on the internet many weeks before the February 14 attack on CRPF personnel in Pulwama.\\n\\nThe reverse image search showed results from January 26 and 27, 2019, dates wherein this image was used to praise the armed forces.\\n\\nThe photo as seen as on Google Plus account on Republic Day with the caption, \\\"It's nice to see those who ensure our peaceful sleep, sleeping peacefully too.\\\"\\n\\nThe following image appered on a site called Oino, a web based program to track Instagram users.\\n\\nThe image was uploaded on the January 27, three weeks before the happenings in Pulwama.\\n\\nSimilarly this image too was uploaded on January 27 on an Instagram-crawling website Insta Stalker.\\n\\nBOOM also checked the photos of the soldiers in the viral photo with pictures of the martyred soldiers from the official list released by the CRPF and none of them matched. Their names, rank and state of origin can be seen on this document.\\n\\nBOOM has also reached out to the Indian Army to ascertain if these are Indian Army soldiers.\"\n        ],\n        \"semantic_type\": \"\",\n        \"description\": \"\"\n      }\n    }\n  ]\n}"
            }
          },
          "metadata": {},
          "execution_count": 75
        }
      ]
    },
    {
      "cell_type": "code",
      "source": [
        "p=data['text']\n",
        "print(p)"
      ],
      "metadata": {
        "colab": {
          "base_uri": "https://localhost:8080/"
        },
        "id": "IthNXggOe1tR",
        "outputId": "4d8a38c1-32a9-4b35-cc32-3cc8f9fe09a5"
      },
      "execution_count": 76,
      "outputs": [
        {
          "output_type": "stream",
          "name": "stdout",
          "text": [
            "0       Payal has accused filmmaker Anurag Kashyap of ...\n",
            "1       A four-minute-long video of a woman criticisin...\n",
            "2       Republic Poll, a fake Twitter account imitatin...\n",
            "3       Delhi teen finds place on UN green list, turns...\n",
            "4       Delhi: A high-level meeting underway at reside...\n",
            "                              ...                        \n",
            "3724    19:17 (IST) Sep 20\\n\\nThe second round of coun...\n",
            "3725    19:17 (IST) Sep 20\\n\\nThe second round of coun...\n",
            "3726    The Bengaluru City Police’s official Twitter h...\n",
            "3727    Sep 20, 2020, 08:00AM IST\\n\\nSource: TOI.in\\n\\...\n",
            "3728    Read Also\\n\\nRead Also\\n\\nAdvocate Ishkaran Bh...\n",
            "Name: text, Length: 3721, dtype: object\n"
          ]
        }
      ]
    },
    {
      "cell_type": "code",
      "source": [
        "x_train,x_test,y_train,y_test = train_test_split(X,Y,test_size=0.2,random_state=42)"
      ],
      "metadata": {
        "id": "3qzxWWcpe4G6"
      },
      "execution_count": 40,
      "outputs": []
    },
    {
      "cell_type": "code",
      "source": [
        "print('x_train:',x_train.shape)\n",
        "print('y_train:',y_train.shape)\n",
        "print('x_test:',x_test.shape)\n",
        "print('y_test:',y_test.shape)"
      ],
      "metadata": {
        "colab": {
          "base_uri": "https://localhost:8080/"
        },
        "id": "yBBXnadLfo9_",
        "outputId": "18e48a5e-f73d-433b-9335-7834ff19bba7"
      },
      "execution_count": 78,
      "outputs": [
        {
          "output_type": "stream",
          "name": "stdout",
          "text": [
            "x_train: (2976, 1)\n",
            "y_train: (2976,)\n",
            "x_test: (745, 1)\n",
            "y_test: (745,)\n"
          ]
        }
      ]
    },
    {
      "cell_type": "code",
      "source": [
        "X_train = x_train"
      ],
      "metadata": {
        "id": "-wKxfqtsfwnB"
      },
      "execution_count": 79,
      "outputs": []
    },
    {
      "cell_type": "code",
      "source": [
        "x_train.head()"
      ],
      "metadata": {
        "colab": {
          "base_uri": "https://localhost:8080/",
          "height": 206
        },
        "id": "iiTIQ2wFfx9i",
        "outputId": "f5294022-7814-4234-c21a-5fdd956ac225"
      },
      "execution_count": 80,
      "outputs": [
        {
          "output_type": "execute_result",
          "data": {
            "text/plain": [
              "                                                   text\n",
              "209   Several mainstream news outlets such as the Ti...\n",
              "3374  NEW DELHI: The Drugs Controller General of Ind...\n",
              "3540  A screenshot purporting to be a newspaper clip...\n",
              "2472  A viral video of a woman with infant traveling...\n",
              "2510  Read Also\\n\\nBe it winning hearts or winning t..."
            ],
            "text/html": [
              "\n",
              "  <div id=\"df-09baa77a-1e57-4d29-b0fd-c53d3d4fba3f\" class=\"colab-df-container\">\n",
              "    <div>\n",
              "<style scoped>\n",
              "    .dataframe tbody tr th:only-of-type {\n",
              "        vertical-align: middle;\n",
              "    }\n",
              "\n",
              "    .dataframe tbody tr th {\n",
              "        vertical-align: top;\n",
              "    }\n",
              "\n",
              "    .dataframe thead th {\n",
              "        text-align: right;\n",
              "    }\n",
              "</style>\n",
              "<table border=\"1\" class=\"dataframe\">\n",
              "  <thead>\n",
              "    <tr style=\"text-align: right;\">\n",
              "      <th></th>\n",
              "      <th>text</th>\n",
              "    </tr>\n",
              "  </thead>\n",
              "  <tbody>\n",
              "    <tr>\n",
              "      <th>209</th>\n",
              "      <td>Several mainstream news outlets such as the Ti...</td>\n",
              "    </tr>\n",
              "    <tr>\n",
              "      <th>3374</th>\n",
              "      <td>NEW DELHI: The Drugs Controller General of Ind...</td>\n",
              "    </tr>\n",
              "    <tr>\n",
              "      <th>3540</th>\n",
              "      <td>A screenshot purporting to be a newspaper clip...</td>\n",
              "    </tr>\n",
              "    <tr>\n",
              "      <th>2472</th>\n",
              "      <td>A viral video of a woman with infant traveling...</td>\n",
              "    </tr>\n",
              "    <tr>\n",
              "      <th>2510</th>\n",
              "      <td>Read Also\\n\\nBe it winning hearts or winning t...</td>\n",
              "    </tr>\n",
              "  </tbody>\n",
              "</table>\n",
              "</div>\n",
              "    <div class=\"colab-df-buttons\">\n",
              "\n",
              "  <div class=\"colab-df-container\">\n",
              "    <button class=\"colab-df-convert\" onclick=\"convertToInteractive('df-09baa77a-1e57-4d29-b0fd-c53d3d4fba3f')\"\n",
              "            title=\"Convert this dataframe to an interactive table.\"\n",
              "            style=\"display:none;\">\n",
              "\n",
              "  <svg xmlns=\"http://www.w3.org/2000/svg\" height=\"24px\" viewBox=\"0 -960 960 960\">\n",
              "    <path d=\"M120-120v-720h720v720H120Zm60-500h600v-160H180v160Zm220 220h160v-160H400v160Zm0 220h160v-160H400v160ZM180-400h160v-160H180v160Zm440 0h160v-160H620v160ZM180-180h160v-160H180v160Zm440 0h160v-160H620v160Z\"/>\n",
              "  </svg>\n",
              "    </button>\n",
              "\n",
              "  <style>\n",
              "    .colab-df-container {\n",
              "      display:flex;\n",
              "      gap: 12px;\n",
              "    }\n",
              "\n",
              "    .colab-df-convert {\n",
              "      background-color: #E8F0FE;\n",
              "      border: none;\n",
              "      border-radius: 50%;\n",
              "      cursor: pointer;\n",
              "      display: none;\n",
              "      fill: #1967D2;\n",
              "      height: 32px;\n",
              "      padding: 0 0 0 0;\n",
              "      width: 32px;\n",
              "    }\n",
              "\n",
              "    .colab-df-convert:hover {\n",
              "      background-color: #E2EBFA;\n",
              "      box-shadow: 0px 1px 2px rgba(60, 64, 67, 0.3), 0px 1px 3px 1px rgba(60, 64, 67, 0.15);\n",
              "      fill: #174EA6;\n",
              "    }\n",
              "\n",
              "    .colab-df-buttons div {\n",
              "      margin-bottom: 4px;\n",
              "    }\n",
              "\n",
              "    [theme=dark] .colab-df-convert {\n",
              "      background-color: #3B4455;\n",
              "      fill: #D2E3FC;\n",
              "    }\n",
              "\n",
              "    [theme=dark] .colab-df-convert:hover {\n",
              "      background-color: #434B5C;\n",
              "      box-shadow: 0px 1px 3px 1px rgba(0, 0, 0, 0.15);\n",
              "      filter: drop-shadow(0px 1px 2px rgba(0, 0, 0, 0.3));\n",
              "      fill: #FFFFFF;\n",
              "    }\n",
              "  </style>\n",
              "\n",
              "    <script>\n",
              "      const buttonEl =\n",
              "        document.querySelector('#df-09baa77a-1e57-4d29-b0fd-c53d3d4fba3f button.colab-df-convert');\n",
              "      buttonEl.style.display =\n",
              "        google.colab.kernel.accessAllowed ? 'block' : 'none';\n",
              "\n",
              "      async function convertToInteractive(key) {\n",
              "        const element = document.querySelector('#df-09baa77a-1e57-4d29-b0fd-c53d3d4fba3f');\n",
              "        const dataTable =\n",
              "          await google.colab.kernel.invokeFunction('convertToInteractive',\n",
              "                                                    [key], {});\n",
              "        if (!dataTable) return;\n",
              "\n",
              "        const docLinkHtml = 'Like what you see? Visit the ' +\n",
              "          '<a target=\"_blank\" href=https://colab.research.google.com/notebooks/data_table.ipynb>data table notebook</a>'\n",
              "          + ' to learn more about interactive tables.';\n",
              "        element.innerHTML = '';\n",
              "        dataTable['output_type'] = 'display_data';\n",
              "        await google.colab.output.renderOutput(dataTable, element);\n",
              "        const docLink = document.createElement('div');\n",
              "        docLink.innerHTML = docLinkHtml;\n",
              "        element.appendChild(docLink);\n",
              "      }\n",
              "    </script>\n",
              "  </div>\n",
              "\n",
              "\n",
              "<div id=\"df-efe9fedb-6b38-4d9a-bcb0-7c975944dcd7\">\n",
              "  <button class=\"colab-df-quickchart\" onclick=\"quickchart('df-efe9fedb-6b38-4d9a-bcb0-7c975944dcd7')\"\n",
              "            title=\"Suggest charts\"\n",
              "            style=\"display:none;\">\n",
              "\n",
              "<svg xmlns=\"http://www.w3.org/2000/svg\" height=\"24px\"viewBox=\"0 0 24 24\"\n",
              "     width=\"24px\">\n",
              "    <g>\n",
              "        <path d=\"M19 3H5c-1.1 0-2 .9-2 2v14c0 1.1.9 2 2 2h14c1.1 0 2-.9 2-2V5c0-1.1-.9-2-2-2zM9 17H7v-7h2v7zm4 0h-2V7h2v10zm4 0h-2v-4h2v4z\"/>\n",
              "    </g>\n",
              "</svg>\n",
              "  </button>\n",
              "\n",
              "<style>\n",
              "  .colab-df-quickchart {\n",
              "      --bg-color: #E8F0FE;\n",
              "      --fill-color: #1967D2;\n",
              "      --hover-bg-color: #E2EBFA;\n",
              "      --hover-fill-color: #174EA6;\n",
              "      --disabled-fill-color: #AAA;\n",
              "      --disabled-bg-color: #DDD;\n",
              "  }\n",
              "\n",
              "  [theme=dark] .colab-df-quickchart {\n",
              "      --bg-color: #3B4455;\n",
              "      --fill-color: #D2E3FC;\n",
              "      --hover-bg-color: #434B5C;\n",
              "      --hover-fill-color: #FFFFFF;\n",
              "      --disabled-bg-color: #3B4455;\n",
              "      --disabled-fill-color: #666;\n",
              "  }\n",
              "\n",
              "  .colab-df-quickchart {\n",
              "    background-color: var(--bg-color);\n",
              "    border: none;\n",
              "    border-radius: 50%;\n",
              "    cursor: pointer;\n",
              "    display: none;\n",
              "    fill: var(--fill-color);\n",
              "    height: 32px;\n",
              "    padding: 0;\n",
              "    width: 32px;\n",
              "  }\n",
              "\n",
              "  .colab-df-quickchart:hover {\n",
              "    background-color: var(--hover-bg-color);\n",
              "    box-shadow: 0 1px 2px rgba(60, 64, 67, 0.3), 0 1px 3px 1px rgba(60, 64, 67, 0.15);\n",
              "    fill: var(--button-hover-fill-color);\n",
              "  }\n",
              "\n",
              "  .colab-df-quickchart-complete:disabled,\n",
              "  .colab-df-quickchart-complete:disabled:hover {\n",
              "    background-color: var(--disabled-bg-color);\n",
              "    fill: var(--disabled-fill-color);\n",
              "    box-shadow: none;\n",
              "  }\n",
              "\n",
              "  .colab-df-spinner {\n",
              "    border: 2px solid var(--fill-color);\n",
              "    border-color: transparent;\n",
              "    border-bottom-color: var(--fill-color);\n",
              "    animation:\n",
              "      spin 1s steps(1) infinite;\n",
              "  }\n",
              "\n",
              "  @keyframes spin {\n",
              "    0% {\n",
              "      border-color: transparent;\n",
              "      border-bottom-color: var(--fill-color);\n",
              "      border-left-color: var(--fill-color);\n",
              "    }\n",
              "    20% {\n",
              "      border-color: transparent;\n",
              "      border-left-color: var(--fill-color);\n",
              "      border-top-color: var(--fill-color);\n",
              "    }\n",
              "    30% {\n",
              "      border-color: transparent;\n",
              "      border-left-color: var(--fill-color);\n",
              "      border-top-color: var(--fill-color);\n",
              "      border-right-color: var(--fill-color);\n",
              "    }\n",
              "    40% {\n",
              "      border-color: transparent;\n",
              "      border-right-color: var(--fill-color);\n",
              "      border-top-color: var(--fill-color);\n",
              "    }\n",
              "    60% {\n",
              "      border-color: transparent;\n",
              "      border-right-color: var(--fill-color);\n",
              "    }\n",
              "    80% {\n",
              "      border-color: transparent;\n",
              "      border-right-color: var(--fill-color);\n",
              "      border-bottom-color: var(--fill-color);\n",
              "    }\n",
              "    90% {\n",
              "      border-color: transparent;\n",
              "      border-bottom-color: var(--fill-color);\n",
              "    }\n",
              "  }\n",
              "</style>\n",
              "\n",
              "  <script>\n",
              "    async function quickchart(key) {\n",
              "      const quickchartButtonEl =\n",
              "        document.querySelector('#' + key + ' button');\n",
              "      quickchartButtonEl.disabled = true;  // To prevent multiple clicks.\n",
              "      quickchartButtonEl.classList.add('colab-df-spinner');\n",
              "      try {\n",
              "        const charts = await google.colab.kernel.invokeFunction(\n",
              "            'suggestCharts', [key], {});\n",
              "      } catch (error) {\n",
              "        console.error('Error during call to suggestCharts:', error);\n",
              "      }\n",
              "      quickchartButtonEl.classList.remove('colab-df-spinner');\n",
              "      quickchartButtonEl.classList.add('colab-df-quickchart-complete');\n",
              "    }\n",
              "    (() => {\n",
              "      let quickchartButtonEl =\n",
              "        document.querySelector('#df-efe9fedb-6b38-4d9a-bcb0-7c975944dcd7 button');\n",
              "      quickchartButtonEl.style.display =\n",
              "        google.colab.kernel.accessAllowed ? 'block' : 'none';\n",
              "    })();\n",
              "  </script>\n",
              "</div>\n",
              "\n",
              "    </div>\n",
              "  </div>\n"
            ],
            "application/vnd.google.colaboratory.intrinsic+json": {
              "type": "dataframe",
              "variable_name": "x_train",
              "summary": "{\n  \"name\": \"x_train\",\n  \"rows\": 2976,\n  \"fields\": [\n    {\n      \"column\": \"text\",\n      \"properties\": {\n        \"dtype\": \"string\",\n        \"num_unique_values\": 1791,\n        \"samples\": [\n          \"An old video of a Dassault Rafale aircraft's stunt performance in Austria has resurfaced on social media with claims that it is an aerobatic demonstration by one of the five Rafale jets that India has procured from France.\\n\\nThe first batch of Rafale fighter jets were inducted into the Indian Air Force (IAF) at the Ambala Air Force station on July 29. The five fighter jets were escorted by 02 SU30 MKIs as they entered the Indian air space. According to reports, 36 Rafale jets will be delivered to India by 2022.\\n\\nSeveral netizens have shared the 9 minute long clip believing that the visuals show an aerobatic demonstration by one of the fighter jets from the current batch that touched down the Ambala station. The video has been edited and overlaid with an audio of a song from a Hindi film, Hindustan Ki Kasam.\\n\\nBOOM found that the video is from AirPower 16, an Austrian airshow.\\n\\nThe footage has been captioned on Facebook as, \\\"5 Rafale fighter jets have reached India, see their charisma. Jai Hind.\\\" It has been shared more than 37,000 times at the time of writing this article. (Original text in Hindi: ''#\\u092d\\u093e\\u0930\\u0924 \\u092e\\u0947\\u0902 5 #\\u0930\\u093e\\u092b\\u0947\\u0932 \\u0932\\u0921\\u093e\\u0915\\u0942 #\\u0935\\u093f\\u092e\\u093e\\u0928\\u094b\\u0902 \\u0915\\u093e \\u0939\\u0941\\u0906 \\u0906\\u0917\\u092e\\u0928, \\u0926\\u0947\\u0916\\u0947\\u0902 #\\u0930\\u093e\\u092b\\u0947\\u0932 \\u0915\\u093e #\\u091c\\u0932\\u0935\\u093e \\ud83c\\uddee\\ud83c\\uddf3\\ud83c\\uddee\\ud83c\\uddf3 #\\u091c\\u092f #\\u0939\\u093f\\u0902\\u0926\\\") The post is archived here.\\n\\nAnother Facebook post also claims that these are visuals of airshow of the jets that landed in Ambala.\\n\\nThe post is archived here.\\n\\n\\n\\n\\n\\nAlso Read: 2018 Video Of Dhol Tasha Performance Peddled As Ram Mandir Celebration\\n\\nFact Check BOOM ran a keyword search on Dassault Rafale and found an extended video with the same visuals, which was uploaded on YouTube on September 30, 2016 by PaddyPatrone, an aviation vlogging channel from the platform. According to the description of the video, the uploader had filmed the footage in 2016, in Zeltweg, Austria. The description reads, \\\"Dassault Rafale | MOST BRUTAL JET DISPLAY EVER - I filmed this at the 2016 Airpower in Zeltweg, Austria. I can tell you, this was the hardest filming I did so far. Man that aircraft screamed like hell.\\\"\\n\\nWe reached out to Germany-based Patrick Nern who confirmed that the original video of the airshow was filmed by him at 2016's Airpower 16, in Zeltweg, Austria. BOOM also found another video of the same event which was uploaded on September 5, 2016 on YouTube by Zseraldin Komlosi with the caption, \\\"AirPower 16 ZELTWEG - Dassault RAFALE\\\" \\u00d6sterreichischer Rundfunk, an Austrian national public service broadcaster stated that the airshow was scheduled to be organised on September 2 and 3 that year. It reported \\\"Airpower16 will take place in Zeltweg on September 2nd and 3rd under the motto 'We're flying to Austria.' With 240 aircraft from 20 nations, Airpower16 is not only the second largest event in Austria, but also one of the largest air shows in Europe.\\\"\\n\\n\",\n          \"A video showing a mock drill carried out by the Punjab Police on dealing with uncooperative COVID-19 suspects is being shared as real.\\n\\nThe video shows several uniformed policemen wearing surgical mask, detain a youth who is unwilling to be checked by a doctor.\\n\\nThe claim with the video, in Gurmukhi script, reads 'Team of Punjab police and doctors arrested coronavirus patient. Punjab Police and Doctors are the best in the entire world. Note: This check should be applied in Ludhiana as well'.\\n\\nBOOM found that the claim was false and the video actually shows a mock drill being conducted by Mansa (Punjab) district administration, along with a team of doctors, as part of the district administration's preparedness on COVID-19.\\n\\n(Gurmukhi: \\u0a15\\u0a30\\u0a4c\\u0a28\\u0a3e \\u0a35\\u0a3e\\u0a07\\u0a30\\u0a38 \\u0a26\\u0a47 \\u0a2e\\u0a30\\u0a40\\u0a1c\\u0a3c \\u0a28\\u0a42\\u0a70 \\u0a2a\\u0a70\\u0a1c\\u0a3e\\u0a2c \\u0a2a\\u0a41\\u0a32\\u0a40\\u0a38 \\u0a24\\u0a47 \\u0a21\\u0a3e\\u0a15\\u0a1f\\u0a30\\u0a3e\\u0a02 \\u0a26\\u0a40 \\u0a1f\\u0a40\\u0a2e \\u0a28\\u0a47 \\u0a15\\u0a40\\u0a24\\u0a3e \\u0a17\\u0a3f\\u0a30\\u0a2b\\u0a24\\u0a3e\\u0a30 \\u0a38\\u0a3e\\u0a30\\u0a40 \\u0a26\\u0a41\\u0a28\\u0a40\\u0a06\\u0a70 \\u0a26\\u0a47 \\u0a21\\u0a3e\\u0a15\\u0a1f\\u0a30\\u0a3e\\u0a02 \\u0a24\\u0a47 \\u0a2a\\u0a41\\u0a32\\u0a40\\u0a38 \\u0a35\\u0a3f\\u0a71\\u0a1a\\u0a4b\\u0a02 \\u0a38\\u0a2d \\u0a24\\u0a4b\\u0a02 \\u0a35\\u0a27\\u0a40\\u0a06 \\u0a38\\u0a3e\\u0a21\\u0a40 \\u0a2a\\u0a70\\u0a1c\\u0a3e\\u0a2c \\u0a2a\\u0a41\\u0a32\\u0a40\\u0a38 \\u0a24\\u0a47 \\u0a21\\u0a3e\\u0a15\\u0a1f\\u0a30 \\u0a28\\u0a4b\\u0a1f :- \\u0a07\\u0a39 \\u0a1a\\u0a48\\u0a71\\u0a15 \\u0a28\\u0a3e\\u0a15\\u0a47 \\u0a32\\u0a41\\u0a27\\u0a3f\\u0a06\\u0a23\\u0a47 \\u0a35\\u0a3f\\u0a71\\u0a1a \\u0a1c\\u0a3c\\u0a30\\u0a42\\u0a30 \\u0a32\\u0a17\\u0a3e\\u0a13 )\\n\\nWatch the viral video below and access its archived version here. Other posts with the same video can be accessed here.\\n\\nCheck Coronavirus LIVE Update: Mumbai Records First Death, India's Third\\n\\nNovel Coronavirus is a new strain of coronavirus that was discovered in Wuhan, China. Recently, the World Health Organisation has classified the disease as \\\"pandemic.\\\" In India, the virus has claimed three lives till now and as many as 137 confirmed COVID-19 cases have been found across the country.\\n\\n\\n\\nAlso read: Can A Mask Kill A Virus? A FactCheck\\n\\nThe video clip has been shared on WhatsApp with a similar text that reads: \\\"As we all know any passenger frm spain to India has a obligatory quarentine period ...its amazing wot the Modi Govt offers to the passengers in quarentine ...Amazing ..its in Hindi ..\\\" (Sic)\\n\\n\\n\\n\\n\\nThe 90-second-long video looks quite staged from the onset. The clip shows a man walking through a market area while talking on his phone. Several onlookers wearing masks can be seen in the background. As he approaches a police barricade, some uniformed cops pick him up and a doctors puts a mask on his face. He is then carried away in an ambulance.\\n\\n\\n\\n\\n\\n\\n\\n\\n\\n\\n\\n\\n\\n\\n\\nThe video has also been shared on Twitter.\\n\\n\\n\\nIs it real video of Punjab Coronavirus patients? pic.twitter.com/jS3Xjkh9FH \\u2014 Bahujan - Jai Bhim (@AntiCAA_NPR) March 16, 2020\\n\\nFact Check\\n\\nWhile watching the video carefully, we found that the vehicle registration number - PB31 H 9195 - belongs to Mansa in Punjab.\\n\\nAs the video looks staged, BOOM did a keyword search using '\\u0915\\u094b\\u0930\\u094b\\u0928\\u093e \\u0935\\u093e\\u092f\\u0930\\u0938 \\u092e\\u0949\\u0915 \\u0921\\u094d\\u0930\\u093f\\u0932 \\u092e\\u0928\\u0938\\u093e \\u092a\\u0902\\u091c\\u093e\\u092c' and found that a fact check on the same video had been done by Vishwas News. The Vishwas News article mentions that the the viral video is from Bachhoana village in Budhlada tehsil of Mansa.\\n\\nBOOM then contacted the sub-divisional magistrate of Budhlada, Aditya Dachwal, who watched the video sent by our team and verified it.\\n\\nAditya Dachwal told BOOM, \\\"We conducted a mock drill on March 13, 2020, in order to prepare for the COVID-19.\\\" Dachwal added, \\\"The team included officials from district administration, police department, and doctors.\\\"\",\n          \"An image claiming to show a Black Lives Matter protester in the United States carried a poster which said 'We are not Arabs to kill us and keep silent', is photoshopped and fake.\\n\\n\\n\\nAfter the custodial death of George Floyd, an unarmed black man, by a white policeman in Minneapolis, Minnesota on May 25, 2020, Black Lives Matter protests had erupted all over the United States. The protest has drawn solidarity with people in cities over the world staging their own protest to condemn racial injustice and custodial killings in the US.\\n\\n\\n\\nThe morphed image showing Black Lives Matter protester with the 'We are not Arabs to kill us and keep silent' placard alongside another protester carrying a 'Black Lives Matter' poster has been shared widely by Arab social media users, who were enraged with the image.\\n\\n\\n\\n\\n\\nThe tweet seems to be viral on Arab social media, with Saadon Aldlimi, member of Iraqi Parliament tweeting it. When translated it reads, \\\"Among the slogans raised by protesters in America, which caused pain: We are not Arabs to kill us and keep silent.\\\" The archive of the tweet is available here.\\n\\n\\u0645\\u0646 \\u0627\\u0644\\u0634\\u0639\\u0627\\u0631\\u0627\\u062a \\u0627\\u0644\\u062a\\u064a \\u0631\\u0641\\u0639\\u0647\\u0627 \\u0627\\u0644\\u0645\\u062d\\u062a\\u062c\\u0648\\u0646 \\u0641\\u064a \\u0627\\u0645\\u0631\\u064a\\u0643\\u0627 \\u0648\\u0623\\u062b\\u0627\\u0631\\u062a \\u0627\\u0644\\u0623\\u0648\\u062c\\u0627\\u0639:-\\n\\n\\\"\\u0646\\u062d\\u0646 \\u0644\\u0633\\u0646\\u0627 \\u0639\\u0631\\u0628 \\u0644\\u0643\\u064a \\u062a\\u0642\\u062a\\u0644\\u0648\\u0646\\u0627 \\u0648\\u0646\\u0635\\u0645\\u062a\\\"\\n\\nWe are not ARABS to kill us and keep silent\\n\\n\\u064a\\u0627\\u0644\\u0644\\u0647...\\n\\n\\u0644\\u0642\\u062f \\u0628\\u0627\\u062a \\u0627\\u0644\\u0639\\u0631\\u0628 \\u0645\\u0636\\u0631\\u0628 \\u0645\\u062b\\u0644 \\u0644\\u0644\\u0645\\u0630\\u0644\\u0629 \\u0648\\u0627\\u0644\\u0647\\u0648\\u0627\\u0646 \\u0648\\u0627\\u0644\\u062f\\u0645\\u0627\\u0621 \\u0627\\u0644\\u0631\\u062e\\u064a\\u0635\\u0629. pic.twitter.com/EYKnYIU9FP \\u2014 \\u0633\\u0639\\u062f\\u0648\\u0646 \\u0627\\u0644\\u062f\\u0644\\u064a\\u0645\\u064a (@SaadonAldlimi) May 30, 2020\\n\\nAnother Facebook user put up the tampered photo with the caption, 'the banner shown here of the protests happening in America is a slap on the face of not only Arabs but the whole of Islam. It states that we are not Arabs to kill us and keep silent.'\\n\\n\\n\\n\\n\\n\\n\\nFact Check\\n\\nBOOM did a reverse image search on the photo and found that it had been tampered with.\\n\\nThe original photo is by a Reuters photojournalist Jousha who captured the 2016 Black Lives Matter protests that had erupted in Washington DC. It can be found here.\\n\\n\\n\\n\\n\\n\\n\\nThe protests were against the deaths of Alton Sterling and Philando Castile, who were shot by the police. Philando Castile, a black man was shot and killed in his car by a police officer on 7 July 2016 for a traffic violation in Minnesota. This came on the heels of the death of Alton Sterling, who was shot by the police in Louisiana on 5 July 2016. Black Lives Matter protests had erupted all over the USA, including Washington DC.\\n\\n\\n\\nThe morphed image also seemed to be doing the rounds on the internet for some time. With the help of reverse image search, BOOM also found an Arab news website Goud Ma, debunking the morphed photo back in in 2016 a few days after the original photo was released.\\n\\nThe article, published on 14 July 2016, when translated states that the photo has been tampered with, and links it back to the original photo of the protest.\\n\\n\\n\\n\\n\\n\\n\\nThe original photo can be found here:\\n\\n\\n\\n\\n\\n\\n\\n\\n\\n\"\n        ],\n        \"semantic_type\": \"\",\n        \"description\": \"\"\n      }\n    }\n  ]\n}"
            }
          },
          "metadata": {},
          "execution_count": 80
        }
      ]
    },
    {
      "cell_type": "code",
      "source": [
        "X_test = x_test"
      ],
      "metadata": {
        "id": "4HKQia5LfzpX"
      },
      "execution_count": 81,
      "outputs": []
    },
    {
      "cell_type": "code",
      "source": [
        "y_train.head()"
      ],
      "metadata": {
        "colab": {
          "base_uri": "https://localhost:8080/",
          "height": 241
        },
        "id": "QsNlwlyJf2Hp",
        "outputId": "6e51d3f8-84f3-4557-d627-619a34e868e3"
      },
      "execution_count": 82,
      "outputs": [
        {
          "output_type": "execute_result",
          "data": {
            "text/plain": [
              "209     FAKE\n",
              "3374    REAL\n",
              "3540    FAKE\n",
              "2472    FAKE\n",
              "2510    REAL\n",
              "Name: label, dtype: object"
            ],
            "text/html": [
              "<div>\n",
              "<style scoped>\n",
              "    .dataframe tbody tr th:only-of-type {\n",
              "        vertical-align: middle;\n",
              "    }\n",
              "\n",
              "    .dataframe tbody tr th {\n",
              "        vertical-align: top;\n",
              "    }\n",
              "\n",
              "    .dataframe thead th {\n",
              "        text-align: right;\n",
              "    }\n",
              "</style>\n",
              "<table border=\"1\" class=\"dataframe\">\n",
              "  <thead>\n",
              "    <tr style=\"text-align: right;\">\n",
              "      <th></th>\n",
              "      <th>label</th>\n",
              "    </tr>\n",
              "  </thead>\n",
              "  <tbody>\n",
              "    <tr>\n",
              "      <th>209</th>\n",
              "      <td>FAKE</td>\n",
              "    </tr>\n",
              "    <tr>\n",
              "      <th>3374</th>\n",
              "      <td>REAL</td>\n",
              "    </tr>\n",
              "    <tr>\n",
              "      <th>3540</th>\n",
              "      <td>FAKE</td>\n",
              "    </tr>\n",
              "    <tr>\n",
              "      <th>2472</th>\n",
              "      <td>FAKE</td>\n",
              "    </tr>\n",
              "    <tr>\n",
              "      <th>2510</th>\n",
              "      <td>REAL</td>\n",
              "    </tr>\n",
              "  </tbody>\n",
              "</table>\n",
              "</div><br><label><b>dtype:</b> object</label>"
            ]
          },
          "metadata": {},
          "execution_count": 82
        }
      ]
    },
    {
      "cell_type": "code",
      "source": [
        "X_train.head()"
      ],
      "metadata": {
        "colab": {
          "base_uri": "https://localhost:8080/",
          "height": 206
        },
        "id": "62MwgwIsf4Ij",
        "outputId": "6c4dc13e-5cc1-4218-b9be-003b1969709c"
      },
      "execution_count": 83,
      "outputs": [
        {
          "output_type": "execute_result",
          "data": {
            "text/plain": [
              "                                                   text\n",
              "209   Several mainstream news outlets such as the Ti...\n",
              "3374  NEW DELHI: The Drugs Controller General of Ind...\n",
              "3540  A screenshot purporting to be a newspaper clip...\n",
              "2472  A viral video of a woman with infant traveling...\n",
              "2510  Read Also\\n\\nBe it winning hearts or winning t..."
            ],
            "text/html": [
              "\n",
              "  <div id=\"df-ddd84829-5eb6-445a-9fbc-30cdefaf60d0\" class=\"colab-df-container\">\n",
              "    <div>\n",
              "<style scoped>\n",
              "    .dataframe tbody tr th:only-of-type {\n",
              "        vertical-align: middle;\n",
              "    }\n",
              "\n",
              "    .dataframe tbody tr th {\n",
              "        vertical-align: top;\n",
              "    }\n",
              "\n",
              "    .dataframe thead th {\n",
              "        text-align: right;\n",
              "    }\n",
              "</style>\n",
              "<table border=\"1\" class=\"dataframe\">\n",
              "  <thead>\n",
              "    <tr style=\"text-align: right;\">\n",
              "      <th></th>\n",
              "      <th>text</th>\n",
              "    </tr>\n",
              "  </thead>\n",
              "  <tbody>\n",
              "    <tr>\n",
              "      <th>209</th>\n",
              "      <td>Several mainstream news outlets such as the Ti...</td>\n",
              "    </tr>\n",
              "    <tr>\n",
              "      <th>3374</th>\n",
              "      <td>NEW DELHI: The Drugs Controller General of Ind...</td>\n",
              "    </tr>\n",
              "    <tr>\n",
              "      <th>3540</th>\n",
              "      <td>A screenshot purporting to be a newspaper clip...</td>\n",
              "    </tr>\n",
              "    <tr>\n",
              "      <th>2472</th>\n",
              "      <td>A viral video of a woman with infant traveling...</td>\n",
              "    </tr>\n",
              "    <tr>\n",
              "      <th>2510</th>\n",
              "      <td>Read Also\\n\\nBe it winning hearts or winning t...</td>\n",
              "    </tr>\n",
              "  </tbody>\n",
              "</table>\n",
              "</div>\n",
              "    <div class=\"colab-df-buttons\">\n",
              "\n",
              "  <div class=\"colab-df-container\">\n",
              "    <button class=\"colab-df-convert\" onclick=\"convertToInteractive('df-ddd84829-5eb6-445a-9fbc-30cdefaf60d0')\"\n",
              "            title=\"Convert this dataframe to an interactive table.\"\n",
              "            style=\"display:none;\">\n",
              "\n",
              "  <svg xmlns=\"http://www.w3.org/2000/svg\" height=\"24px\" viewBox=\"0 -960 960 960\">\n",
              "    <path d=\"M120-120v-720h720v720H120Zm60-500h600v-160H180v160Zm220 220h160v-160H400v160Zm0 220h160v-160H400v160ZM180-400h160v-160H180v160Zm440 0h160v-160H620v160ZM180-180h160v-160H180v160Zm440 0h160v-160H620v160Z\"/>\n",
              "  </svg>\n",
              "    </button>\n",
              "\n",
              "  <style>\n",
              "    .colab-df-container {\n",
              "      display:flex;\n",
              "      gap: 12px;\n",
              "    }\n",
              "\n",
              "    .colab-df-convert {\n",
              "      background-color: #E8F0FE;\n",
              "      border: none;\n",
              "      border-radius: 50%;\n",
              "      cursor: pointer;\n",
              "      display: none;\n",
              "      fill: #1967D2;\n",
              "      height: 32px;\n",
              "      padding: 0 0 0 0;\n",
              "      width: 32px;\n",
              "    }\n",
              "\n",
              "    .colab-df-convert:hover {\n",
              "      background-color: #E2EBFA;\n",
              "      box-shadow: 0px 1px 2px rgba(60, 64, 67, 0.3), 0px 1px 3px 1px rgba(60, 64, 67, 0.15);\n",
              "      fill: #174EA6;\n",
              "    }\n",
              "\n",
              "    .colab-df-buttons div {\n",
              "      margin-bottom: 4px;\n",
              "    }\n",
              "\n",
              "    [theme=dark] .colab-df-convert {\n",
              "      background-color: #3B4455;\n",
              "      fill: #D2E3FC;\n",
              "    }\n",
              "\n",
              "    [theme=dark] .colab-df-convert:hover {\n",
              "      background-color: #434B5C;\n",
              "      box-shadow: 0px 1px 3px 1px rgba(0, 0, 0, 0.15);\n",
              "      filter: drop-shadow(0px 1px 2px rgba(0, 0, 0, 0.3));\n",
              "      fill: #FFFFFF;\n",
              "    }\n",
              "  </style>\n",
              "\n",
              "    <script>\n",
              "      const buttonEl =\n",
              "        document.querySelector('#df-ddd84829-5eb6-445a-9fbc-30cdefaf60d0 button.colab-df-convert');\n",
              "      buttonEl.style.display =\n",
              "        google.colab.kernel.accessAllowed ? 'block' : 'none';\n",
              "\n",
              "      async function convertToInteractive(key) {\n",
              "        const element = document.querySelector('#df-ddd84829-5eb6-445a-9fbc-30cdefaf60d0');\n",
              "        const dataTable =\n",
              "          await google.colab.kernel.invokeFunction('convertToInteractive',\n",
              "                                                    [key], {});\n",
              "        if (!dataTable) return;\n",
              "\n",
              "        const docLinkHtml = 'Like what you see? Visit the ' +\n",
              "          '<a target=\"_blank\" href=https://colab.research.google.com/notebooks/data_table.ipynb>data table notebook</a>'\n",
              "          + ' to learn more about interactive tables.';\n",
              "        element.innerHTML = '';\n",
              "        dataTable['output_type'] = 'display_data';\n",
              "        await google.colab.output.renderOutput(dataTable, element);\n",
              "        const docLink = document.createElement('div');\n",
              "        docLink.innerHTML = docLinkHtml;\n",
              "        element.appendChild(docLink);\n",
              "      }\n",
              "    </script>\n",
              "  </div>\n",
              "\n",
              "\n",
              "<div id=\"df-cde542a6-1369-4a8c-96af-5608cf11378b\">\n",
              "  <button class=\"colab-df-quickchart\" onclick=\"quickchart('df-cde542a6-1369-4a8c-96af-5608cf11378b')\"\n",
              "            title=\"Suggest charts\"\n",
              "            style=\"display:none;\">\n",
              "\n",
              "<svg xmlns=\"http://www.w3.org/2000/svg\" height=\"24px\"viewBox=\"0 0 24 24\"\n",
              "     width=\"24px\">\n",
              "    <g>\n",
              "        <path d=\"M19 3H5c-1.1 0-2 .9-2 2v14c0 1.1.9 2 2 2h14c1.1 0 2-.9 2-2V5c0-1.1-.9-2-2-2zM9 17H7v-7h2v7zm4 0h-2V7h2v10zm4 0h-2v-4h2v4z\"/>\n",
              "    </g>\n",
              "</svg>\n",
              "  </button>\n",
              "\n",
              "<style>\n",
              "  .colab-df-quickchart {\n",
              "      --bg-color: #E8F0FE;\n",
              "      --fill-color: #1967D2;\n",
              "      --hover-bg-color: #E2EBFA;\n",
              "      --hover-fill-color: #174EA6;\n",
              "      --disabled-fill-color: #AAA;\n",
              "      --disabled-bg-color: #DDD;\n",
              "  }\n",
              "\n",
              "  [theme=dark] .colab-df-quickchart {\n",
              "      --bg-color: #3B4455;\n",
              "      --fill-color: #D2E3FC;\n",
              "      --hover-bg-color: #434B5C;\n",
              "      --hover-fill-color: #FFFFFF;\n",
              "      --disabled-bg-color: #3B4455;\n",
              "      --disabled-fill-color: #666;\n",
              "  }\n",
              "\n",
              "  .colab-df-quickchart {\n",
              "    background-color: var(--bg-color);\n",
              "    border: none;\n",
              "    border-radius: 50%;\n",
              "    cursor: pointer;\n",
              "    display: none;\n",
              "    fill: var(--fill-color);\n",
              "    height: 32px;\n",
              "    padding: 0;\n",
              "    width: 32px;\n",
              "  }\n",
              "\n",
              "  .colab-df-quickchart:hover {\n",
              "    background-color: var(--hover-bg-color);\n",
              "    box-shadow: 0 1px 2px rgba(60, 64, 67, 0.3), 0 1px 3px 1px rgba(60, 64, 67, 0.15);\n",
              "    fill: var(--button-hover-fill-color);\n",
              "  }\n",
              "\n",
              "  .colab-df-quickchart-complete:disabled,\n",
              "  .colab-df-quickchart-complete:disabled:hover {\n",
              "    background-color: var(--disabled-bg-color);\n",
              "    fill: var(--disabled-fill-color);\n",
              "    box-shadow: none;\n",
              "  }\n",
              "\n",
              "  .colab-df-spinner {\n",
              "    border: 2px solid var(--fill-color);\n",
              "    border-color: transparent;\n",
              "    border-bottom-color: var(--fill-color);\n",
              "    animation:\n",
              "      spin 1s steps(1) infinite;\n",
              "  }\n",
              "\n",
              "  @keyframes spin {\n",
              "    0% {\n",
              "      border-color: transparent;\n",
              "      border-bottom-color: var(--fill-color);\n",
              "      border-left-color: var(--fill-color);\n",
              "    }\n",
              "    20% {\n",
              "      border-color: transparent;\n",
              "      border-left-color: var(--fill-color);\n",
              "      border-top-color: var(--fill-color);\n",
              "    }\n",
              "    30% {\n",
              "      border-color: transparent;\n",
              "      border-left-color: var(--fill-color);\n",
              "      border-top-color: var(--fill-color);\n",
              "      border-right-color: var(--fill-color);\n",
              "    }\n",
              "    40% {\n",
              "      border-color: transparent;\n",
              "      border-right-color: var(--fill-color);\n",
              "      border-top-color: var(--fill-color);\n",
              "    }\n",
              "    60% {\n",
              "      border-color: transparent;\n",
              "      border-right-color: var(--fill-color);\n",
              "    }\n",
              "    80% {\n",
              "      border-color: transparent;\n",
              "      border-right-color: var(--fill-color);\n",
              "      border-bottom-color: var(--fill-color);\n",
              "    }\n",
              "    90% {\n",
              "      border-color: transparent;\n",
              "      border-bottom-color: var(--fill-color);\n",
              "    }\n",
              "  }\n",
              "</style>\n",
              "\n",
              "  <script>\n",
              "    async function quickchart(key) {\n",
              "      const quickchartButtonEl =\n",
              "        document.querySelector('#' + key + ' button');\n",
              "      quickchartButtonEl.disabled = true;  // To prevent multiple clicks.\n",
              "      quickchartButtonEl.classList.add('colab-df-spinner');\n",
              "      try {\n",
              "        const charts = await google.colab.kernel.invokeFunction(\n",
              "            'suggestCharts', [key], {});\n",
              "      } catch (error) {\n",
              "        console.error('Error during call to suggestCharts:', error);\n",
              "      }\n",
              "      quickchartButtonEl.classList.remove('colab-df-spinner');\n",
              "      quickchartButtonEl.classList.add('colab-df-quickchart-complete');\n",
              "    }\n",
              "    (() => {\n",
              "      let quickchartButtonEl =\n",
              "        document.querySelector('#df-cde542a6-1369-4a8c-96af-5608cf11378b button');\n",
              "      quickchartButtonEl.style.display =\n",
              "        google.colab.kernel.accessAllowed ? 'block' : 'none';\n",
              "    })();\n",
              "  </script>\n",
              "</div>\n",
              "\n",
              "    </div>\n",
              "  </div>\n"
            ],
            "application/vnd.google.colaboratory.intrinsic+json": {
              "type": "dataframe",
              "variable_name": "X_train",
              "summary": "{\n  \"name\": \"X_train\",\n  \"rows\": 2976,\n  \"fields\": [\n    {\n      \"column\": \"text\",\n      \"properties\": {\n        \"dtype\": \"string\",\n        \"num_unique_values\": 1791,\n        \"samples\": [\n          \"An old video of a Dassault Rafale aircraft's stunt performance in Austria has resurfaced on social media with claims that it is an aerobatic demonstration by one of the five Rafale jets that India has procured from France.\\n\\nThe first batch of Rafale fighter jets were inducted into the Indian Air Force (IAF) at the Ambala Air Force station on July 29. The five fighter jets were escorted by 02 SU30 MKIs as they entered the Indian air space. According to reports, 36 Rafale jets will be delivered to India by 2022.\\n\\nSeveral netizens have shared the 9 minute long clip believing that the visuals show an aerobatic demonstration by one of the fighter jets from the current batch that touched down the Ambala station. The video has been edited and overlaid with an audio of a song from a Hindi film, Hindustan Ki Kasam.\\n\\nBOOM found that the video is from AirPower 16, an Austrian airshow.\\n\\nThe footage has been captioned on Facebook as, \\\"5 Rafale fighter jets have reached India, see their charisma. Jai Hind.\\\" It has been shared more than 37,000 times at the time of writing this article. (Original text in Hindi: ''#\\u092d\\u093e\\u0930\\u0924 \\u092e\\u0947\\u0902 5 #\\u0930\\u093e\\u092b\\u0947\\u0932 \\u0932\\u0921\\u093e\\u0915\\u0942 #\\u0935\\u093f\\u092e\\u093e\\u0928\\u094b\\u0902 \\u0915\\u093e \\u0939\\u0941\\u0906 \\u0906\\u0917\\u092e\\u0928, \\u0926\\u0947\\u0916\\u0947\\u0902 #\\u0930\\u093e\\u092b\\u0947\\u0932 \\u0915\\u093e #\\u091c\\u0932\\u0935\\u093e \\ud83c\\uddee\\ud83c\\uddf3\\ud83c\\uddee\\ud83c\\uddf3 #\\u091c\\u092f #\\u0939\\u093f\\u0902\\u0926\\\") The post is archived here.\\n\\nAnother Facebook post also claims that these are visuals of airshow of the jets that landed in Ambala.\\n\\nThe post is archived here.\\n\\n\\n\\n\\n\\nAlso Read: 2018 Video Of Dhol Tasha Performance Peddled As Ram Mandir Celebration\\n\\nFact Check BOOM ran a keyword search on Dassault Rafale and found an extended video with the same visuals, which was uploaded on YouTube on September 30, 2016 by PaddyPatrone, an aviation vlogging channel from the platform. According to the description of the video, the uploader had filmed the footage in 2016, in Zeltweg, Austria. The description reads, \\\"Dassault Rafale | MOST BRUTAL JET DISPLAY EVER - I filmed this at the 2016 Airpower in Zeltweg, Austria. I can tell you, this was the hardest filming I did so far. Man that aircraft screamed like hell.\\\"\\n\\nWe reached out to Germany-based Patrick Nern who confirmed that the original video of the airshow was filmed by him at 2016's Airpower 16, in Zeltweg, Austria. BOOM also found another video of the same event which was uploaded on September 5, 2016 on YouTube by Zseraldin Komlosi with the caption, \\\"AirPower 16 ZELTWEG - Dassault RAFALE\\\" \\u00d6sterreichischer Rundfunk, an Austrian national public service broadcaster stated that the airshow was scheduled to be organised on September 2 and 3 that year. It reported \\\"Airpower16 will take place in Zeltweg on September 2nd and 3rd under the motto 'We're flying to Austria.' With 240 aircraft from 20 nations, Airpower16 is not only the second largest event in Austria, but also one of the largest air shows in Europe.\\\"\\n\\n\",\n          \"A video showing a mock drill carried out by the Punjab Police on dealing with uncooperative COVID-19 suspects is being shared as real.\\n\\nThe video shows several uniformed policemen wearing surgical mask, detain a youth who is unwilling to be checked by a doctor.\\n\\nThe claim with the video, in Gurmukhi script, reads 'Team of Punjab police and doctors arrested coronavirus patient. Punjab Police and Doctors are the best in the entire world. Note: This check should be applied in Ludhiana as well'.\\n\\nBOOM found that the claim was false and the video actually shows a mock drill being conducted by Mansa (Punjab) district administration, along with a team of doctors, as part of the district administration's preparedness on COVID-19.\\n\\n(Gurmukhi: \\u0a15\\u0a30\\u0a4c\\u0a28\\u0a3e \\u0a35\\u0a3e\\u0a07\\u0a30\\u0a38 \\u0a26\\u0a47 \\u0a2e\\u0a30\\u0a40\\u0a1c\\u0a3c \\u0a28\\u0a42\\u0a70 \\u0a2a\\u0a70\\u0a1c\\u0a3e\\u0a2c \\u0a2a\\u0a41\\u0a32\\u0a40\\u0a38 \\u0a24\\u0a47 \\u0a21\\u0a3e\\u0a15\\u0a1f\\u0a30\\u0a3e\\u0a02 \\u0a26\\u0a40 \\u0a1f\\u0a40\\u0a2e \\u0a28\\u0a47 \\u0a15\\u0a40\\u0a24\\u0a3e \\u0a17\\u0a3f\\u0a30\\u0a2b\\u0a24\\u0a3e\\u0a30 \\u0a38\\u0a3e\\u0a30\\u0a40 \\u0a26\\u0a41\\u0a28\\u0a40\\u0a06\\u0a70 \\u0a26\\u0a47 \\u0a21\\u0a3e\\u0a15\\u0a1f\\u0a30\\u0a3e\\u0a02 \\u0a24\\u0a47 \\u0a2a\\u0a41\\u0a32\\u0a40\\u0a38 \\u0a35\\u0a3f\\u0a71\\u0a1a\\u0a4b\\u0a02 \\u0a38\\u0a2d \\u0a24\\u0a4b\\u0a02 \\u0a35\\u0a27\\u0a40\\u0a06 \\u0a38\\u0a3e\\u0a21\\u0a40 \\u0a2a\\u0a70\\u0a1c\\u0a3e\\u0a2c \\u0a2a\\u0a41\\u0a32\\u0a40\\u0a38 \\u0a24\\u0a47 \\u0a21\\u0a3e\\u0a15\\u0a1f\\u0a30 \\u0a28\\u0a4b\\u0a1f :- \\u0a07\\u0a39 \\u0a1a\\u0a48\\u0a71\\u0a15 \\u0a28\\u0a3e\\u0a15\\u0a47 \\u0a32\\u0a41\\u0a27\\u0a3f\\u0a06\\u0a23\\u0a47 \\u0a35\\u0a3f\\u0a71\\u0a1a \\u0a1c\\u0a3c\\u0a30\\u0a42\\u0a30 \\u0a32\\u0a17\\u0a3e\\u0a13 )\\n\\nWatch the viral video below and access its archived version here. Other posts with the same video can be accessed here.\\n\\nCheck Coronavirus LIVE Update: Mumbai Records First Death, India's Third\\n\\nNovel Coronavirus is a new strain of coronavirus that was discovered in Wuhan, China. Recently, the World Health Organisation has classified the disease as \\\"pandemic.\\\" In India, the virus has claimed three lives till now and as many as 137 confirmed COVID-19 cases have been found across the country.\\n\\n\\n\\nAlso read: Can A Mask Kill A Virus? A FactCheck\\n\\nThe video clip has been shared on WhatsApp with a similar text that reads: \\\"As we all know any passenger frm spain to India has a obligatory quarentine period ...its amazing wot the Modi Govt offers to the passengers in quarentine ...Amazing ..its in Hindi ..\\\" (Sic)\\n\\n\\n\\n\\n\\nThe 90-second-long video looks quite staged from the onset. The clip shows a man walking through a market area while talking on his phone. Several onlookers wearing masks can be seen in the background. As he approaches a police barricade, some uniformed cops pick him up and a doctors puts a mask on his face. He is then carried away in an ambulance.\\n\\n\\n\\n\\n\\n\\n\\n\\n\\n\\n\\n\\n\\n\\n\\nThe video has also been shared on Twitter.\\n\\n\\n\\nIs it real video of Punjab Coronavirus patients? pic.twitter.com/jS3Xjkh9FH \\u2014 Bahujan - Jai Bhim (@AntiCAA_NPR) March 16, 2020\\n\\nFact Check\\n\\nWhile watching the video carefully, we found that the vehicle registration number - PB31 H 9195 - belongs to Mansa in Punjab.\\n\\nAs the video looks staged, BOOM did a keyword search using '\\u0915\\u094b\\u0930\\u094b\\u0928\\u093e \\u0935\\u093e\\u092f\\u0930\\u0938 \\u092e\\u0949\\u0915 \\u0921\\u094d\\u0930\\u093f\\u0932 \\u092e\\u0928\\u0938\\u093e \\u092a\\u0902\\u091c\\u093e\\u092c' and found that a fact check on the same video had been done by Vishwas News. The Vishwas News article mentions that the the viral video is from Bachhoana village in Budhlada tehsil of Mansa.\\n\\nBOOM then contacted the sub-divisional magistrate of Budhlada, Aditya Dachwal, who watched the video sent by our team and verified it.\\n\\nAditya Dachwal told BOOM, \\\"We conducted a mock drill on March 13, 2020, in order to prepare for the COVID-19.\\\" Dachwal added, \\\"The team included officials from district administration, police department, and doctors.\\\"\",\n          \"An image claiming to show a Black Lives Matter protester in the United States carried a poster which said 'We are not Arabs to kill us and keep silent', is photoshopped and fake.\\n\\n\\n\\nAfter the custodial death of George Floyd, an unarmed black man, by a white policeman in Minneapolis, Minnesota on May 25, 2020, Black Lives Matter protests had erupted all over the United States. The protest has drawn solidarity with people in cities over the world staging their own protest to condemn racial injustice and custodial killings in the US.\\n\\n\\n\\nThe morphed image showing Black Lives Matter protester with the 'We are not Arabs to kill us and keep silent' placard alongside another protester carrying a 'Black Lives Matter' poster has been shared widely by Arab social media users, who were enraged with the image.\\n\\n\\n\\n\\n\\nThe tweet seems to be viral on Arab social media, with Saadon Aldlimi, member of Iraqi Parliament tweeting it. When translated it reads, \\\"Among the slogans raised by protesters in America, which caused pain: We are not Arabs to kill us and keep silent.\\\" The archive of the tweet is available here.\\n\\n\\u0645\\u0646 \\u0627\\u0644\\u0634\\u0639\\u0627\\u0631\\u0627\\u062a \\u0627\\u0644\\u062a\\u064a \\u0631\\u0641\\u0639\\u0647\\u0627 \\u0627\\u0644\\u0645\\u062d\\u062a\\u062c\\u0648\\u0646 \\u0641\\u064a \\u0627\\u0645\\u0631\\u064a\\u0643\\u0627 \\u0648\\u0623\\u062b\\u0627\\u0631\\u062a \\u0627\\u0644\\u0623\\u0648\\u062c\\u0627\\u0639:-\\n\\n\\\"\\u0646\\u062d\\u0646 \\u0644\\u0633\\u0646\\u0627 \\u0639\\u0631\\u0628 \\u0644\\u0643\\u064a \\u062a\\u0642\\u062a\\u0644\\u0648\\u0646\\u0627 \\u0648\\u0646\\u0635\\u0645\\u062a\\\"\\n\\nWe are not ARABS to kill us and keep silent\\n\\n\\u064a\\u0627\\u0644\\u0644\\u0647...\\n\\n\\u0644\\u0642\\u062f \\u0628\\u0627\\u062a \\u0627\\u0644\\u0639\\u0631\\u0628 \\u0645\\u0636\\u0631\\u0628 \\u0645\\u062b\\u0644 \\u0644\\u0644\\u0645\\u0630\\u0644\\u0629 \\u0648\\u0627\\u0644\\u0647\\u0648\\u0627\\u0646 \\u0648\\u0627\\u0644\\u062f\\u0645\\u0627\\u0621 \\u0627\\u0644\\u0631\\u062e\\u064a\\u0635\\u0629. pic.twitter.com/EYKnYIU9FP \\u2014 \\u0633\\u0639\\u062f\\u0648\\u0646 \\u0627\\u0644\\u062f\\u0644\\u064a\\u0645\\u064a (@SaadonAldlimi) May 30, 2020\\n\\nAnother Facebook user put up the tampered photo with the caption, 'the banner shown here of the protests happening in America is a slap on the face of not only Arabs but the whole of Islam. It states that we are not Arabs to kill us and keep silent.'\\n\\n\\n\\n\\n\\n\\n\\nFact Check\\n\\nBOOM did a reverse image search on the photo and found that it had been tampered with.\\n\\nThe original photo is by a Reuters photojournalist Jousha who captured the 2016 Black Lives Matter protests that had erupted in Washington DC. It can be found here.\\n\\n\\n\\n\\n\\n\\n\\nThe protests were against the deaths of Alton Sterling and Philando Castile, who were shot by the police. Philando Castile, a black man was shot and killed in his car by a police officer on 7 July 2016 for a traffic violation in Minnesota. This came on the heels of the death of Alton Sterling, who was shot by the police in Louisiana on 5 July 2016. Black Lives Matter protests had erupted all over the USA, including Washington DC.\\n\\n\\n\\nThe morphed image also seemed to be doing the rounds on the internet for some time. With the help of reverse image search, BOOM also found an Arab news website Goud Ma, debunking the morphed photo back in in 2016 a few days after the original photo was released.\\n\\nThe article, published on 14 July 2016, when translated states that the photo has been tampered with, and links it back to the original photo of the protest.\\n\\n\\n\\n\\n\\n\\n\\nThe original photo can be found here:\\n\\n\\n\\n\\n\\n\\n\\n\\n\\n\"\n        ],\n        \"semantic_type\": \"\",\n        \"description\": \"\"\n      }\n    }\n  ]\n}"
            }
          },
          "metadata": {},
          "execution_count": 83
        }
      ]
    },
    {
      "cell_type": "code",
      "source": [
        "X_test.head(10)"
      ],
      "metadata": {
        "colab": {
          "base_uri": "https://localhost:8080/",
          "height": 363
        },
        "id": "Na7f1Bwof5wQ",
        "outputId": "63ad8e7a-b89b-418d-86d7-fe507949236d"
      },
      "execution_count": 84,
      "outputs": [
        {
          "output_type": "execute_result",
          "data": {
            "text/plain": [
              "                                                   text\n",
              "908   NEW DELHI: A final decision on Pakistan's stat...\n",
              "3454  NEW DELHI: Seven of the top 10 most valued dom...\n",
              "1790  Kareena Kapoor Khan, who is all set to ring in...\n",
              "1167  A photo purporting to show a television news g...\n",
              "1605  A disturbing video of a woman being flogged by...\n",
              "184   A graphic photo of a human skeleton found insi...\n",
              "2960  Delhi: A high-level meeting underway at reside...\n",
              "1067  Social media has been rife with reports of the...\n",
              "2348  A disturbing CCTV footage showing a Tamil Nadu...\n",
              "3417  A disturbing video of a mentally ill woman hec..."
            ],
            "text/html": [
              "\n",
              "  <div id=\"df-6d27ae5c-7672-4f07-b5c4-895c9f302873\" class=\"colab-df-container\">\n",
              "    <div>\n",
              "<style scoped>\n",
              "    .dataframe tbody tr th:only-of-type {\n",
              "        vertical-align: middle;\n",
              "    }\n",
              "\n",
              "    .dataframe tbody tr th {\n",
              "        vertical-align: top;\n",
              "    }\n",
              "\n",
              "    .dataframe thead th {\n",
              "        text-align: right;\n",
              "    }\n",
              "</style>\n",
              "<table border=\"1\" class=\"dataframe\">\n",
              "  <thead>\n",
              "    <tr style=\"text-align: right;\">\n",
              "      <th></th>\n",
              "      <th>text</th>\n",
              "    </tr>\n",
              "  </thead>\n",
              "  <tbody>\n",
              "    <tr>\n",
              "      <th>908</th>\n",
              "      <td>NEW DELHI: A final decision on Pakistan's stat...</td>\n",
              "    </tr>\n",
              "    <tr>\n",
              "      <th>3454</th>\n",
              "      <td>NEW DELHI: Seven of the top 10 most valued dom...</td>\n",
              "    </tr>\n",
              "    <tr>\n",
              "      <th>1790</th>\n",
              "      <td>Kareena Kapoor Khan, who is all set to ring in...</td>\n",
              "    </tr>\n",
              "    <tr>\n",
              "      <th>1167</th>\n",
              "      <td>A photo purporting to show a television news g...</td>\n",
              "    </tr>\n",
              "    <tr>\n",
              "      <th>1605</th>\n",
              "      <td>A disturbing video of a woman being flogged by...</td>\n",
              "    </tr>\n",
              "    <tr>\n",
              "      <th>184</th>\n",
              "      <td>A graphic photo of a human skeleton found insi...</td>\n",
              "    </tr>\n",
              "    <tr>\n",
              "      <th>2960</th>\n",
              "      <td>Delhi: A high-level meeting underway at reside...</td>\n",
              "    </tr>\n",
              "    <tr>\n",
              "      <th>1067</th>\n",
              "      <td>Social media has been rife with reports of the...</td>\n",
              "    </tr>\n",
              "    <tr>\n",
              "      <th>2348</th>\n",
              "      <td>A disturbing CCTV footage showing a Tamil Nadu...</td>\n",
              "    </tr>\n",
              "    <tr>\n",
              "      <th>3417</th>\n",
              "      <td>A disturbing video of a mentally ill woman hec...</td>\n",
              "    </tr>\n",
              "  </tbody>\n",
              "</table>\n",
              "</div>\n",
              "    <div class=\"colab-df-buttons\">\n",
              "\n",
              "  <div class=\"colab-df-container\">\n",
              "    <button class=\"colab-df-convert\" onclick=\"convertToInteractive('df-6d27ae5c-7672-4f07-b5c4-895c9f302873')\"\n",
              "            title=\"Convert this dataframe to an interactive table.\"\n",
              "            style=\"display:none;\">\n",
              "\n",
              "  <svg xmlns=\"http://www.w3.org/2000/svg\" height=\"24px\" viewBox=\"0 -960 960 960\">\n",
              "    <path d=\"M120-120v-720h720v720H120Zm60-500h600v-160H180v160Zm220 220h160v-160H400v160Zm0 220h160v-160H400v160ZM180-400h160v-160H180v160Zm440 0h160v-160H620v160ZM180-180h160v-160H180v160Zm440 0h160v-160H620v160Z\"/>\n",
              "  </svg>\n",
              "    </button>\n",
              "\n",
              "  <style>\n",
              "    .colab-df-container {\n",
              "      display:flex;\n",
              "      gap: 12px;\n",
              "    }\n",
              "\n",
              "    .colab-df-convert {\n",
              "      background-color: #E8F0FE;\n",
              "      border: none;\n",
              "      border-radius: 50%;\n",
              "      cursor: pointer;\n",
              "      display: none;\n",
              "      fill: #1967D2;\n",
              "      height: 32px;\n",
              "      padding: 0 0 0 0;\n",
              "      width: 32px;\n",
              "    }\n",
              "\n",
              "    .colab-df-convert:hover {\n",
              "      background-color: #E2EBFA;\n",
              "      box-shadow: 0px 1px 2px rgba(60, 64, 67, 0.3), 0px 1px 3px 1px rgba(60, 64, 67, 0.15);\n",
              "      fill: #174EA6;\n",
              "    }\n",
              "\n",
              "    .colab-df-buttons div {\n",
              "      margin-bottom: 4px;\n",
              "    }\n",
              "\n",
              "    [theme=dark] .colab-df-convert {\n",
              "      background-color: #3B4455;\n",
              "      fill: #D2E3FC;\n",
              "    }\n",
              "\n",
              "    [theme=dark] .colab-df-convert:hover {\n",
              "      background-color: #434B5C;\n",
              "      box-shadow: 0px 1px 3px 1px rgba(0, 0, 0, 0.15);\n",
              "      filter: drop-shadow(0px 1px 2px rgba(0, 0, 0, 0.3));\n",
              "      fill: #FFFFFF;\n",
              "    }\n",
              "  </style>\n",
              "\n",
              "    <script>\n",
              "      const buttonEl =\n",
              "        document.querySelector('#df-6d27ae5c-7672-4f07-b5c4-895c9f302873 button.colab-df-convert');\n",
              "      buttonEl.style.display =\n",
              "        google.colab.kernel.accessAllowed ? 'block' : 'none';\n",
              "\n",
              "      async function convertToInteractive(key) {\n",
              "        const element = document.querySelector('#df-6d27ae5c-7672-4f07-b5c4-895c9f302873');\n",
              "        const dataTable =\n",
              "          await google.colab.kernel.invokeFunction('convertToInteractive',\n",
              "                                                    [key], {});\n",
              "        if (!dataTable) return;\n",
              "\n",
              "        const docLinkHtml = 'Like what you see? Visit the ' +\n",
              "          '<a target=\"_blank\" href=https://colab.research.google.com/notebooks/data_table.ipynb>data table notebook</a>'\n",
              "          + ' to learn more about interactive tables.';\n",
              "        element.innerHTML = '';\n",
              "        dataTable['output_type'] = 'display_data';\n",
              "        await google.colab.output.renderOutput(dataTable, element);\n",
              "        const docLink = document.createElement('div');\n",
              "        docLink.innerHTML = docLinkHtml;\n",
              "        element.appendChild(docLink);\n",
              "      }\n",
              "    </script>\n",
              "  </div>\n",
              "\n",
              "\n",
              "<div id=\"df-7305c717-d2a5-4da2-889f-d2f80162bd13\">\n",
              "  <button class=\"colab-df-quickchart\" onclick=\"quickchart('df-7305c717-d2a5-4da2-889f-d2f80162bd13')\"\n",
              "            title=\"Suggest charts\"\n",
              "            style=\"display:none;\">\n",
              "\n",
              "<svg xmlns=\"http://www.w3.org/2000/svg\" height=\"24px\"viewBox=\"0 0 24 24\"\n",
              "     width=\"24px\">\n",
              "    <g>\n",
              "        <path d=\"M19 3H5c-1.1 0-2 .9-2 2v14c0 1.1.9 2 2 2h14c1.1 0 2-.9 2-2V5c0-1.1-.9-2-2-2zM9 17H7v-7h2v7zm4 0h-2V7h2v10zm4 0h-2v-4h2v4z\"/>\n",
              "    </g>\n",
              "</svg>\n",
              "  </button>\n",
              "\n",
              "<style>\n",
              "  .colab-df-quickchart {\n",
              "      --bg-color: #E8F0FE;\n",
              "      --fill-color: #1967D2;\n",
              "      --hover-bg-color: #E2EBFA;\n",
              "      --hover-fill-color: #174EA6;\n",
              "      --disabled-fill-color: #AAA;\n",
              "      --disabled-bg-color: #DDD;\n",
              "  }\n",
              "\n",
              "  [theme=dark] .colab-df-quickchart {\n",
              "      --bg-color: #3B4455;\n",
              "      --fill-color: #D2E3FC;\n",
              "      --hover-bg-color: #434B5C;\n",
              "      --hover-fill-color: #FFFFFF;\n",
              "      --disabled-bg-color: #3B4455;\n",
              "      --disabled-fill-color: #666;\n",
              "  }\n",
              "\n",
              "  .colab-df-quickchart {\n",
              "    background-color: var(--bg-color);\n",
              "    border: none;\n",
              "    border-radius: 50%;\n",
              "    cursor: pointer;\n",
              "    display: none;\n",
              "    fill: var(--fill-color);\n",
              "    height: 32px;\n",
              "    padding: 0;\n",
              "    width: 32px;\n",
              "  }\n",
              "\n",
              "  .colab-df-quickchart:hover {\n",
              "    background-color: var(--hover-bg-color);\n",
              "    box-shadow: 0 1px 2px rgba(60, 64, 67, 0.3), 0 1px 3px 1px rgba(60, 64, 67, 0.15);\n",
              "    fill: var(--button-hover-fill-color);\n",
              "  }\n",
              "\n",
              "  .colab-df-quickchart-complete:disabled,\n",
              "  .colab-df-quickchart-complete:disabled:hover {\n",
              "    background-color: var(--disabled-bg-color);\n",
              "    fill: var(--disabled-fill-color);\n",
              "    box-shadow: none;\n",
              "  }\n",
              "\n",
              "  .colab-df-spinner {\n",
              "    border: 2px solid var(--fill-color);\n",
              "    border-color: transparent;\n",
              "    border-bottom-color: var(--fill-color);\n",
              "    animation:\n",
              "      spin 1s steps(1) infinite;\n",
              "  }\n",
              "\n",
              "  @keyframes spin {\n",
              "    0% {\n",
              "      border-color: transparent;\n",
              "      border-bottom-color: var(--fill-color);\n",
              "      border-left-color: var(--fill-color);\n",
              "    }\n",
              "    20% {\n",
              "      border-color: transparent;\n",
              "      border-left-color: var(--fill-color);\n",
              "      border-top-color: var(--fill-color);\n",
              "    }\n",
              "    30% {\n",
              "      border-color: transparent;\n",
              "      border-left-color: var(--fill-color);\n",
              "      border-top-color: var(--fill-color);\n",
              "      border-right-color: var(--fill-color);\n",
              "    }\n",
              "    40% {\n",
              "      border-color: transparent;\n",
              "      border-right-color: var(--fill-color);\n",
              "      border-top-color: var(--fill-color);\n",
              "    }\n",
              "    60% {\n",
              "      border-color: transparent;\n",
              "      border-right-color: var(--fill-color);\n",
              "    }\n",
              "    80% {\n",
              "      border-color: transparent;\n",
              "      border-right-color: var(--fill-color);\n",
              "      border-bottom-color: var(--fill-color);\n",
              "    }\n",
              "    90% {\n",
              "      border-color: transparent;\n",
              "      border-bottom-color: var(--fill-color);\n",
              "    }\n",
              "  }\n",
              "</style>\n",
              "\n",
              "  <script>\n",
              "    async function quickchart(key) {\n",
              "      const quickchartButtonEl =\n",
              "        document.querySelector('#' + key + ' button');\n",
              "      quickchartButtonEl.disabled = true;  // To prevent multiple clicks.\n",
              "      quickchartButtonEl.classList.add('colab-df-spinner');\n",
              "      try {\n",
              "        const charts = await google.colab.kernel.invokeFunction(\n",
              "            'suggestCharts', [key], {});\n",
              "      } catch (error) {\n",
              "        console.error('Error during call to suggestCharts:', error);\n",
              "      }\n",
              "      quickchartButtonEl.classList.remove('colab-df-spinner');\n",
              "      quickchartButtonEl.classList.add('colab-df-quickchart-complete');\n",
              "    }\n",
              "    (() => {\n",
              "      let quickchartButtonEl =\n",
              "        document.querySelector('#df-7305c717-d2a5-4da2-889f-d2f80162bd13 button');\n",
              "      quickchartButtonEl.style.display =\n",
              "        google.colab.kernel.accessAllowed ? 'block' : 'none';\n",
              "    })();\n",
              "  </script>\n",
              "</div>\n",
              "\n",
              "    </div>\n",
              "  </div>\n"
            ],
            "application/vnd.google.colaboratory.intrinsic+json": {
              "type": "dataframe",
              "variable_name": "X_test",
              "summary": "{\n  \"name\": \"X_test\",\n  \"rows\": 745,\n  \"fields\": [\n    {\n      \"column\": \"text\",\n      \"properties\": {\n        \"dtype\": \"string\",\n        \"num_unique_values\": 480,\n        \"samples\": [\n          \"A dated video from Hong Kong showing riot police storm a metro station to crack down on political protesters in the city, is being shared with a false claim that it shows Chinese police trying to nab suspected COVID-19 patients.\\n\\n\\n\\nIn the 3.17 minutes clip shows riot police baton charge and pepper spray people inside the metro coach. One can also see people carrying umbrellas - a symbol used by pro-democracy protesters in Hong Kong.\\n\\nThe video is being shared with the caption which when translated reads, \\\"you are sitting here and making jokes on coronavirus but if you want to see the true devastation caused by corona, watch this video from China. Not once, not twice, watch attentively at least thrice. Watch these people who are stuck in this epidemic. The police administration there have to face so many difficulties to catch them. Your heart will stop after you watch this.\\\"\\n\\nClick here to view, and here for an archive.\\n\\n(In Hindi - \\u0939\\u092e \\u092f\\u0939\\u093e\\u0902 \\u092c\\u0948\\u0920\\u0915\\u0930.. \\u0935\\u094d\\u0939\\u093e\\u091f\\u094d\\u0938\\u090f\\u092a \\u0914\\u0930 \\u092b\\u0947\\u0938\\u092c\\u0941\\u0915 \\u092a\\u0930.. *\\u0915\\u094b\\u0930\\u094b\\u0928\\u093e \\u0935\\u093e\\u092f\\u0930\\u0938* \\u0915\\u093e \\u092e\\u091c\\u093e\\u0915 \\u0909\\u0921\\u093c\\u093e\\u0928\\u0947 \\u092e\\u0947\\u0902 \\u0932\\u0917\\u0947 \\u0939\\u0941\\u090f \\u0939\\u0948\\u0902 \\u0905\\u0917\\u0930.. \\u0915\\u094b\\u0930\\u094b\\u0928\\u093e \\u0915\\u093e \\u0905\\u0938\\u0932\\u0940 \\u0915\\u0939\\u0930 \\u0926\\u0947\\u0916\\u0928\\u093e \\u0939\\u0948 \\u0924\\u094b.. \\u091a\\u093e\\u0907\\u0928\\u093e \\u0938\\u0947 \\u0906\\u0908 \\u0907\\u0938 \\u0935\\u0940\\u0921\\u093f\\u092f\\u094b \\u0915\\u094b \\u0926\\u0947\\u0916\\u0947\\u0902 . \\u090f\\u0915 \\u092c\\u093e\\u0930 \\u0928\\u0939\\u0940\\u0902 , \\u0926\\u094b \\u092c\\u093e\\u0930 \\u0928\\u0939\\u0940\\u0902 , 3 \\u092c\\u093e\\u0930 \\u092c\\u0921\\u093c\\u0947 \\u0927\\u094d\\u092f\\u093e\\u0928 \\u0938\\u0947 \\u0926\\u0947\\u0916\\u0947\\u0902. \\u0915\\u093f \\u0907\\u0938 \\u092e\\u0939\\u093e\\u092e\\u093e\\u0930\\u0940 \\u0915\\u0947 \\u0936\\u093f\\u0915\\u0902\\u091c\\u0947 \\u092e\\u0947\\u0902 \\u092b\\u0902\\u0938\\u0947 \\u0939\\u0941\\u090f \\u0932\\u094b\\u0917\\u094b\\u0902 \\u0915\\u094b.. \\u092a\\u0915\\u0921\\u093c\\u0928\\u0947 \\u0915\\u0947 \\u0932\\u093f\\u090f.. \\u0935\\u0939\\u093e\\u0902 \\u092a\\u0941\\u0932\\u093f\\u0938 \\u092a\\u094d\\u0930\\u0936\\u093e\\u0938\\u0928 \\u0915\\u094b \\u0915\\u093f\\u0924\\u0928\\u0940 \\u0926\\u093f\\u0915\\u094d\\u0915\\u0924\\u0947\\u0902 \\u091d\\u0947\\u0932\\u0928\\u0940 \\u092a\\u0921\\u093c \\u0930\\u0939\\u0940 \\u0939\\u0948\\u0902 .\\u0906\\u092a\\u0915\\u093e \\u0926\\u093f\\u0932 \\u092d\\u0940 \\u0926\\u0939\\u0932 \\u0909\\u0920\\u0947\\u0917\\u093e \\u0907\\u0938 \\u0935\\u0940\\u0921\\u093f\\u092f\\u094b \\u0915\\u094b \\u0926\\u0947\\u0916\\u0915\\u0930.)\\n\\nViral on Twitter\\n\\nWe searched with the same text on Twitter, we found multiple handles had posted the same video with the misleading claim.\\n\\n\\ud83d\\udc46\\ud83d\\udc46\\u0939\\u092e \\u092f\\u0939\\u093e\\u0902 \\u092c\\u0948\\u0920\\u0915\\u0930.. \\u0935\\u094d\\u0939\\u093e\\u091f\\u094d\\u0938\\u090f\\u092a \\u0914\\u0930 \\u092b\\u0947\\u0938\\u092c\\u0941\\u0915 \\u092a\\u0930.. *\\u0915\\u094b\\u0930\\u094b\\u0928\\u093e \\u0935\\u093e\\u092f\\u0930\\u0938* \\u0915\\u093e \\u092e\\u091c\\u093e\\u0915 \\u0909\\u0921\\u093c\\u093e\\u0928\\u0947 \\u092e\\u0947\\u0902 \\u0932\\u0917\\u0947 \\u0939\\u0941\\u090f \\u0939\\u0948\\u0902 \\ud83e\\udd14\\n\\n\\u0905\\u0917\\u0930.. \\u0915\\u094b\\u0930\\u094b\\u0928\\u093e \\u0915\\u093e \\u0905\\u0938\\u0932\\u0940 \\u0915\\u0939\\u0930 \\u0926\\u0947\\u0916\\u0928\\u093e \\u0939\\u0948 \\u0924\\u094b.. \\u091a\\u093e\\u0907\\u0928\\u093e \\u0938\\u0947 \\u0906\\u0908 \\u0907\\u0938 \\u0935\\u0940\\u0921\\u093f\\u092f\\u094b \\u0915\\u094b \\u0926\\u0947\\u0916\\u0947\\u0902\\n\\n\\u090f\\u0915 \\u092c\\u093e\\u0930 \\u0928\\u0939\\u0940\\u0902 , \\u0926\\u094b \\u092c\\u093e\\u0930 \\u0928\\u0939\\u0940\\u0902 , 3 \\u092c\\u093e\\u0930 \\u092c\\u0921\\u093c\\u0947 \\u0927\\u094d\\u092f\\u093e\\u0928 \\u0938\\u0947 \\u0926\\u0947\\u0916\\u0947\\u0902 \\u0915\\u093f \\u0907\\u0938 \\u092e\\u0939\\u093e\\u092e\\u093e\\u0930\\u0940 \\u0915\\u0947 \\u0936\\u093f\\u0915\\u0902\\u091c\\u0947 \\u092e\\u0947\\u0902 \\u092b\\u0902\\u0938\\u0947 \\u0939\\u0941\\u090f \\u0932\\u094b\\u0917\\u094b\\u0902 \\u0915\\u094b..! pic.twitter.com/fwixqasj7Q \\u2014 \\u0930\\u093e\\u091c \\u0936\\u0930\\u094d\\u092e\\u093e \\u0915\\u093e\\u0928\\u092a\\u0941\\u0930 (@RajShar41438261) March 16, 2020\\n\\nClick here to view an archive.\\n\\n\\u0939\\u092e \\u092f\\u0939\\u093e\\u0902 \\u092c\\u0948\\u0920\\u0915\\u0930.. \\u0935\\u094d\\u0939\\u093e\\u091f\\u094d\\u0938\\u090f\\u092a \\u0914\\u0930 \\u092b\\u0947\\u0938\\u092c\\u0941\\u0915 \\u092a\\u0930.. *\\u0915\\u094b\\u0930\\u094b\\u0928\\u093e \\u0935\\u093e\\u092f\\u0930\\u0938* \\u0915\\u093e \\u092e\\u091c\\u093e\\u0915 \\u0909\\u0921\\u093c\\u093e\\u0928\\u0947 \\u092e\\u0947\\u0902 \\u0932\\u0917\\u0947 \\u0939\\u0941\\u090f \\u0939\\u0948\\u0902 \\ud83e\\udd14\\n\\n\\u0905\\u0917\\u0930.. \\u0915\\u094b\\u0930\\u094b\\u0928\\u093e \\u0915\\u093e \\u0905\\u0938\\u0932\\u0940 \\u0915\\u0939\\u0930 \\u0926\\u0947\\u0916\\u0928\\u093e \\u0939\\u0948 \\u0924\\u094b.. \\u091a\\u093e\\u0907\\u0928\\u093e \\u0938\\u0947 \\u0906\\u0908 \\u0907\\u0938 \\u0935\\u0940\\u0921\\u093f\\u092f\\u094b \\u0915\\u094b \\u0926\\u0947\\u0916\\u0947\\u0902\\n\\n\\u0935\\u0939\\u093e\\u0902 \\u092a\\u0941\\u0932\\u093f\\u0938 \\u092a\\u094d\\u0930\\u0936\\u093e\\u0938\\u0928 \\u0915\\u094b \\u0915\\u093f\\u0924\\u0928\\u0940 \\u0926\\u093f\\u0915\\u094d\\u0915\\u0924\\u0947\\u0902 \\u091d\\u0947\\u0932\\u0928\\u0940 \\u092a\\u0921\\u093c \\u0930\\u0939\\u0940 \\u0939\\u0948\\u0902 \\ud83d\\udc47\\ud83d\\udc47 \\u0906\\u092a\\u0915\\u093e \\u0926\\u093f\\u0932 \\u092d\\u0940 \\u0926\\u0939\\u0932 \\u0909\\u0920\\u0947\\u0917\\u093e \\u0907\\u0938 \\u0935\\u0940\\u0921\\u093f\\u092f\\u094b \\u0915\\u094b \\u0926\\u0947\\u0916\\u0915\\u0930#SAARCfightsCorona pic.twitter.com/cBkEEgaCM4 \\u2014 100% Follow back (@SufiyanYusuf12) March 15, 2020\\n\\nClick here to view an archive.\\n\\nAlso Read: False: Chinese Intelligence Officer Reveals Coronavirus Is A Bioweapon\\n\\nFACT-CHECK\\n\\nWe broke the video into key-frames and performed a reverse image using Yandex, a Russian search engine whose search results showed that the video was from August 31, 2019, when Hong Kong riot police stormed onto the platforms of Mong Kok and Prince Edward MTR station to conduct arrests. The video pre-dates three months before the first few cases of Coronavirus were reported in December 2019 in China.\\n\\nThe same events unfolding in the viral video can be seen in this video report uploaded by Hong Kong Free Press (HKFP), a news website based in Hong Kong.\\n\\nViolent scenes erupted across Hong Kong on August 31, 2019 night, as the Mass Transit Railway (MTR) closed five lines and police fired two live rounds in Causeway Bay reported HKFP on September 1, 2019.\\n\\nBREAKING: At 11:20pm, the MTR announced the closures of the entirety of the Tsuen Wan and Kwun Tong lines due to police operations.\\n\\n\\n\\nIn full: https://t.co/kmLJLFCnSX. Photo: @mtrupdate. #hongkong #hongkongprotests #antiELAB pic.twitter.com/3S5ygwghed \\u2014 Hong Kong Free Press (@HongKongFP) August 31, 2019\\n\\nThe incident in the viral footage took place inside train carriages at Prince Edward station in Hong Kong during the Anti-Extradition Law Amendment Bill Movement (ELAB) protests, in the city against the introduction of an extradition bill.\\n\\nThe Hong Kong government had then claimed in a statement that protesters were vandalising stations and attacking members of the public and officers had entered MTR stations to \\\"stop all violent acts and arrest offenders.\\\" reported HKFP.\\n\\nThe man in the white T-shirt can be spotted in the HKFP report as in the viral video\\n\\nAugust 31, 2019, had also marked the fifth anniversary of a controversial white paper on Hong Kong democracy handed down by China, which sought to impose restrictions on the city's election for its chief executive which had sparked the 79-day occupation movement, popularly known as the Umbrella Movement in 2014, but was eventually rejected by lawmakers reported HKFP.\\n\\nOne can see the same visuals as in the viral video in this also BBC report uploaded on September 1, 2019, on YouTube.\\n\\n\\n\\n\\n\\nThe video is viral with false claims in the backdrop of India confirming 110 positive cases of COVID-19 as of March 16, 2020. One can follow BOOM's LIVE blog for recent updates: Coronavirus LIVE Update: Indian Government Says 110 Cases\\n\\n\\n\\n\\n\\nAlso Read:Coronavirus: Mock Drill By Chinese Police Viral As Real\\n\\n\\n\\n\",\n          \"BHOPAL: A Congress worker in Chhindwara was booked under NSA on Saturday after he allegedly blackened the face of the SDM during a protest for flood-damage compensation to farmers.He and 21 other Congress workers were also booked for attempted murder apart from the usual charges of assault and obstructing a government official.\\u201cAn FIR has been registered against 22 people and other unidentified persons. Among them is Bunty Patel, who has a record. There were seven to eight old cases against him, hence the recommendation to book him under NSA and the order was subsequently issued. He and others were arrested and sent to jail,\\u201d Chhindwara SP Vivek Agarwal told TOI. Bunty and the others had gheraoed the SDM office in Chaurai town of Chhindwara on Friday, demanding compensation for crop damage due to the recent floods. When SDM CP Patel stepped up to accept their memorandum, Bunty allegedly smeared his face with black colour. MP Administrative Service Association on Saturday condemned the assault on the SDM, and called an indefinite strike. Tehsildars and patwaris have supported the strike, it said.\",\n          \"An old video from 2015 showing a group of children being detained has gone viral with misleading claims suggesting that they were being sent for terror training at a madrasa.\\n\\nOn June 9, 2019, BOOM received a video on its helpline along with a text caption that stated that the police have detained 63 students at Kolkata's Rajabazar area. The caption claimed that the students had admitted to receiving training for terror activities at the madrasa.\\n\\nScreenshot of WhatsApp message received on BOOM's helpline\\n\\nIt also stated that mainstream media has refused to bring this event to light as they had \\\"orders from above\\\" to ignore it.\\n\\nThe video shows a group of children being escorted by the police.\\n\\nBOOM searched for the caption in English and found the video shared on social media platforms with the same caption.\\n\\nFacebook search results\\n\\nBOOM found a discrepancy in the claims being made in the caption. While the Hindi text received on WhatsApp suggest that the children themselves claimed that they were being sent for terror training, the captions on Facebook videos suggested that it was the police who made that claim.\\n\\nRecent Facebook post (left) and the WhatsApp message on the helpline (right)\\n\\nFact Check\\n\\nWhile going through the list of Facebook search results for the caption, BOOM found that the video was shared four years ago, with the same caption.\\n\\nOne of the videos was shared on August 7, 2015, while the other was shared on August 9, 2015.\\n\\nTo investigate further, BOOM did a Google search with the keywords \\\"63 muslim students detained Kolkata\\\" and set the time-filter to show results between August 1, 2015 and August 10, 2015.\\n\\nThe search results led us to three different reports on this issue by the Indian Express, Scroll and DNA, respectively.\\n\\nScreenshot of the Indian Express article\\n\\nAccording to news reports, on August 2, 2015, Government Railway Police (GRP) at Sealdah railway station in Kolkata detained 63 children along with a madrasa teacher and his wife.\\n\\nIndian Express reported that the children were from Bihar's Purnea-Kishengunj belt, and were on their way to Pune for training in a madrasa.\\n\\nAccording to Scroll and DNA, the GRP stated that the group was intercepted after they allegedly failed to provide proper identity documents.\\n\\nThe report did not mention any suspicions of terror activities raised by the police, neither did it mention the children claiming that they were being sent for terror training.\\n\\nThe articles also mentioned that the detention led to protests from the Muslim community across Kolkata, which lead to a panic on Twitter about a possible 'riot' in the city.\\n\\nHowever, Scroll reported that there were no riots in the city.\\n\\nThe reports suggest that the children were sent back to their families in Bihar.\"\n        ],\n        \"semantic_type\": \"\",\n        \"description\": \"\"\n      }\n    }\n  ]\n}"
            }
          },
          "metadata": {},
          "execution_count": 84
        }
      ]
    },
    {
      "cell_type": "code",
      "source": [
        "y_test"
      ],
      "metadata": {
        "colab": {
          "base_uri": "https://localhost:8080/",
          "height": 458
        },
        "id": "KGrotEAFf8DZ",
        "outputId": "45189944-90a1-484d-f19d-7c4e2286ad83"
      },
      "execution_count": 85,
      "outputs": [
        {
          "output_type": "execute_result",
          "data": {
            "text/plain": [
              "908     REAL\n",
              "3454    REAL\n",
              "1790    REAL\n",
              "1167    FAKE\n",
              "1605    FAKE\n",
              "        ... \n",
              "1239    FAKE\n",
              "2409    FAKE\n",
              "1958    FAKE\n",
              "2680    FAKE\n",
              "955     FAKE\n",
              "Name: label, Length: 745, dtype: object"
            ],
            "text/html": [
              "<div>\n",
              "<style scoped>\n",
              "    .dataframe tbody tr th:only-of-type {\n",
              "        vertical-align: middle;\n",
              "    }\n",
              "\n",
              "    .dataframe tbody tr th {\n",
              "        vertical-align: top;\n",
              "    }\n",
              "\n",
              "    .dataframe thead th {\n",
              "        text-align: right;\n",
              "    }\n",
              "</style>\n",
              "<table border=\"1\" class=\"dataframe\">\n",
              "  <thead>\n",
              "    <tr style=\"text-align: right;\">\n",
              "      <th></th>\n",
              "      <th>label</th>\n",
              "    </tr>\n",
              "  </thead>\n",
              "  <tbody>\n",
              "    <tr>\n",
              "      <th>908</th>\n",
              "      <td>REAL</td>\n",
              "    </tr>\n",
              "    <tr>\n",
              "      <th>3454</th>\n",
              "      <td>REAL</td>\n",
              "    </tr>\n",
              "    <tr>\n",
              "      <th>1790</th>\n",
              "      <td>REAL</td>\n",
              "    </tr>\n",
              "    <tr>\n",
              "      <th>1167</th>\n",
              "      <td>FAKE</td>\n",
              "    </tr>\n",
              "    <tr>\n",
              "      <th>1605</th>\n",
              "      <td>FAKE</td>\n",
              "    </tr>\n",
              "    <tr>\n",
              "      <th>...</th>\n",
              "      <td>...</td>\n",
              "    </tr>\n",
              "    <tr>\n",
              "      <th>1239</th>\n",
              "      <td>FAKE</td>\n",
              "    </tr>\n",
              "    <tr>\n",
              "      <th>2409</th>\n",
              "      <td>FAKE</td>\n",
              "    </tr>\n",
              "    <tr>\n",
              "      <th>1958</th>\n",
              "      <td>FAKE</td>\n",
              "    </tr>\n",
              "    <tr>\n",
              "      <th>2680</th>\n",
              "      <td>FAKE</td>\n",
              "    </tr>\n",
              "    <tr>\n",
              "      <th>955</th>\n",
              "      <td>FAKE</td>\n",
              "    </tr>\n",
              "  </tbody>\n",
              "</table>\n",
              "<p>745 rows × 1 columns</p>\n",
              "</div><br><label><b>dtype:</b> object</label>"
            ]
          },
          "metadata": {},
          "execution_count": 85
        }
      ]
    },
    {
      "cell_type": "markdown",
      "source": [
        "**Data Preprocessing**"
      ],
      "metadata": {
        "id": "TAcJbdRjf-FU"
      }
    },
    {
      "cell_type": "code",
      "source": [
        "def preprocess(pro):\n",
        "\n",
        "  process = re.sub('[^a-zA-Z]',\" \",pro)\n",
        "  lowe = process.lower()\n",
        "  tokens = lowe.split()\n",
        "  stop = [lemmatizer.lemmatize(i) for i in tokens if i not in stopwords.words('English')]\n",
        "  lemmas =pd.Series([ \" \".join(stop),len(stop)])\n",
        "  return lemmas\n",
        "# def preprocess(pro):\n",
        "#     process = re.sub('[^a-zA-Z]',\" \",pro)\n",
        "#     lowe = process.lower()\n",
        "#     tokens = lowe.split()\n",
        "#     stop = [lemmatizer.lemmatize(i) for i in tokens if i not in stopwords.words('English')]\n",
        "#     lemmas =pd.Series([ \" \".join(stop),len(stop)])\n",
        "#     return lemmas"
      ],
      "metadata": {
        "id": "h2KhV8h6gAlb"
      },
      "execution_count": 95,
      "outputs": []
    },
    {
      "cell_type": "code",
      "source": [
        "px_train = X_train['text'].apply(preprocess)"
      ],
      "metadata": {
        "collapsed": true,
        "colab": {
          "base_uri": "https://localhost:8080/",
          "height": 365
        },
        "id": "X9bl1msggEJV",
        "outputId": "1a36c5ff-8c0e-480f-829c-4cfab2b11e92"
      },
      "execution_count": 96,
      "outputs": [
        {
          "output_type": "stream",
          "name": "stderr",
          "text": [
            "[nltk_data] Downloading package stopwords to /root/nltk_data...\n",
            "[nltk_data]   Unzipping corpora/stopwords.zip.\n"
          ]
        },
        {
          "output_type": "error",
          "ename": "OSError",
          "evalue": "No such file or directory: '/root/nltk_data/corpora/stopwords/English'",
          "traceback": [
            "\u001b[0;31m---------------------------------------------------------------------------\u001b[0m",
            "\u001b[0;31mOSError\u001b[0m                                   Traceback (most recent call last)",
            "\u001b[0;32m<ipython-input-96-62e167df2295>\u001b[0m in \u001b[0;36m<cell line: 0>\u001b[0;34m()\u001b[0m\n\u001b[0;32m----> 1\u001b[0;31m \u001b[0mpx_train\u001b[0m \u001b[0;34m=\u001b[0m \u001b[0mX_train\u001b[0m\u001b[0;34m[\u001b[0m\u001b[0;34m'text'\u001b[0m\u001b[0;34m]\u001b[0m\u001b[0;34m.\u001b[0m\u001b[0mapply\u001b[0m\u001b[0;34m(\u001b[0m\u001b[0mpreprocess\u001b[0m\u001b[0;34m)\u001b[0m\u001b[0;34m\u001b[0m\u001b[0;34m\u001b[0m\u001b[0m\n\u001b[0m",
            "\u001b[0;32m/usr/local/lib/python3.11/dist-packages/pandas/core/series.py\u001b[0m in \u001b[0;36mapply\u001b[0;34m(self, func, convert_dtype, args, by_row, **kwargs)\u001b[0m\n\u001b[1;32m   4922\u001b[0m             \u001b[0margs\u001b[0m\u001b[0;34m=\u001b[0m\u001b[0margs\u001b[0m\u001b[0;34m,\u001b[0m\u001b[0;34m\u001b[0m\u001b[0;34m\u001b[0m\u001b[0m\n\u001b[1;32m   4923\u001b[0m             \u001b[0mkwargs\u001b[0m\u001b[0;34m=\u001b[0m\u001b[0mkwargs\u001b[0m\u001b[0;34m,\u001b[0m\u001b[0;34m\u001b[0m\u001b[0;34m\u001b[0m\u001b[0m\n\u001b[0;32m-> 4924\u001b[0;31m         ).apply()\n\u001b[0m\u001b[1;32m   4925\u001b[0m \u001b[0;34m\u001b[0m\u001b[0m\n\u001b[1;32m   4926\u001b[0m     def _reindex_indexer(\n",
            "\u001b[0;32m/usr/local/lib/python3.11/dist-packages/pandas/core/apply.py\u001b[0m in \u001b[0;36mapply\u001b[0;34m(self)\u001b[0m\n\u001b[1;32m   1425\u001b[0m \u001b[0;34m\u001b[0m\u001b[0m\n\u001b[1;32m   1426\u001b[0m         \u001b[0;31m# self.func is Callable\u001b[0m\u001b[0;34m\u001b[0m\u001b[0;34m\u001b[0m\u001b[0m\n\u001b[0;32m-> 1427\u001b[0;31m         \u001b[0;32mreturn\u001b[0m \u001b[0mself\u001b[0m\u001b[0;34m.\u001b[0m\u001b[0mapply_standard\u001b[0m\u001b[0;34m(\u001b[0m\u001b[0;34m)\u001b[0m\u001b[0;34m\u001b[0m\u001b[0;34m\u001b[0m\u001b[0m\n\u001b[0m\u001b[1;32m   1428\u001b[0m \u001b[0;34m\u001b[0m\u001b[0m\n\u001b[1;32m   1429\u001b[0m     \u001b[0;32mdef\u001b[0m \u001b[0magg\u001b[0m\u001b[0;34m(\u001b[0m\u001b[0mself\u001b[0m\u001b[0;34m)\u001b[0m\u001b[0;34m:\u001b[0m\u001b[0;34m\u001b[0m\u001b[0;34m\u001b[0m\u001b[0m\n",
            "\u001b[0;32m/usr/local/lib/python3.11/dist-packages/pandas/core/apply.py\u001b[0m in \u001b[0;36mapply_standard\u001b[0;34m(self)\u001b[0m\n\u001b[1;32m   1505\u001b[0m         \u001b[0;31m#  Categorical (GH51645).\u001b[0m\u001b[0;34m\u001b[0m\u001b[0;34m\u001b[0m\u001b[0m\n\u001b[1;32m   1506\u001b[0m         \u001b[0maction\u001b[0m \u001b[0;34m=\u001b[0m \u001b[0;34m\"ignore\"\u001b[0m \u001b[0;32mif\u001b[0m \u001b[0misinstance\u001b[0m\u001b[0;34m(\u001b[0m\u001b[0mobj\u001b[0m\u001b[0;34m.\u001b[0m\u001b[0mdtype\u001b[0m\u001b[0;34m,\u001b[0m \u001b[0mCategoricalDtype\u001b[0m\u001b[0;34m)\u001b[0m \u001b[0;32melse\u001b[0m \u001b[0;32mNone\u001b[0m\u001b[0;34m\u001b[0m\u001b[0;34m\u001b[0m\u001b[0m\n\u001b[0;32m-> 1507\u001b[0;31m         mapped = obj._map_values(\n\u001b[0m\u001b[1;32m   1508\u001b[0m             \u001b[0mmapper\u001b[0m\u001b[0;34m=\u001b[0m\u001b[0mcurried\u001b[0m\u001b[0;34m,\u001b[0m \u001b[0mna_action\u001b[0m\u001b[0;34m=\u001b[0m\u001b[0maction\u001b[0m\u001b[0;34m,\u001b[0m \u001b[0mconvert\u001b[0m\u001b[0;34m=\u001b[0m\u001b[0mself\u001b[0m\u001b[0;34m.\u001b[0m\u001b[0mconvert_dtype\u001b[0m\u001b[0;34m\u001b[0m\u001b[0;34m\u001b[0m\u001b[0m\n\u001b[1;32m   1509\u001b[0m         )\n",
            "\u001b[0;32m/usr/local/lib/python3.11/dist-packages/pandas/core/base.py\u001b[0m in \u001b[0;36m_map_values\u001b[0;34m(self, mapper, na_action, convert)\u001b[0m\n\u001b[1;32m    919\u001b[0m             \u001b[0;32mreturn\u001b[0m \u001b[0marr\u001b[0m\u001b[0;34m.\u001b[0m\u001b[0mmap\u001b[0m\u001b[0;34m(\u001b[0m\u001b[0mmapper\u001b[0m\u001b[0;34m,\u001b[0m \u001b[0mna_action\u001b[0m\u001b[0;34m=\u001b[0m\u001b[0mna_action\u001b[0m\u001b[0;34m)\u001b[0m\u001b[0;34m\u001b[0m\u001b[0;34m\u001b[0m\u001b[0m\n\u001b[1;32m    920\u001b[0m \u001b[0;34m\u001b[0m\u001b[0m\n\u001b[0;32m--> 921\u001b[0;31m         \u001b[0;32mreturn\u001b[0m \u001b[0malgorithms\u001b[0m\u001b[0;34m.\u001b[0m\u001b[0mmap_array\u001b[0m\u001b[0;34m(\u001b[0m\u001b[0marr\u001b[0m\u001b[0;34m,\u001b[0m \u001b[0mmapper\u001b[0m\u001b[0;34m,\u001b[0m \u001b[0mna_action\u001b[0m\u001b[0;34m=\u001b[0m\u001b[0mna_action\u001b[0m\u001b[0;34m,\u001b[0m \u001b[0mconvert\u001b[0m\u001b[0;34m=\u001b[0m\u001b[0mconvert\u001b[0m\u001b[0;34m)\u001b[0m\u001b[0;34m\u001b[0m\u001b[0;34m\u001b[0m\u001b[0m\n\u001b[0m\u001b[1;32m    922\u001b[0m \u001b[0;34m\u001b[0m\u001b[0m\n\u001b[1;32m    923\u001b[0m     \u001b[0;34m@\u001b[0m\u001b[0mfinal\u001b[0m\u001b[0;34m\u001b[0m\u001b[0;34m\u001b[0m\u001b[0m\n",
            "\u001b[0;32m/usr/local/lib/python3.11/dist-packages/pandas/core/algorithms.py\u001b[0m in \u001b[0;36mmap_array\u001b[0;34m(arr, mapper, na_action, convert)\u001b[0m\n\u001b[1;32m   1741\u001b[0m     \u001b[0mvalues\u001b[0m \u001b[0;34m=\u001b[0m \u001b[0marr\u001b[0m\u001b[0;34m.\u001b[0m\u001b[0mastype\u001b[0m\u001b[0;34m(\u001b[0m\u001b[0mobject\u001b[0m\u001b[0;34m,\u001b[0m \u001b[0mcopy\u001b[0m\u001b[0;34m=\u001b[0m\u001b[0;32mFalse\u001b[0m\u001b[0;34m)\u001b[0m\u001b[0;34m\u001b[0m\u001b[0;34m\u001b[0m\u001b[0m\n\u001b[1;32m   1742\u001b[0m     \u001b[0;32mif\u001b[0m \u001b[0mna_action\u001b[0m \u001b[0;32mis\u001b[0m \u001b[0;32mNone\u001b[0m\u001b[0;34m:\u001b[0m\u001b[0;34m\u001b[0m\u001b[0;34m\u001b[0m\u001b[0m\n\u001b[0;32m-> 1743\u001b[0;31m         \u001b[0;32mreturn\u001b[0m \u001b[0mlib\u001b[0m\u001b[0;34m.\u001b[0m\u001b[0mmap_infer\u001b[0m\u001b[0;34m(\u001b[0m\u001b[0mvalues\u001b[0m\u001b[0;34m,\u001b[0m \u001b[0mmapper\u001b[0m\u001b[0;34m,\u001b[0m \u001b[0mconvert\u001b[0m\u001b[0;34m=\u001b[0m\u001b[0mconvert\u001b[0m\u001b[0;34m)\u001b[0m\u001b[0;34m\u001b[0m\u001b[0;34m\u001b[0m\u001b[0m\n\u001b[0m\u001b[1;32m   1744\u001b[0m     \u001b[0;32melse\u001b[0m\u001b[0;34m:\u001b[0m\u001b[0;34m\u001b[0m\u001b[0;34m\u001b[0m\u001b[0m\n\u001b[1;32m   1745\u001b[0m         return lib.map_infer_mask(\n",
            "\u001b[0;32mlib.pyx\u001b[0m in \u001b[0;36mpandas._libs.lib.map_infer\u001b[0;34m()\u001b[0m\n",
            "\u001b[0;32m<ipython-input-95-69582a21ccdf>\u001b[0m in \u001b[0;36mpreprocess\u001b[0;34m(pro)\u001b[0m\n\u001b[1;32m      5\u001b[0m   \u001b[0mlowe\u001b[0m \u001b[0;34m=\u001b[0m \u001b[0mprocess\u001b[0m\u001b[0;34m.\u001b[0m\u001b[0mlower\u001b[0m\u001b[0;34m(\u001b[0m\u001b[0;34m)\u001b[0m\u001b[0;34m\u001b[0m\u001b[0;34m\u001b[0m\u001b[0m\n\u001b[1;32m      6\u001b[0m   \u001b[0mtokens\u001b[0m \u001b[0;34m=\u001b[0m \u001b[0mlowe\u001b[0m\u001b[0;34m.\u001b[0m\u001b[0msplit\u001b[0m\u001b[0;34m(\u001b[0m\u001b[0;34m)\u001b[0m\u001b[0;34m\u001b[0m\u001b[0;34m\u001b[0m\u001b[0m\n\u001b[0;32m----> 7\u001b[0;31m   \u001b[0mstop\u001b[0m \u001b[0;34m=\u001b[0m \u001b[0;34m[\u001b[0m\u001b[0mlemmatizer\u001b[0m\u001b[0;34m.\u001b[0m\u001b[0mlemmatize\u001b[0m\u001b[0;34m(\u001b[0m\u001b[0mi\u001b[0m\u001b[0;34m)\u001b[0m \u001b[0;32mfor\u001b[0m \u001b[0mi\u001b[0m \u001b[0;32min\u001b[0m \u001b[0mtokens\u001b[0m \u001b[0;32mif\u001b[0m \u001b[0mi\u001b[0m \u001b[0;32mnot\u001b[0m \u001b[0;32min\u001b[0m \u001b[0mstopwords\u001b[0m\u001b[0;34m.\u001b[0m\u001b[0mwords\u001b[0m\u001b[0;34m(\u001b[0m\u001b[0;34m'English'\u001b[0m\u001b[0;34m)\u001b[0m\u001b[0;34m]\u001b[0m\u001b[0;34m\u001b[0m\u001b[0;34m\u001b[0m\u001b[0m\n\u001b[0m\u001b[1;32m      8\u001b[0m   \u001b[0mlemmas\u001b[0m \u001b[0;34m=\u001b[0m\u001b[0mpd\u001b[0m\u001b[0;34m.\u001b[0m\u001b[0mSeries\u001b[0m\u001b[0;34m(\u001b[0m\u001b[0;34m[\u001b[0m \u001b[0;34m\" \"\u001b[0m\u001b[0;34m.\u001b[0m\u001b[0mjoin\u001b[0m\u001b[0;34m(\u001b[0m\u001b[0mstop\u001b[0m\u001b[0;34m)\u001b[0m\u001b[0;34m,\u001b[0m\u001b[0mlen\u001b[0m\u001b[0;34m(\u001b[0m\u001b[0mstop\u001b[0m\u001b[0;34m)\u001b[0m\u001b[0;34m]\u001b[0m\u001b[0;34m)\u001b[0m\u001b[0;34m\u001b[0m\u001b[0;34m\u001b[0m\u001b[0m\n\u001b[1;32m      9\u001b[0m   \u001b[0;32mreturn\u001b[0m \u001b[0mlemmas\u001b[0m\u001b[0;34m\u001b[0m\u001b[0;34m\u001b[0m\u001b[0m\n",
            "\u001b[0;32m<ipython-input-95-69582a21ccdf>\u001b[0m in \u001b[0;36m<listcomp>\u001b[0;34m(.0)\u001b[0m\n\u001b[1;32m      5\u001b[0m   \u001b[0mlowe\u001b[0m \u001b[0;34m=\u001b[0m \u001b[0mprocess\u001b[0m\u001b[0;34m.\u001b[0m\u001b[0mlower\u001b[0m\u001b[0;34m(\u001b[0m\u001b[0;34m)\u001b[0m\u001b[0;34m\u001b[0m\u001b[0;34m\u001b[0m\u001b[0m\n\u001b[1;32m      6\u001b[0m   \u001b[0mtokens\u001b[0m \u001b[0;34m=\u001b[0m \u001b[0mlowe\u001b[0m\u001b[0;34m.\u001b[0m\u001b[0msplit\u001b[0m\u001b[0;34m(\u001b[0m\u001b[0;34m)\u001b[0m\u001b[0;34m\u001b[0m\u001b[0;34m\u001b[0m\u001b[0m\n\u001b[0;32m----> 7\u001b[0;31m   \u001b[0mstop\u001b[0m \u001b[0;34m=\u001b[0m \u001b[0;34m[\u001b[0m\u001b[0mlemmatizer\u001b[0m\u001b[0;34m.\u001b[0m\u001b[0mlemmatize\u001b[0m\u001b[0;34m(\u001b[0m\u001b[0mi\u001b[0m\u001b[0;34m)\u001b[0m \u001b[0;32mfor\u001b[0m \u001b[0mi\u001b[0m \u001b[0;32min\u001b[0m \u001b[0mtokens\u001b[0m \u001b[0;32mif\u001b[0m \u001b[0mi\u001b[0m \u001b[0;32mnot\u001b[0m \u001b[0;32min\u001b[0m \u001b[0mstopwords\u001b[0m\u001b[0;34m.\u001b[0m\u001b[0mwords\u001b[0m\u001b[0;34m(\u001b[0m\u001b[0;34m'English'\u001b[0m\u001b[0;34m)\u001b[0m\u001b[0;34m]\u001b[0m\u001b[0;34m\u001b[0m\u001b[0;34m\u001b[0m\u001b[0m\n\u001b[0m\u001b[1;32m      8\u001b[0m   \u001b[0mlemmas\u001b[0m \u001b[0;34m=\u001b[0m\u001b[0mpd\u001b[0m\u001b[0;34m.\u001b[0m\u001b[0mSeries\u001b[0m\u001b[0;34m(\u001b[0m\u001b[0;34m[\u001b[0m \u001b[0;34m\" \"\u001b[0m\u001b[0;34m.\u001b[0m\u001b[0mjoin\u001b[0m\u001b[0;34m(\u001b[0m\u001b[0mstop\u001b[0m\u001b[0;34m)\u001b[0m\u001b[0;34m,\u001b[0m\u001b[0mlen\u001b[0m\u001b[0;34m(\u001b[0m\u001b[0mstop\u001b[0m\u001b[0;34m)\u001b[0m\u001b[0;34m]\u001b[0m\u001b[0;34m)\u001b[0m\u001b[0;34m\u001b[0m\u001b[0;34m\u001b[0m\u001b[0m\n\u001b[1;32m      9\u001b[0m   \u001b[0;32mreturn\u001b[0m \u001b[0mlemmas\u001b[0m\u001b[0;34m\u001b[0m\u001b[0;34m\u001b[0m\u001b[0m\n",
            "\u001b[0;32m/usr/local/lib/python3.11/dist-packages/nltk/corpus/reader/wordlist.py\u001b[0m in \u001b[0;36mwords\u001b[0;34m(self, fileids, ignore_lines_startswith)\u001b[0m\n\u001b[1;32m     19\u001b[0m         return [\n\u001b[1;32m     20\u001b[0m             \u001b[0mline\u001b[0m\u001b[0;34m\u001b[0m\u001b[0;34m\u001b[0m\u001b[0m\n\u001b[0;32m---> 21\u001b[0;31m             \u001b[0;32mfor\u001b[0m \u001b[0mline\u001b[0m \u001b[0;32min\u001b[0m \u001b[0mline_tokenize\u001b[0m\u001b[0;34m(\u001b[0m\u001b[0mself\u001b[0m\u001b[0;34m.\u001b[0m\u001b[0mraw\u001b[0m\u001b[0;34m(\u001b[0m\u001b[0mfileids\u001b[0m\u001b[0;34m)\u001b[0m\u001b[0;34m)\u001b[0m\u001b[0;34m\u001b[0m\u001b[0;34m\u001b[0m\u001b[0m\n\u001b[0m\u001b[1;32m     22\u001b[0m             \u001b[0;32mif\u001b[0m \u001b[0;32mnot\u001b[0m \u001b[0mline\u001b[0m\u001b[0;34m.\u001b[0m\u001b[0mstartswith\u001b[0m\u001b[0;34m(\u001b[0m\u001b[0mignore_lines_startswith\u001b[0m\u001b[0;34m)\u001b[0m\u001b[0;34m\u001b[0m\u001b[0;34m\u001b[0m\u001b[0m\n\u001b[1;32m     23\u001b[0m         ]\n",
            "\u001b[0;32m/usr/local/lib/python3.11/dist-packages/nltk/corpus/reader/api.py\u001b[0m in \u001b[0;36mraw\u001b[0;34m(self, fileids)\u001b[0m\n\u001b[1;32m    216\u001b[0m         \u001b[0mcontents\u001b[0m \u001b[0;34m=\u001b[0m \u001b[0;34m[\u001b[0m\u001b[0;34m]\u001b[0m\u001b[0;34m\u001b[0m\u001b[0;34m\u001b[0m\u001b[0m\n\u001b[1;32m    217\u001b[0m         \u001b[0;32mfor\u001b[0m \u001b[0mf\u001b[0m \u001b[0;32min\u001b[0m \u001b[0mfileids\u001b[0m\u001b[0;34m:\u001b[0m\u001b[0;34m\u001b[0m\u001b[0;34m\u001b[0m\u001b[0m\n\u001b[0;32m--> 218\u001b[0;31m             \u001b[0;32mwith\u001b[0m \u001b[0mself\u001b[0m\u001b[0;34m.\u001b[0m\u001b[0mopen\u001b[0m\u001b[0;34m(\u001b[0m\u001b[0mf\u001b[0m\u001b[0;34m)\u001b[0m \u001b[0;32mas\u001b[0m \u001b[0mfp\u001b[0m\u001b[0;34m:\u001b[0m\u001b[0;34m\u001b[0m\u001b[0;34m\u001b[0m\u001b[0m\n\u001b[0m\u001b[1;32m    219\u001b[0m                 \u001b[0mcontents\u001b[0m\u001b[0;34m.\u001b[0m\u001b[0mappend\u001b[0m\u001b[0;34m(\u001b[0m\u001b[0mfp\u001b[0m\u001b[0;34m.\u001b[0m\u001b[0mread\u001b[0m\u001b[0;34m(\u001b[0m\u001b[0;34m)\u001b[0m\u001b[0;34m)\u001b[0m\u001b[0;34m\u001b[0m\u001b[0;34m\u001b[0m\u001b[0m\n\u001b[1;32m    220\u001b[0m         \u001b[0;32mreturn\u001b[0m \u001b[0mconcat\u001b[0m\u001b[0;34m(\u001b[0m\u001b[0mcontents\u001b[0m\u001b[0;34m)\u001b[0m\u001b[0;34m\u001b[0m\u001b[0;34m\u001b[0m\u001b[0m\n",
            "\u001b[0;32m/usr/local/lib/python3.11/dist-packages/nltk/corpus/reader/api.py\u001b[0m in \u001b[0;36mopen\u001b[0;34m(self, file)\u001b[0m\n\u001b[1;32m    229\u001b[0m         \"\"\"\n\u001b[1;32m    230\u001b[0m         \u001b[0mencoding\u001b[0m \u001b[0;34m=\u001b[0m \u001b[0mself\u001b[0m\u001b[0;34m.\u001b[0m\u001b[0mencoding\u001b[0m\u001b[0;34m(\u001b[0m\u001b[0mfile\u001b[0m\u001b[0;34m)\u001b[0m\u001b[0;34m\u001b[0m\u001b[0;34m\u001b[0m\u001b[0m\n\u001b[0;32m--> 231\u001b[0;31m         \u001b[0mstream\u001b[0m \u001b[0;34m=\u001b[0m \u001b[0mself\u001b[0m\u001b[0;34m.\u001b[0m\u001b[0m_root\u001b[0m\u001b[0;34m.\u001b[0m\u001b[0mjoin\u001b[0m\u001b[0;34m(\u001b[0m\u001b[0mfile\u001b[0m\u001b[0;34m)\u001b[0m\u001b[0;34m.\u001b[0m\u001b[0mopen\u001b[0m\u001b[0;34m(\u001b[0m\u001b[0mencoding\u001b[0m\u001b[0;34m)\u001b[0m\u001b[0;34m\u001b[0m\u001b[0;34m\u001b[0m\u001b[0m\n\u001b[0m\u001b[1;32m    232\u001b[0m         \u001b[0;32mreturn\u001b[0m \u001b[0mstream\u001b[0m\u001b[0;34m\u001b[0m\u001b[0;34m\u001b[0m\u001b[0m\n\u001b[1;32m    233\u001b[0m \u001b[0;34m\u001b[0m\u001b[0m\n",
            "\u001b[0;32m/usr/local/lib/python3.11/dist-packages/nltk/data.py\u001b[0m in \u001b[0;36mjoin\u001b[0;34m(self, fileid)\u001b[0m\n\u001b[1;32m    331\u001b[0m     \u001b[0;32mdef\u001b[0m \u001b[0mjoin\u001b[0m\u001b[0;34m(\u001b[0m\u001b[0mself\u001b[0m\u001b[0;34m,\u001b[0m \u001b[0mfileid\u001b[0m\u001b[0;34m)\u001b[0m\u001b[0;34m:\u001b[0m\u001b[0;34m\u001b[0m\u001b[0;34m\u001b[0m\u001b[0m\n\u001b[1;32m    332\u001b[0m         \u001b[0m_path\u001b[0m \u001b[0;34m=\u001b[0m \u001b[0mos\u001b[0m\u001b[0;34m.\u001b[0m\u001b[0mpath\u001b[0m\u001b[0;34m.\u001b[0m\u001b[0mjoin\u001b[0m\u001b[0;34m(\u001b[0m\u001b[0mself\u001b[0m\u001b[0;34m.\u001b[0m\u001b[0m_path\u001b[0m\u001b[0;34m,\u001b[0m \u001b[0mfileid\u001b[0m\u001b[0;34m)\u001b[0m\u001b[0;34m\u001b[0m\u001b[0;34m\u001b[0m\u001b[0m\n\u001b[0;32m--> 333\u001b[0;31m         \u001b[0;32mreturn\u001b[0m \u001b[0mFileSystemPathPointer\u001b[0m\u001b[0;34m(\u001b[0m\u001b[0m_path\u001b[0m\u001b[0;34m)\u001b[0m\u001b[0;34m\u001b[0m\u001b[0;34m\u001b[0m\u001b[0m\n\u001b[0m\u001b[1;32m    334\u001b[0m \u001b[0;34m\u001b[0m\u001b[0m\n\u001b[1;32m    335\u001b[0m     \u001b[0;32mdef\u001b[0m \u001b[0m__repr__\u001b[0m\u001b[0;34m(\u001b[0m\u001b[0mself\u001b[0m\u001b[0;34m)\u001b[0m\u001b[0;34m:\u001b[0m\u001b[0;34m\u001b[0m\u001b[0;34m\u001b[0m\u001b[0m\n",
            "\u001b[0;32m/usr/local/lib/python3.11/dist-packages/nltk/data.py\u001b[0m in \u001b[0;36m__init__\u001b[0;34m(self, _path)\u001b[0m\n\u001b[1;32m    309\u001b[0m         \u001b[0m_path\u001b[0m \u001b[0;34m=\u001b[0m \u001b[0mos\u001b[0m\u001b[0;34m.\u001b[0m\u001b[0mpath\u001b[0m\u001b[0;34m.\u001b[0m\u001b[0mabspath\u001b[0m\u001b[0;34m(\u001b[0m\u001b[0m_path\u001b[0m\u001b[0;34m)\u001b[0m\u001b[0;34m\u001b[0m\u001b[0;34m\u001b[0m\u001b[0m\n\u001b[1;32m    310\u001b[0m         \u001b[0;32mif\u001b[0m \u001b[0;32mnot\u001b[0m \u001b[0mos\u001b[0m\u001b[0;34m.\u001b[0m\u001b[0mpath\u001b[0m\u001b[0;34m.\u001b[0m\u001b[0mexists\u001b[0m\u001b[0;34m(\u001b[0m\u001b[0m_path\u001b[0m\u001b[0;34m)\u001b[0m\u001b[0;34m:\u001b[0m\u001b[0;34m\u001b[0m\u001b[0;34m\u001b[0m\u001b[0m\n\u001b[0;32m--> 311\u001b[0;31m             \u001b[0;32mraise\u001b[0m \u001b[0mOSError\u001b[0m\u001b[0;34m(\u001b[0m\u001b[0;34m\"No such file or directory: %r\"\u001b[0m \u001b[0;34m%\u001b[0m \u001b[0m_path\u001b[0m\u001b[0;34m)\u001b[0m\u001b[0;34m\u001b[0m\u001b[0;34m\u001b[0m\u001b[0m\n\u001b[0m\u001b[1;32m    312\u001b[0m         \u001b[0mself\u001b[0m\u001b[0;34m.\u001b[0m\u001b[0m_path\u001b[0m \u001b[0;34m=\u001b[0m \u001b[0m_path\u001b[0m\u001b[0;34m\u001b[0m\u001b[0;34m\u001b[0m\u001b[0m\n\u001b[1;32m    313\u001b[0m \u001b[0;34m\u001b[0m\u001b[0m\n",
            "\u001b[0;31mOSError\u001b[0m: No such file or directory: '/root/nltk_data/corpora/stopwords/English'"
          ]
        }
      ]
    },
    {
      "cell_type": "code",
      "source": [
        "px_train.head()"
      ],
      "metadata": {
        "colab": {
          "base_uri": "https://localhost:8080/",
          "height": 144
        },
        "id": "iqHr1fngmbWK",
        "outputId": "f466ad3e-7e63-450f-a64b-6003b3fff926"
      },
      "execution_count": 90,
      "outputs": [
        {
          "output_type": "error",
          "ename": "NameError",
          "evalue": "name 'px_train' is not defined",
          "traceback": [
            "\u001b[0;31m---------------------------------------------------------------------------\u001b[0m",
            "\u001b[0;31mNameError\u001b[0m                                 Traceback (most recent call last)",
            "\u001b[0;32m<ipython-input-90-2ec8374f3471>\u001b[0m in \u001b[0;36m<cell line: 0>\u001b[0;34m()\u001b[0m\n\u001b[0;32m----> 1\u001b[0;31m \u001b[0mpx_train\u001b[0m\u001b[0;34m.\u001b[0m\u001b[0mhead\u001b[0m\u001b[0;34m(\u001b[0m\u001b[0;34m)\u001b[0m\u001b[0;34m\u001b[0m\u001b[0;34m\u001b[0m\u001b[0m\n\u001b[0m",
            "\u001b[0;31mNameError\u001b[0m: name 'px_train' is not defined"
          ]
        }
      ]
    },
    {
      "cell_type": "code",
      "source": [
        "type(px_train)"
      ],
      "metadata": {
        "colab": {
          "base_uri": "https://localhost:8080/",
          "height": 144
        },
        "id": "pGhpJDHHmfc6",
        "outputId": "dd40f78b-e488-40f0-a411-2ea4994317b3"
      },
      "execution_count": 91,
      "outputs": [
        {
          "output_type": "error",
          "ename": "NameError",
          "evalue": "name 'px_train' is not defined",
          "traceback": [
            "\u001b[0;31m---------------------------------------------------------------------------\u001b[0m",
            "\u001b[0;31mNameError\u001b[0m                                 Traceback (most recent call last)",
            "\u001b[0;32m<ipython-input-91-06c0494d451e>\u001b[0m in \u001b[0;36m<cell line: 0>\u001b[0;34m()\u001b[0m\n\u001b[0;32m----> 1\u001b[0;31m \u001b[0mtype\u001b[0m\u001b[0;34m(\u001b[0m\u001b[0mpx_train\u001b[0m\u001b[0;34m)\u001b[0m\u001b[0;34m\u001b[0m\u001b[0;34m\u001b[0m\u001b[0m\n\u001b[0m",
            "\u001b[0;31mNameError\u001b[0m: name 'px_train' is not defined"
          ]
        }
      ]
    },
    {
      "cell_type": "markdown",
      "source": [
        "**Test data preprocessing**"
      ],
      "metadata": {
        "id": "UilKW9JhgIAd"
      }
    },
    {
      "cell_type": "code",
      "source": [
        "px_test = X_test['text'].apply(preprocess)"
      ],
      "metadata": {
        "colab": {
          "base_uri": "https://localhost:8080/",
          "height": 1000
        },
        "id": "xIAmPXTEgKVL",
        "outputId": "59ce2cbc-58a9-4e67-8545-5e97a6910b8f"
      },
      "execution_count": 59,
      "outputs": [
        {
          "output_type": "error",
          "ename": "LookupError",
          "evalue": "\n**********************************************************************\n  Resource \u001b[93mstopwords\u001b[0m not found.\n  Please use the NLTK Downloader to obtain the resource:\n\n  \u001b[31m>>> import nltk\n  >>> nltk.download('stopwords')\n  \u001b[0m\n  For more information see: https://www.nltk.org/data.html\n\n  Attempted to load \u001b[93mcorpora/stopwords\u001b[0m\n\n  Searched in:\n    - '/root/nltk_data'\n    - '/usr/nltk_data'\n    - '/usr/share/nltk_data'\n    - '/usr/lib/nltk_data'\n    - '/usr/share/nltk_data'\n    - '/usr/local/share/nltk_data'\n    - '/usr/lib/nltk_data'\n    - '/usr/local/lib/nltk_data'\n**********************************************************************\n",
          "traceback": [
            "\u001b[0;31m---------------------------------------------------------------------------\u001b[0m",
            "\u001b[0;31mLookupError\u001b[0m                               Traceback (most recent call last)",
            "\u001b[0;32m/usr/local/lib/python3.11/dist-packages/nltk/corpus/util.py\u001b[0m in \u001b[0;36m__load\u001b[0;34m(self)\u001b[0m\n\u001b[1;32m     83\u001b[0m                 \u001b[0;32mtry\u001b[0m\u001b[0;34m:\u001b[0m\u001b[0;34m\u001b[0m\u001b[0;34m\u001b[0m\u001b[0m\n\u001b[0;32m---> 84\u001b[0;31m                     \u001b[0mroot\u001b[0m \u001b[0;34m=\u001b[0m \u001b[0mnltk\u001b[0m\u001b[0;34m.\u001b[0m\u001b[0mdata\u001b[0m\u001b[0;34m.\u001b[0m\u001b[0mfind\u001b[0m\u001b[0;34m(\u001b[0m\u001b[0;34mf\"{self.subdir}/{zip_name}\"\u001b[0m\u001b[0;34m)\u001b[0m\u001b[0;34m\u001b[0m\u001b[0;34m\u001b[0m\u001b[0m\n\u001b[0m\u001b[1;32m     85\u001b[0m                 \u001b[0;32mexcept\u001b[0m \u001b[0mLookupError\u001b[0m\u001b[0;34m:\u001b[0m\u001b[0;34m\u001b[0m\u001b[0;34m\u001b[0m\u001b[0m\n",
            "\u001b[0;32m/usr/local/lib/python3.11/dist-packages/nltk/data.py\u001b[0m in \u001b[0;36mfind\u001b[0;34m(resource_name, paths)\u001b[0m\n\u001b[1;32m    578\u001b[0m     \u001b[0mresource_not_found\u001b[0m \u001b[0;34m=\u001b[0m \u001b[0;34mf\"\\n{sep}\\n{msg}\\n{sep}\\n\"\u001b[0m\u001b[0;34m\u001b[0m\u001b[0;34m\u001b[0m\u001b[0m\n\u001b[0;32m--> 579\u001b[0;31m     \u001b[0;32mraise\u001b[0m \u001b[0mLookupError\u001b[0m\u001b[0;34m(\u001b[0m\u001b[0mresource_not_found\u001b[0m\u001b[0;34m)\u001b[0m\u001b[0;34m\u001b[0m\u001b[0;34m\u001b[0m\u001b[0m\n\u001b[0m\u001b[1;32m    580\u001b[0m \u001b[0;34m\u001b[0m\u001b[0m\n",
            "\u001b[0;31mLookupError\u001b[0m: \n**********************************************************************\n  Resource \u001b[93mstopwords\u001b[0m not found.\n  Please use the NLTK Downloader to obtain the resource:\n\n  \u001b[31m>>> import nltk\n  >>> nltk.download('stopwords')\n  \u001b[0m\n  For more information see: https://www.nltk.org/data.html\n\n  Attempted to load \u001b[93mcorpora/stopwords.zip/stopwords/\u001b[0m\n\n  Searched in:\n    - '/root/nltk_data'\n    - '/usr/nltk_data'\n    - '/usr/share/nltk_data'\n    - '/usr/lib/nltk_data'\n    - '/usr/share/nltk_data'\n    - '/usr/local/share/nltk_data'\n    - '/usr/lib/nltk_data'\n    - '/usr/local/lib/nltk_data'\n**********************************************************************\n",
            "\nDuring handling of the above exception, another exception occurred:\n",
            "\u001b[0;31mLookupError\u001b[0m                               Traceback (most recent call last)",
            "\u001b[0;32m<ipython-input-59-2f7f77b48130>\u001b[0m in \u001b[0;36m<cell line: 0>\u001b[0;34m()\u001b[0m\n\u001b[0;32m----> 1\u001b[0;31m \u001b[0mpx_test\u001b[0m \u001b[0;34m=\u001b[0m \u001b[0mX_test\u001b[0m\u001b[0;34m[\u001b[0m\u001b[0;34m'text'\u001b[0m\u001b[0;34m]\u001b[0m\u001b[0;34m.\u001b[0m\u001b[0mapply\u001b[0m\u001b[0;34m(\u001b[0m\u001b[0mpreprocess\u001b[0m\u001b[0;34m)\u001b[0m\u001b[0;34m\u001b[0m\u001b[0;34m\u001b[0m\u001b[0m\n\u001b[0m",
            "\u001b[0;32m/usr/local/lib/python3.11/dist-packages/pandas/core/series.py\u001b[0m in \u001b[0;36mapply\u001b[0;34m(self, func, convert_dtype, args, by_row, **kwargs)\u001b[0m\n\u001b[1;32m   4922\u001b[0m             \u001b[0margs\u001b[0m\u001b[0;34m=\u001b[0m\u001b[0margs\u001b[0m\u001b[0;34m,\u001b[0m\u001b[0;34m\u001b[0m\u001b[0;34m\u001b[0m\u001b[0m\n\u001b[1;32m   4923\u001b[0m             \u001b[0mkwargs\u001b[0m\u001b[0;34m=\u001b[0m\u001b[0mkwargs\u001b[0m\u001b[0;34m,\u001b[0m\u001b[0;34m\u001b[0m\u001b[0;34m\u001b[0m\u001b[0m\n\u001b[0;32m-> 4924\u001b[0;31m         ).apply()\n\u001b[0m\u001b[1;32m   4925\u001b[0m \u001b[0;34m\u001b[0m\u001b[0m\n\u001b[1;32m   4926\u001b[0m     def _reindex_indexer(\n",
            "\u001b[0;32m/usr/local/lib/python3.11/dist-packages/pandas/core/apply.py\u001b[0m in \u001b[0;36mapply\u001b[0;34m(self)\u001b[0m\n\u001b[1;32m   1425\u001b[0m \u001b[0;34m\u001b[0m\u001b[0m\n\u001b[1;32m   1426\u001b[0m         \u001b[0;31m# self.func is Callable\u001b[0m\u001b[0;34m\u001b[0m\u001b[0;34m\u001b[0m\u001b[0m\n\u001b[0;32m-> 1427\u001b[0;31m         \u001b[0;32mreturn\u001b[0m \u001b[0mself\u001b[0m\u001b[0;34m.\u001b[0m\u001b[0mapply_standard\u001b[0m\u001b[0;34m(\u001b[0m\u001b[0;34m)\u001b[0m\u001b[0;34m\u001b[0m\u001b[0;34m\u001b[0m\u001b[0m\n\u001b[0m\u001b[1;32m   1428\u001b[0m \u001b[0;34m\u001b[0m\u001b[0m\n\u001b[1;32m   1429\u001b[0m     \u001b[0;32mdef\u001b[0m \u001b[0magg\u001b[0m\u001b[0;34m(\u001b[0m\u001b[0mself\u001b[0m\u001b[0;34m)\u001b[0m\u001b[0;34m:\u001b[0m\u001b[0;34m\u001b[0m\u001b[0;34m\u001b[0m\u001b[0m\n",
            "\u001b[0;32m/usr/local/lib/python3.11/dist-packages/pandas/core/apply.py\u001b[0m in \u001b[0;36mapply_standard\u001b[0;34m(self)\u001b[0m\n\u001b[1;32m   1505\u001b[0m         \u001b[0;31m#  Categorical (GH51645).\u001b[0m\u001b[0;34m\u001b[0m\u001b[0;34m\u001b[0m\u001b[0m\n\u001b[1;32m   1506\u001b[0m         \u001b[0maction\u001b[0m \u001b[0;34m=\u001b[0m \u001b[0;34m\"ignore\"\u001b[0m \u001b[0;32mif\u001b[0m \u001b[0misinstance\u001b[0m\u001b[0;34m(\u001b[0m\u001b[0mobj\u001b[0m\u001b[0;34m.\u001b[0m\u001b[0mdtype\u001b[0m\u001b[0;34m,\u001b[0m \u001b[0mCategoricalDtype\u001b[0m\u001b[0;34m)\u001b[0m \u001b[0;32melse\u001b[0m \u001b[0;32mNone\u001b[0m\u001b[0;34m\u001b[0m\u001b[0;34m\u001b[0m\u001b[0m\n\u001b[0;32m-> 1507\u001b[0;31m         mapped = obj._map_values(\n\u001b[0m\u001b[1;32m   1508\u001b[0m             \u001b[0mmapper\u001b[0m\u001b[0;34m=\u001b[0m\u001b[0mcurried\u001b[0m\u001b[0;34m,\u001b[0m \u001b[0mna_action\u001b[0m\u001b[0;34m=\u001b[0m\u001b[0maction\u001b[0m\u001b[0;34m,\u001b[0m \u001b[0mconvert\u001b[0m\u001b[0;34m=\u001b[0m\u001b[0mself\u001b[0m\u001b[0;34m.\u001b[0m\u001b[0mconvert_dtype\u001b[0m\u001b[0;34m\u001b[0m\u001b[0;34m\u001b[0m\u001b[0m\n\u001b[1;32m   1509\u001b[0m         )\n",
            "\u001b[0;32m/usr/local/lib/python3.11/dist-packages/pandas/core/base.py\u001b[0m in \u001b[0;36m_map_values\u001b[0;34m(self, mapper, na_action, convert)\u001b[0m\n\u001b[1;32m    919\u001b[0m             \u001b[0;32mreturn\u001b[0m \u001b[0marr\u001b[0m\u001b[0;34m.\u001b[0m\u001b[0mmap\u001b[0m\u001b[0;34m(\u001b[0m\u001b[0mmapper\u001b[0m\u001b[0;34m,\u001b[0m \u001b[0mna_action\u001b[0m\u001b[0;34m=\u001b[0m\u001b[0mna_action\u001b[0m\u001b[0;34m)\u001b[0m\u001b[0;34m\u001b[0m\u001b[0;34m\u001b[0m\u001b[0m\n\u001b[1;32m    920\u001b[0m \u001b[0;34m\u001b[0m\u001b[0m\n\u001b[0;32m--> 921\u001b[0;31m         \u001b[0;32mreturn\u001b[0m \u001b[0malgorithms\u001b[0m\u001b[0;34m.\u001b[0m\u001b[0mmap_array\u001b[0m\u001b[0;34m(\u001b[0m\u001b[0marr\u001b[0m\u001b[0;34m,\u001b[0m \u001b[0mmapper\u001b[0m\u001b[0;34m,\u001b[0m \u001b[0mna_action\u001b[0m\u001b[0;34m=\u001b[0m\u001b[0mna_action\u001b[0m\u001b[0;34m,\u001b[0m \u001b[0mconvert\u001b[0m\u001b[0;34m=\u001b[0m\u001b[0mconvert\u001b[0m\u001b[0;34m)\u001b[0m\u001b[0;34m\u001b[0m\u001b[0;34m\u001b[0m\u001b[0m\n\u001b[0m\u001b[1;32m    922\u001b[0m \u001b[0;34m\u001b[0m\u001b[0m\n\u001b[1;32m    923\u001b[0m     \u001b[0;34m@\u001b[0m\u001b[0mfinal\u001b[0m\u001b[0;34m\u001b[0m\u001b[0;34m\u001b[0m\u001b[0m\n",
            "\u001b[0;32m/usr/local/lib/python3.11/dist-packages/pandas/core/algorithms.py\u001b[0m in \u001b[0;36mmap_array\u001b[0;34m(arr, mapper, na_action, convert)\u001b[0m\n\u001b[1;32m   1741\u001b[0m     \u001b[0mvalues\u001b[0m \u001b[0;34m=\u001b[0m \u001b[0marr\u001b[0m\u001b[0;34m.\u001b[0m\u001b[0mastype\u001b[0m\u001b[0;34m(\u001b[0m\u001b[0mobject\u001b[0m\u001b[0;34m,\u001b[0m \u001b[0mcopy\u001b[0m\u001b[0;34m=\u001b[0m\u001b[0;32mFalse\u001b[0m\u001b[0;34m)\u001b[0m\u001b[0;34m\u001b[0m\u001b[0;34m\u001b[0m\u001b[0m\n\u001b[1;32m   1742\u001b[0m     \u001b[0;32mif\u001b[0m \u001b[0mna_action\u001b[0m \u001b[0;32mis\u001b[0m \u001b[0;32mNone\u001b[0m\u001b[0;34m:\u001b[0m\u001b[0;34m\u001b[0m\u001b[0;34m\u001b[0m\u001b[0m\n\u001b[0;32m-> 1743\u001b[0;31m         \u001b[0;32mreturn\u001b[0m \u001b[0mlib\u001b[0m\u001b[0;34m.\u001b[0m\u001b[0mmap_infer\u001b[0m\u001b[0;34m(\u001b[0m\u001b[0mvalues\u001b[0m\u001b[0;34m,\u001b[0m \u001b[0mmapper\u001b[0m\u001b[0;34m,\u001b[0m \u001b[0mconvert\u001b[0m\u001b[0;34m=\u001b[0m\u001b[0mconvert\u001b[0m\u001b[0;34m)\u001b[0m\u001b[0;34m\u001b[0m\u001b[0;34m\u001b[0m\u001b[0m\n\u001b[0m\u001b[1;32m   1744\u001b[0m     \u001b[0;32melse\u001b[0m\u001b[0;34m:\u001b[0m\u001b[0;34m\u001b[0m\u001b[0;34m\u001b[0m\u001b[0m\n\u001b[1;32m   1745\u001b[0m         return lib.map_infer_mask(\n",
            "\u001b[0;32mlib.pyx\u001b[0m in \u001b[0;36mpandas._libs.lib.map_infer\u001b[0;34m()\u001b[0m\n",
            "\u001b[0;32m<ipython-input-56-162e8609e5b9>\u001b[0m in \u001b[0;36mpreprocess\u001b[0;34m(pro)\u001b[0m\n\u001b[1;32m     10\u001b[0m     \u001b[0mlowe\u001b[0m \u001b[0;34m=\u001b[0m \u001b[0mprocess\u001b[0m\u001b[0;34m.\u001b[0m\u001b[0mlower\u001b[0m\u001b[0;34m(\u001b[0m\u001b[0;34m)\u001b[0m\u001b[0;34m\u001b[0m\u001b[0;34m\u001b[0m\u001b[0m\n\u001b[1;32m     11\u001b[0m     \u001b[0mtokens\u001b[0m \u001b[0;34m=\u001b[0m \u001b[0mlowe\u001b[0m\u001b[0;34m.\u001b[0m\u001b[0msplit\u001b[0m\u001b[0;34m(\u001b[0m\u001b[0;34m)\u001b[0m\u001b[0;34m\u001b[0m\u001b[0;34m\u001b[0m\u001b[0m\n\u001b[0;32m---> 12\u001b[0;31m     \u001b[0mstop\u001b[0m \u001b[0;34m=\u001b[0m \u001b[0;34m[\u001b[0m\u001b[0mlemmatizer\u001b[0m\u001b[0;34m.\u001b[0m\u001b[0mlemmatize\u001b[0m\u001b[0;34m(\u001b[0m\u001b[0mi\u001b[0m\u001b[0;34m)\u001b[0m \u001b[0;32mfor\u001b[0m \u001b[0mi\u001b[0m \u001b[0;32min\u001b[0m \u001b[0mtokens\u001b[0m \u001b[0;32mif\u001b[0m \u001b[0mi\u001b[0m \u001b[0;32mnot\u001b[0m \u001b[0;32min\u001b[0m \u001b[0mstopwords\u001b[0m\u001b[0;34m.\u001b[0m\u001b[0mwords\u001b[0m\u001b[0;34m(\u001b[0m\u001b[0;34m'English'\u001b[0m\u001b[0;34m)\u001b[0m\u001b[0;34m]\u001b[0m\u001b[0;34m\u001b[0m\u001b[0;34m\u001b[0m\u001b[0m\n\u001b[0m\u001b[1;32m     13\u001b[0m     \u001b[0mlemmas\u001b[0m \u001b[0;34m=\u001b[0m\u001b[0mpd\u001b[0m\u001b[0;34m.\u001b[0m\u001b[0mSeries\u001b[0m\u001b[0;34m(\u001b[0m\u001b[0;34m[\u001b[0m \u001b[0;34m\" \"\u001b[0m\u001b[0;34m.\u001b[0m\u001b[0mjoin\u001b[0m\u001b[0;34m(\u001b[0m\u001b[0mstop\u001b[0m\u001b[0;34m)\u001b[0m\u001b[0;34m,\u001b[0m\u001b[0mlen\u001b[0m\u001b[0;34m(\u001b[0m\u001b[0mstop\u001b[0m\u001b[0;34m)\u001b[0m\u001b[0;34m]\u001b[0m\u001b[0;34m)\u001b[0m\u001b[0;34m\u001b[0m\u001b[0;34m\u001b[0m\u001b[0m\n\u001b[1;32m     14\u001b[0m     \u001b[0;32mreturn\u001b[0m \u001b[0mlemmas\u001b[0m\u001b[0;34m\u001b[0m\u001b[0;34m\u001b[0m\u001b[0m\n",
            "\u001b[0;32m<ipython-input-56-162e8609e5b9>\u001b[0m in \u001b[0;36m<listcomp>\u001b[0;34m(.0)\u001b[0m\n\u001b[1;32m     10\u001b[0m     \u001b[0mlowe\u001b[0m \u001b[0;34m=\u001b[0m \u001b[0mprocess\u001b[0m\u001b[0;34m.\u001b[0m\u001b[0mlower\u001b[0m\u001b[0;34m(\u001b[0m\u001b[0;34m)\u001b[0m\u001b[0;34m\u001b[0m\u001b[0;34m\u001b[0m\u001b[0m\n\u001b[1;32m     11\u001b[0m     \u001b[0mtokens\u001b[0m \u001b[0;34m=\u001b[0m \u001b[0mlowe\u001b[0m\u001b[0;34m.\u001b[0m\u001b[0msplit\u001b[0m\u001b[0;34m(\u001b[0m\u001b[0;34m)\u001b[0m\u001b[0;34m\u001b[0m\u001b[0;34m\u001b[0m\u001b[0m\n\u001b[0;32m---> 12\u001b[0;31m     \u001b[0mstop\u001b[0m \u001b[0;34m=\u001b[0m \u001b[0;34m[\u001b[0m\u001b[0mlemmatizer\u001b[0m\u001b[0;34m.\u001b[0m\u001b[0mlemmatize\u001b[0m\u001b[0;34m(\u001b[0m\u001b[0mi\u001b[0m\u001b[0;34m)\u001b[0m \u001b[0;32mfor\u001b[0m \u001b[0mi\u001b[0m \u001b[0;32min\u001b[0m \u001b[0mtokens\u001b[0m \u001b[0;32mif\u001b[0m \u001b[0mi\u001b[0m \u001b[0;32mnot\u001b[0m \u001b[0;32min\u001b[0m \u001b[0mstopwords\u001b[0m\u001b[0;34m.\u001b[0m\u001b[0mwords\u001b[0m\u001b[0;34m(\u001b[0m\u001b[0;34m'English'\u001b[0m\u001b[0;34m)\u001b[0m\u001b[0;34m]\u001b[0m\u001b[0;34m\u001b[0m\u001b[0;34m\u001b[0m\u001b[0m\n\u001b[0m\u001b[1;32m     13\u001b[0m     \u001b[0mlemmas\u001b[0m \u001b[0;34m=\u001b[0m\u001b[0mpd\u001b[0m\u001b[0;34m.\u001b[0m\u001b[0mSeries\u001b[0m\u001b[0;34m(\u001b[0m\u001b[0;34m[\u001b[0m \u001b[0;34m\" \"\u001b[0m\u001b[0;34m.\u001b[0m\u001b[0mjoin\u001b[0m\u001b[0;34m(\u001b[0m\u001b[0mstop\u001b[0m\u001b[0;34m)\u001b[0m\u001b[0;34m,\u001b[0m\u001b[0mlen\u001b[0m\u001b[0;34m(\u001b[0m\u001b[0mstop\u001b[0m\u001b[0;34m)\u001b[0m\u001b[0;34m]\u001b[0m\u001b[0;34m)\u001b[0m\u001b[0;34m\u001b[0m\u001b[0;34m\u001b[0m\u001b[0m\n\u001b[1;32m     14\u001b[0m     \u001b[0;32mreturn\u001b[0m \u001b[0mlemmas\u001b[0m\u001b[0;34m\u001b[0m\u001b[0;34m\u001b[0m\u001b[0m\n",
            "\u001b[0;32m/usr/local/lib/python3.11/dist-packages/nltk/corpus/util.py\u001b[0m in \u001b[0;36m__getattr__\u001b[0;34m(self, attr)\u001b[0m\n\u001b[1;32m    118\u001b[0m             \u001b[0;32mraise\u001b[0m \u001b[0mAttributeError\u001b[0m\u001b[0;34m(\u001b[0m\u001b[0;34m\"LazyCorpusLoader object has no attribute '__bases__'\"\u001b[0m\u001b[0;34m)\u001b[0m\u001b[0;34m\u001b[0m\u001b[0;34m\u001b[0m\u001b[0m\n\u001b[1;32m    119\u001b[0m \u001b[0;34m\u001b[0m\u001b[0m\n\u001b[0;32m--> 120\u001b[0;31m         \u001b[0mself\u001b[0m\u001b[0;34m.\u001b[0m\u001b[0m__load\u001b[0m\u001b[0;34m(\u001b[0m\u001b[0;34m)\u001b[0m\u001b[0;34m\u001b[0m\u001b[0;34m\u001b[0m\u001b[0m\n\u001b[0m\u001b[1;32m    121\u001b[0m         \u001b[0;31m# This looks circular, but its not, since __load() changes our\u001b[0m\u001b[0;34m\u001b[0m\u001b[0;34m\u001b[0m\u001b[0m\n\u001b[1;32m    122\u001b[0m         \u001b[0;31m# __class__ to something new:\u001b[0m\u001b[0;34m\u001b[0m\u001b[0;34m\u001b[0m\u001b[0m\n",
            "\u001b[0;32m/usr/local/lib/python3.11/dist-packages/nltk/corpus/util.py\u001b[0m in \u001b[0;36m__load\u001b[0;34m(self)\u001b[0m\n\u001b[1;32m     84\u001b[0m                     \u001b[0mroot\u001b[0m \u001b[0;34m=\u001b[0m \u001b[0mnltk\u001b[0m\u001b[0;34m.\u001b[0m\u001b[0mdata\u001b[0m\u001b[0;34m.\u001b[0m\u001b[0mfind\u001b[0m\u001b[0;34m(\u001b[0m\u001b[0;34mf\"{self.subdir}/{zip_name}\"\u001b[0m\u001b[0;34m)\u001b[0m\u001b[0;34m\u001b[0m\u001b[0;34m\u001b[0m\u001b[0m\n\u001b[1;32m     85\u001b[0m                 \u001b[0;32mexcept\u001b[0m \u001b[0mLookupError\u001b[0m\u001b[0;34m:\u001b[0m\u001b[0;34m\u001b[0m\u001b[0;34m\u001b[0m\u001b[0m\n\u001b[0;32m---> 86\u001b[0;31m                     \u001b[0;32mraise\u001b[0m \u001b[0me\u001b[0m\u001b[0;34m\u001b[0m\u001b[0;34m\u001b[0m\u001b[0m\n\u001b[0m\u001b[1;32m     87\u001b[0m \u001b[0;34m\u001b[0m\u001b[0m\n\u001b[1;32m     88\u001b[0m         \u001b[0;31m# Load the corpus.\u001b[0m\u001b[0;34m\u001b[0m\u001b[0;34m\u001b[0m\u001b[0m\n",
            "\u001b[0;32m/usr/local/lib/python3.11/dist-packages/nltk/corpus/util.py\u001b[0m in \u001b[0;36m__load\u001b[0;34m(self)\u001b[0m\n\u001b[1;32m     79\u001b[0m         \u001b[0;32melse\u001b[0m\u001b[0;34m:\u001b[0m\u001b[0;34m\u001b[0m\u001b[0;34m\u001b[0m\u001b[0m\n\u001b[1;32m     80\u001b[0m             \u001b[0;32mtry\u001b[0m\u001b[0;34m:\u001b[0m\u001b[0;34m\u001b[0m\u001b[0;34m\u001b[0m\u001b[0m\n\u001b[0;32m---> 81\u001b[0;31m                 \u001b[0mroot\u001b[0m \u001b[0;34m=\u001b[0m \u001b[0mnltk\u001b[0m\u001b[0;34m.\u001b[0m\u001b[0mdata\u001b[0m\u001b[0;34m.\u001b[0m\u001b[0mfind\u001b[0m\u001b[0;34m(\u001b[0m\u001b[0;34mf\"{self.subdir}/{self.__name}\"\u001b[0m\u001b[0;34m)\u001b[0m\u001b[0;34m\u001b[0m\u001b[0;34m\u001b[0m\u001b[0m\n\u001b[0m\u001b[1;32m     82\u001b[0m             \u001b[0;32mexcept\u001b[0m \u001b[0mLookupError\u001b[0m \u001b[0;32mas\u001b[0m \u001b[0me\u001b[0m\u001b[0;34m:\u001b[0m\u001b[0;34m\u001b[0m\u001b[0;34m\u001b[0m\u001b[0m\n\u001b[1;32m     83\u001b[0m                 \u001b[0;32mtry\u001b[0m\u001b[0;34m:\u001b[0m\u001b[0;34m\u001b[0m\u001b[0;34m\u001b[0m\u001b[0m\n",
            "\u001b[0;32m/usr/local/lib/python3.11/dist-packages/nltk/data.py\u001b[0m in \u001b[0;36mfind\u001b[0;34m(resource_name, paths)\u001b[0m\n\u001b[1;32m    577\u001b[0m     \u001b[0msep\u001b[0m \u001b[0;34m=\u001b[0m \u001b[0;34m\"*\"\u001b[0m \u001b[0;34m*\u001b[0m \u001b[0;36m70\u001b[0m\u001b[0;34m\u001b[0m\u001b[0;34m\u001b[0m\u001b[0m\n\u001b[1;32m    578\u001b[0m     \u001b[0mresource_not_found\u001b[0m \u001b[0;34m=\u001b[0m \u001b[0;34mf\"\\n{sep}\\n{msg}\\n{sep}\\n\"\u001b[0m\u001b[0;34m\u001b[0m\u001b[0;34m\u001b[0m\u001b[0m\n\u001b[0;32m--> 579\u001b[0;31m     \u001b[0;32mraise\u001b[0m \u001b[0mLookupError\u001b[0m\u001b[0;34m(\u001b[0m\u001b[0mresource_not_found\u001b[0m\u001b[0;34m)\u001b[0m\u001b[0;34m\u001b[0m\u001b[0;34m\u001b[0m\u001b[0m\n\u001b[0m\u001b[1;32m    580\u001b[0m \u001b[0;34m\u001b[0m\u001b[0m\n\u001b[1;32m    581\u001b[0m \u001b[0;34m\u001b[0m\u001b[0m\n",
            "\u001b[0;31mLookupError\u001b[0m: \n**********************************************************************\n  Resource \u001b[93mstopwords\u001b[0m not found.\n  Please use the NLTK Downloader to obtain the resource:\n\n  \u001b[31m>>> import nltk\n  >>> nltk.download('stopwords')\n  \u001b[0m\n  For more information see: https://www.nltk.org/data.html\n\n  Attempted to load \u001b[93mcorpora/stopwords\u001b[0m\n\n  Searched in:\n    - '/root/nltk_data'\n    - '/usr/nltk_data'\n    - '/usr/share/nltk_data'\n    - '/usr/lib/nltk_data'\n    - '/usr/share/nltk_data'\n    - '/usr/local/share/nltk_data'\n    - '/usr/lib/nltk_data'\n    - '/usr/local/lib/nltk_data'\n**********************************************************************\n"
          ]
        }
      ]
    },
    {
      "cell_type": "code",
      "source": [
        "px_test.head()"
      ],
      "metadata": {
        "colab": {
          "base_uri": "https://localhost:8080/",
          "height": 144
        },
        "id": "0V8kX5iygM2L",
        "outputId": "054dd2d8-fe5f-43f9-8564-152713905646"
      },
      "execution_count": 60,
      "outputs": [
        {
          "output_type": "error",
          "ename": "NameError",
          "evalue": "name 'px_test' is not defined",
          "traceback": [
            "\u001b[0;31m---------------------------------------------------------------------------\u001b[0m",
            "\u001b[0;31mNameError\u001b[0m                                 Traceback (most recent call last)",
            "\u001b[0;32m<ipython-input-60-0d97e69b7d34>\u001b[0m in \u001b[0;36m<cell line: 0>\u001b[0;34m()\u001b[0m\n\u001b[0;32m----> 1\u001b[0;31m \u001b[0mpx_test\u001b[0m\u001b[0;34m.\u001b[0m\u001b[0mhead\u001b[0m\u001b[0;34m(\u001b[0m\u001b[0;34m)\u001b[0m\u001b[0;34m\u001b[0m\u001b[0;34m\u001b[0m\u001b[0m\n\u001b[0m",
            "\u001b[0;31mNameError\u001b[0m: name 'px_test' is not defined"
          ]
        }
      ]
    },
    {
      "cell_type": "code",
      "source": [
        "px_test.columns = ['clean_text','text_length']\n",
        "px_test.head()"
      ],
      "metadata": {
        "id": "KfLvS2jkgPSX"
      },
      "execution_count": null,
      "outputs": []
    },
    {
      "cell_type": "code",
      "source": [
        "px_train.columns = ['clean_text','text_length']\n",
        "px_train.head()"
      ],
      "metadata": {
        "id": "f2Jt8GOjgRWH"
      },
      "execution_count": null,
      "outputs": []
    },
    {
      "cell_type": "code",
      "source": [
        "X_train = pd.concat([X_train,px_train],axis=1)\n",
        "X_train.head()"
      ],
      "metadata": {
        "id": "VvEmRVDMgTuP"
      },
      "execution_count": null,
      "outputs": []
    },
    {
      "cell_type": "code",
      "source": [
        "X_test = pd.concat([X_test,px_test],axis=1)"
      ],
      "metadata": {
        "id": "pvBb_Dc_gVme"
      },
      "execution_count": null,
      "outputs": []
    },
    {
      "cell_type": "code",
      "source": [
        "X_test.head()"
      ],
      "metadata": {
        "id": "AEGvAsGAgXaI"
      },
      "execution_count": null,
      "outputs": []
    },
    {
      "cell_type": "code",
      "source": [
        "from wordcloud import WordCloud"
      ],
      "metadata": {
        "id": "vdPX7FepgZM7"
      },
      "execution_count": 61,
      "outputs": []
    },
    {
      "cell_type": "code",
      "source": [
        "y_train"
      ],
      "metadata": {
        "colab": {
          "base_uri": "https://localhost:8080/",
          "height": 458
        },
        "id": "vH2F6N23gbLg",
        "outputId": "7ccd3df8-ede9-45a3-f10b-252ce6a3d8d7"
      },
      "execution_count": 62,
      "outputs": [
        {
          "output_type": "execute_result",
          "data": {
            "text/plain": [
              "209     FAKE\n",
              "3374    REAL\n",
              "3540    FAKE\n",
              "2472    FAKE\n",
              "2510    REAL\n",
              "        ... \n",
              "1133    REAL\n",
              "1297    REAL\n",
              "863     FAKE\n",
              "3515    REAL\n",
              "3182    FAKE\n",
              "Name: label, Length: 2976, dtype: object"
            ],
            "text/html": [
              "<div>\n",
              "<style scoped>\n",
              "    .dataframe tbody tr th:only-of-type {\n",
              "        vertical-align: middle;\n",
              "    }\n",
              "\n",
              "    .dataframe tbody tr th {\n",
              "        vertical-align: top;\n",
              "    }\n",
              "\n",
              "    .dataframe thead th {\n",
              "        text-align: right;\n",
              "    }\n",
              "</style>\n",
              "<table border=\"1\" class=\"dataframe\">\n",
              "  <thead>\n",
              "    <tr style=\"text-align: right;\">\n",
              "      <th></th>\n",
              "      <th>label</th>\n",
              "    </tr>\n",
              "  </thead>\n",
              "  <tbody>\n",
              "    <tr>\n",
              "      <th>209</th>\n",
              "      <td>FAKE</td>\n",
              "    </tr>\n",
              "    <tr>\n",
              "      <th>3374</th>\n",
              "      <td>REAL</td>\n",
              "    </tr>\n",
              "    <tr>\n",
              "      <th>3540</th>\n",
              "      <td>FAKE</td>\n",
              "    </tr>\n",
              "    <tr>\n",
              "      <th>2472</th>\n",
              "      <td>FAKE</td>\n",
              "    </tr>\n",
              "    <tr>\n",
              "      <th>2510</th>\n",
              "      <td>REAL</td>\n",
              "    </tr>\n",
              "    <tr>\n",
              "      <th>...</th>\n",
              "      <td>...</td>\n",
              "    </tr>\n",
              "    <tr>\n",
              "      <th>1133</th>\n",
              "      <td>REAL</td>\n",
              "    </tr>\n",
              "    <tr>\n",
              "      <th>1297</th>\n",
              "      <td>REAL</td>\n",
              "    </tr>\n",
              "    <tr>\n",
              "      <th>863</th>\n",
              "      <td>FAKE</td>\n",
              "    </tr>\n",
              "    <tr>\n",
              "      <th>3515</th>\n",
              "      <td>REAL</td>\n",
              "    </tr>\n",
              "    <tr>\n",
              "      <th>3182</th>\n",
              "      <td>FAKE</td>\n",
              "    </tr>\n",
              "  </tbody>\n",
              "</table>\n",
              "<p>2976 rows × 1 columns</p>\n",
              "</div><br><label><b>dtype:</b> object</label>"
            ]
          },
          "metadata": {},
          "execution_count": 62
        }
      ]
    },
    {
      "cell_type": "code",
      "source": [
        "y_test"
      ],
      "metadata": {
        "colab": {
          "base_uri": "https://localhost:8080/",
          "height": 458
        },
        "id": "bG-JDnlaglE7",
        "outputId": "10a8e50b-f8fa-4c73-8068-b3c3682e63e3"
      },
      "execution_count": 63,
      "outputs": [
        {
          "output_type": "execute_result",
          "data": {
            "text/plain": [
              "908     REAL\n",
              "3454    REAL\n",
              "1790    REAL\n",
              "1167    FAKE\n",
              "1605    FAKE\n",
              "        ... \n",
              "1239    FAKE\n",
              "2409    FAKE\n",
              "1958    FAKE\n",
              "2680    FAKE\n",
              "955     FAKE\n",
              "Name: label, Length: 745, dtype: object"
            ],
            "text/html": [
              "<div>\n",
              "<style scoped>\n",
              "    .dataframe tbody tr th:only-of-type {\n",
              "        vertical-align: middle;\n",
              "    }\n",
              "\n",
              "    .dataframe tbody tr th {\n",
              "        vertical-align: top;\n",
              "    }\n",
              "\n",
              "    .dataframe thead th {\n",
              "        text-align: right;\n",
              "    }\n",
              "</style>\n",
              "<table border=\"1\" class=\"dataframe\">\n",
              "  <thead>\n",
              "    <tr style=\"text-align: right;\">\n",
              "      <th></th>\n",
              "      <th>label</th>\n",
              "    </tr>\n",
              "  </thead>\n",
              "  <tbody>\n",
              "    <tr>\n",
              "      <th>908</th>\n",
              "      <td>REAL</td>\n",
              "    </tr>\n",
              "    <tr>\n",
              "      <th>3454</th>\n",
              "      <td>REAL</td>\n",
              "    </tr>\n",
              "    <tr>\n",
              "      <th>1790</th>\n",
              "      <td>REAL</td>\n",
              "    </tr>\n",
              "    <tr>\n",
              "      <th>1167</th>\n",
              "      <td>FAKE</td>\n",
              "    </tr>\n",
              "    <tr>\n",
              "      <th>1605</th>\n",
              "      <td>FAKE</td>\n",
              "    </tr>\n",
              "    <tr>\n",
              "      <th>...</th>\n",
              "      <td>...</td>\n",
              "    </tr>\n",
              "    <tr>\n",
              "      <th>1239</th>\n",
              "      <td>FAKE</td>\n",
              "    </tr>\n",
              "    <tr>\n",
              "      <th>2409</th>\n",
              "      <td>FAKE</td>\n",
              "    </tr>\n",
              "    <tr>\n",
              "      <th>1958</th>\n",
              "      <td>FAKE</td>\n",
              "    </tr>\n",
              "    <tr>\n",
              "      <th>2680</th>\n",
              "      <td>FAKE</td>\n",
              "    </tr>\n",
              "    <tr>\n",
              "      <th>955</th>\n",
              "      <td>FAKE</td>\n",
              "    </tr>\n",
              "  </tbody>\n",
              "</table>\n",
              "<p>745 rows × 1 columns</p>\n",
              "</div><br><label><b>dtype:</b> object</label>"
            ]
          },
          "metadata": {},
          "execution_count": 63
        }
      ]
    },
    {
      "cell_type": "code",
      "source": [
        "real_n = X_train.loc[y_train=='REAL', :]\n",
        "real_n.head()"
      ],
      "metadata": {
        "colab": {
          "base_uri": "https://localhost:8080/",
          "height": 206
        },
        "id": "fHSQQ_tUgpKl",
        "outputId": "3b74e39a-8931-41c3-f782-b83ade264b1a"
      },
      "execution_count": 64,
      "outputs": [
        {
          "output_type": "execute_result",
          "data": {
            "text/plain": [
              "                                                   text\n",
              "3374  NEW DELHI: The Drugs Controller General of Ind...\n",
              "2510  Read Also\\n\\nBe it winning hearts or winning t...\n",
              "599   WASHINGTON: Enter Journey's Crossing Church in...\n",
              "1707  NEW DELHI: The finance ministry on Saturday in...\n",
              "3676  PANAJI: The second phase of reviving the cocon..."
            ],
            "text/html": [
              "\n",
              "  <div id=\"df-b0024c8c-a75e-4d06-8f7e-21a39c84cbf7\" class=\"colab-df-container\">\n",
              "    <div>\n",
              "<style scoped>\n",
              "    .dataframe tbody tr th:only-of-type {\n",
              "        vertical-align: middle;\n",
              "    }\n",
              "\n",
              "    .dataframe tbody tr th {\n",
              "        vertical-align: top;\n",
              "    }\n",
              "\n",
              "    .dataframe thead th {\n",
              "        text-align: right;\n",
              "    }\n",
              "</style>\n",
              "<table border=\"1\" class=\"dataframe\">\n",
              "  <thead>\n",
              "    <tr style=\"text-align: right;\">\n",
              "      <th></th>\n",
              "      <th>text</th>\n",
              "    </tr>\n",
              "  </thead>\n",
              "  <tbody>\n",
              "    <tr>\n",
              "      <th>3374</th>\n",
              "      <td>NEW DELHI: The Drugs Controller General of Ind...</td>\n",
              "    </tr>\n",
              "    <tr>\n",
              "      <th>2510</th>\n",
              "      <td>Read Also\\n\\nBe it winning hearts or winning t...</td>\n",
              "    </tr>\n",
              "    <tr>\n",
              "      <th>599</th>\n",
              "      <td>WASHINGTON: Enter Journey's Crossing Church in...</td>\n",
              "    </tr>\n",
              "    <tr>\n",
              "      <th>1707</th>\n",
              "      <td>NEW DELHI: The finance ministry on Saturday in...</td>\n",
              "    </tr>\n",
              "    <tr>\n",
              "      <th>3676</th>\n",
              "      <td>PANAJI: The second phase of reviving the cocon...</td>\n",
              "    </tr>\n",
              "  </tbody>\n",
              "</table>\n",
              "</div>\n",
              "    <div class=\"colab-df-buttons\">\n",
              "\n",
              "  <div class=\"colab-df-container\">\n",
              "    <button class=\"colab-df-convert\" onclick=\"convertToInteractive('df-b0024c8c-a75e-4d06-8f7e-21a39c84cbf7')\"\n",
              "            title=\"Convert this dataframe to an interactive table.\"\n",
              "            style=\"display:none;\">\n",
              "\n",
              "  <svg xmlns=\"http://www.w3.org/2000/svg\" height=\"24px\" viewBox=\"0 -960 960 960\">\n",
              "    <path d=\"M120-120v-720h720v720H120Zm60-500h600v-160H180v160Zm220 220h160v-160H400v160Zm0 220h160v-160H400v160ZM180-400h160v-160H180v160Zm440 0h160v-160H620v160ZM180-180h160v-160H180v160Zm440 0h160v-160H620v160Z\"/>\n",
              "  </svg>\n",
              "    </button>\n",
              "\n",
              "  <style>\n",
              "    .colab-df-container {\n",
              "      display:flex;\n",
              "      gap: 12px;\n",
              "    }\n",
              "\n",
              "    .colab-df-convert {\n",
              "      background-color: #E8F0FE;\n",
              "      border: none;\n",
              "      border-radius: 50%;\n",
              "      cursor: pointer;\n",
              "      display: none;\n",
              "      fill: #1967D2;\n",
              "      height: 32px;\n",
              "      padding: 0 0 0 0;\n",
              "      width: 32px;\n",
              "    }\n",
              "\n",
              "    .colab-df-convert:hover {\n",
              "      background-color: #E2EBFA;\n",
              "      box-shadow: 0px 1px 2px rgba(60, 64, 67, 0.3), 0px 1px 3px 1px rgba(60, 64, 67, 0.15);\n",
              "      fill: #174EA6;\n",
              "    }\n",
              "\n",
              "    .colab-df-buttons div {\n",
              "      margin-bottom: 4px;\n",
              "    }\n",
              "\n",
              "    [theme=dark] .colab-df-convert {\n",
              "      background-color: #3B4455;\n",
              "      fill: #D2E3FC;\n",
              "    }\n",
              "\n",
              "    [theme=dark] .colab-df-convert:hover {\n",
              "      background-color: #434B5C;\n",
              "      box-shadow: 0px 1px 3px 1px rgba(0, 0, 0, 0.15);\n",
              "      filter: drop-shadow(0px 1px 2px rgba(0, 0, 0, 0.3));\n",
              "      fill: #FFFFFF;\n",
              "    }\n",
              "  </style>\n",
              "\n",
              "    <script>\n",
              "      const buttonEl =\n",
              "        document.querySelector('#df-b0024c8c-a75e-4d06-8f7e-21a39c84cbf7 button.colab-df-convert');\n",
              "      buttonEl.style.display =\n",
              "        google.colab.kernel.accessAllowed ? 'block' : 'none';\n",
              "\n",
              "      async function convertToInteractive(key) {\n",
              "        const element = document.querySelector('#df-b0024c8c-a75e-4d06-8f7e-21a39c84cbf7');\n",
              "        const dataTable =\n",
              "          await google.colab.kernel.invokeFunction('convertToInteractive',\n",
              "                                                    [key], {});\n",
              "        if (!dataTable) return;\n",
              "\n",
              "        const docLinkHtml = 'Like what you see? Visit the ' +\n",
              "          '<a target=\"_blank\" href=https://colab.research.google.com/notebooks/data_table.ipynb>data table notebook</a>'\n",
              "          + ' to learn more about interactive tables.';\n",
              "        element.innerHTML = '';\n",
              "        dataTable['output_type'] = 'display_data';\n",
              "        await google.colab.output.renderOutput(dataTable, element);\n",
              "        const docLink = document.createElement('div');\n",
              "        docLink.innerHTML = docLinkHtml;\n",
              "        element.appendChild(docLink);\n",
              "      }\n",
              "    </script>\n",
              "  </div>\n",
              "\n",
              "\n",
              "<div id=\"df-223727ed-58d2-419b-ade4-9965ebe3b291\">\n",
              "  <button class=\"colab-df-quickchart\" onclick=\"quickchart('df-223727ed-58d2-419b-ade4-9965ebe3b291')\"\n",
              "            title=\"Suggest charts\"\n",
              "            style=\"display:none;\">\n",
              "\n",
              "<svg xmlns=\"http://www.w3.org/2000/svg\" height=\"24px\"viewBox=\"0 0 24 24\"\n",
              "     width=\"24px\">\n",
              "    <g>\n",
              "        <path d=\"M19 3H5c-1.1 0-2 .9-2 2v14c0 1.1.9 2 2 2h14c1.1 0 2-.9 2-2V5c0-1.1-.9-2-2-2zM9 17H7v-7h2v7zm4 0h-2V7h2v10zm4 0h-2v-4h2v4z\"/>\n",
              "    </g>\n",
              "</svg>\n",
              "  </button>\n",
              "\n",
              "<style>\n",
              "  .colab-df-quickchart {\n",
              "      --bg-color: #E8F0FE;\n",
              "      --fill-color: #1967D2;\n",
              "      --hover-bg-color: #E2EBFA;\n",
              "      --hover-fill-color: #174EA6;\n",
              "      --disabled-fill-color: #AAA;\n",
              "      --disabled-bg-color: #DDD;\n",
              "  }\n",
              "\n",
              "  [theme=dark] .colab-df-quickchart {\n",
              "      --bg-color: #3B4455;\n",
              "      --fill-color: #D2E3FC;\n",
              "      --hover-bg-color: #434B5C;\n",
              "      --hover-fill-color: #FFFFFF;\n",
              "      --disabled-bg-color: #3B4455;\n",
              "      --disabled-fill-color: #666;\n",
              "  }\n",
              "\n",
              "  .colab-df-quickchart {\n",
              "    background-color: var(--bg-color);\n",
              "    border: none;\n",
              "    border-radius: 50%;\n",
              "    cursor: pointer;\n",
              "    display: none;\n",
              "    fill: var(--fill-color);\n",
              "    height: 32px;\n",
              "    padding: 0;\n",
              "    width: 32px;\n",
              "  }\n",
              "\n",
              "  .colab-df-quickchart:hover {\n",
              "    background-color: var(--hover-bg-color);\n",
              "    box-shadow: 0 1px 2px rgba(60, 64, 67, 0.3), 0 1px 3px 1px rgba(60, 64, 67, 0.15);\n",
              "    fill: var(--button-hover-fill-color);\n",
              "  }\n",
              "\n",
              "  .colab-df-quickchart-complete:disabled,\n",
              "  .colab-df-quickchart-complete:disabled:hover {\n",
              "    background-color: var(--disabled-bg-color);\n",
              "    fill: var(--disabled-fill-color);\n",
              "    box-shadow: none;\n",
              "  }\n",
              "\n",
              "  .colab-df-spinner {\n",
              "    border: 2px solid var(--fill-color);\n",
              "    border-color: transparent;\n",
              "    border-bottom-color: var(--fill-color);\n",
              "    animation:\n",
              "      spin 1s steps(1) infinite;\n",
              "  }\n",
              "\n",
              "  @keyframes spin {\n",
              "    0% {\n",
              "      border-color: transparent;\n",
              "      border-bottom-color: var(--fill-color);\n",
              "      border-left-color: var(--fill-color);\n",
              "    }\n",
              "    20% {\n",
              "      border-color: transparent;\n",
              "      border-left-color: var(--fill-color);\n",
              "      border-top-color: var(--fill-color);\n",
              "    }\n",
              "    30% {\n",
              "      border-color: transparent;\n",
              "      border-left-color: var(--fill-color);\n",
              "      border-top-color: var(--fill-color);\n",
              "      border-right-color: var(--fill-color);\n",
              "    }\n",
              "    40% {\n",
              "      border-color: transparent;\n",
              "      border-right-color: var(--fill-color);\n",
              "      border-top-color: var(--fill-color);\n",
              "    }\n",
              "    60% {\n",
              "      border-color: transparent;\n",
              "      border-right-color: var(--fill-color);\n",
              "    }\n",
              "    80% {\n",
              "      border-color: transparent;\n",
              "      border-right-color: var(--fill-color);\n",
              "      border-bottom-color: var(--fill-color);\n",
              "    }\n",
              "    90% {\n",
              "      border-color: transparent;\n",
              "      border-bottom-color: var(--fill-color);\n",
              "    }\n",
              "  }\n",
              "</style>\n",
              "\n",
              "  <script>\n",
              "    async function quickchart(key) {\n",
              "      const quickchartButtonEl =\n",
              "        document.querySelector('#' + key + ' button');\n",
              "      quickchartButtonEl.disabled = true;  // To prevent multiple clicks.\n",
              "      quickchartButtonEl.classList.add('colab-df-spinner');\n",
              "      try {\n",
              "        const charts = await google.colab.kernel.invokeFunction(\n",
              "            'suggestCharts', [key], {});\n",
              "      } catch (error) {\n",
              "        console.error('Error during call to suggestCharts:', error);\n",
              "      }\n",
              "      quickchartButtonEl.classList.remove('colab-df-spinner');\n",
              "      quickchartButtonEl.classList.add('colab-df-quickchart-complete');\n",
              "    }\n",
              "    (() => {\n",
              "      let quickchartButtonEl =\n",
              "        document.querySelector('#df-223727ed-58d2-419b-ade4-9965ebe3b291 button');\n",
              "      quickchartButtonEl.style.display =\n",
              "        google.colab.kernel.accessAllowed ? 'block' : 'none';\n",
              "    })();\n",
              "  </script>\n",
              "</div>\n",
              "\n",
              "    </div>\n",
              "  </div>\n"
            ],
            "application/vnd.google.colaboratory.intrinsic+json": {
              "type": "dataframe",
              "variable_name": "real_n",
              "summary": "{\n  \"name\": \"real_n\",\n  \"rows\": 1466,\n  \"fields\": [\n    {\n      \"column\": \"text\",\n      \"properties\": {\n        \"dtype\": \"category\",\n        \"num_unique_values\": 299,\n        \"samples\": [\n          \"Hubballi: The failure on the part of the management of the Karnataka Institute of Medical Sciences KIMS ) to implement the recommendations of the seventh All India Council for Technical Education pay commission has prompted teachers at the healthcare institution to launch a protest. Members of the Karnataka Institute of Medical Sciences Teachers\\u2019 Association (KIMSTA) will, in a show of protest, don black ribbons on their arms while on duty from Monday to draw attention to the management\\u2019s inaction on the issue.Members of the association on Saturday submitted a memorandum seeking implementation of the AICTE recommendations to KIMS director Dr Ramalingappa Antartani. The protesting doctors have warned that failure to fulfil their demands would prompt them to take the extreme step of not attending to any but the emergency cases.Led by KIMSTA president Dr SS Shirol, the association\\u2019s honorary secretary Dr Arun Walvekar and mentor Dr KF Kammar pointed out that the recommendations of the AICTE\\u2019s seventh pay commission recommendations had been ratified by the state government on April 1. The salary of faculty in other colleges in the state had been altered accordingly, they pointed out.The doctors said that the failure to raise their salary was demotivating and demoralising. \\u201cThe faculty has been working sincerely to handle the Covid-19 crisis effectively. We have been putting our safety and those of our families at stake. We are compelled to take to protest to urge the government to fulfil our demands,\\u201d the doctors said.Medical superintendent Dr Arunkumar, Dr Suryakant Kalluraya, Dr Ravindra Gadag, Dr Gurushantappa Yalgachhin were among the doctors who submitted the memorandum to Dr Antartani.\",\n          \"Chennai: The power tussle between the OPS and EPS camps has worsened with chief minister and AIADMK joint coordinator Edappadi K Palaniswami ruling out, categorically, formation of party steering committee, which was one of the key demands of O Panneerselvam ahead of the 2017 merger of the two camps. At the AIADMK high-level meeting held on Friday evening, power minister P Thangamani, a close confidant of EPS, sought to deflect the issue of steering committee by saying the need of the hour was to decide the chief ministerial candidate. It, however, failed to evoke any response from the OPS camp, highly placed sources said.While the main opposition, the DMK led by M K Stalin, is consolidating its position and finetuning the poll strategy, the AIADMK camp is in disarray as infighting continues over the leadership, denting the prospects of a strong alliance in 2021 polls. Sources said that EPS stunned OPS and his supporters at the high-level meeting by saying it was difficult for him to choose members for the steering committee as per the merger agreement because there were many eligible claimants. He was responding to OPS\\u2019s persistent demand for formation of the committee.OPS supporters mustered courage and raised the demand that all sections be accommodated and OPS be given due recognition . While it is customary not to intervene after the top leaders speak, JCD Prabhakar, a veteran, raised his hand to speak, triggering a sharp exchange from Thangamani. The party organising secretary recalled the sequence of events ahead of the merger, his meeting with Thangamani and the assurance that an 11-member steering committee would be formed, with six from the EPS camp and five from the OPS camp.The party had revamped the parliamentary board too in 2017, after Jayalalithaa\\u2019s demise.But Thangamani intervened to say that it was true he made a promise to Prabhakar, but that was for the party\\u2019s welfare. \\u201cThe minister went on to say that the issue to be settled now is the chief ministerial candidate. There was, however, no response from the leaders nor from the audience,\\u201d another leader said. Prabhakar and later another leader P H Manoj Pandian also highlighted the rising dissidence in the party with promises not being fulfilled by the EPS camp. OPS residence has been seeing higher footfalls of his supporters in recent days. Later on Friday night, a few ministers were closeted with the CM at his residence. The developments have poured cold water over the proposed executive committee meeting scheduled for September 28. It may be concluded by passing a resolution to work for the party\\u2019s success in the 2021 assembly polls, said sources.\",\n          \"Exclusive! Sonalee Kulkarni on re-opening of theatres: Huge number of families depended on cinema and we have to save it at any cost\"\n        ],\n        \"semantic_type\": \"\",\n        \"description\": \"\"\n      }\n    }\n  ]\n}"
            }
          },
          "metadata": {},
          "execution_count": 64
        }
      ]
    },
    {
      "cell_type": "code",
      "source": [
        "words = ' '.join(real_n['clean_text'])\n",
        "clean_word = \" \".join([word for word in words.split()])"
      ],
      "metadata": {
        "colab": {
          "base_uri": "https://localhost:8080/",
          "height": 633
        },
        "id": "Zyii1BBagrnn",
        "outputId": "d2721e57-0749-443a-ec99-1362e0a3a258"
      },
      "execution_count": 65,
      "outputs": [
        {
          "output_type": "error",
          "ename": "KeyError",
          "evalue": "'clean_text'",
          "traceback": [
            "\u001b[0;31m---------------------------------------------------------------------------\u001b[0m",
            "\u001b[0;31mKeyError\u001b[0m                                  Traceback (most recent call last)",
            "\u001b[0;32m/usr/local/lib/python3.11/dist-packages/pandas/core/indexes/base.py\u001b[0m in \u001b[0;36mget_loc\u001b[0;34m(self, key)\u001b[0m\n\u001b[1;32m   3804\u001b[0m         \u001b[0;32mtry\u001b[0m\u001b[0;34m:\u001b[0m\u001b[0;34m\u001b[0m\u001b[0;34m\u001b[0m\u001b[0m\n\u001b[0;32m-> 3805\u001b[0;31m             \u001b[0;32mreturn\u001b[0m \u001b[0mself\u001b[0m\u001b[0;34m.\u001b[0m\u001b[0m_engine\u001b[0m\u001b[0;34m.\u001b[0m\u001b[0mget_loc\u001b[0m\u001b[0;34m(\u001b[0m\u001b[0mcasted_key\u001b[0m\u001b[0;34m)\u001b[0m\u001b[0;34m\u001b[0m\u001b[0;34m\u001b[0m\u001b[0m\n\u001b[0m\u001b[1;32m   3806\u001b[0m         \u001b[0;32mexcept\u001b[0m \u001b[0mKeyError\u001b[0m \u001b[0;32mas\u001b[0m \u001b[0merr\u001b[0m\u001b[0;34m:\u001b[0m\u001b[0;34m\u001b[0m\u001b[0;34m\u001b[0m\u001b[0m\n",
            "\u001b[0;32mindex.pyx\u001b[0m in \u001b[0;36mpandas._libs.index.IndexEngine.get_loc\u001b[0;34m()\u001b[0m\n",
            "\u001b[0;32mindex.pyx\u001b[0m in \u001b[0;36mpandas._libs.index.IndexEngine.get_loc\u001b[0;34m()\u001b[0m\n",
            "\u001b[0;32mpandas/_libs/hashtable_class_helper.pxi\u001b[0m in \u001b[0;36mpandas._libs.hashtable.PyObjectHashTable.get_item\u001b[0;34m()\u001b[0m\n",
            "\u001b[0;32mpandas/_libs/hashtable_class_helper.pxi\u001b[0m in \u001b[0;36mpandas._libs.hashtable.PyObjectHashTable.get_item\u001b[0;34m()\u001b[0m\n",
            "\u001b[0;31mKeyError\u001b[0m: 'clean_text'",
            "\nThe above exception was the direct cause of the following exception:\n",
            "\u001b[0;31mKeyError\u001b[0m                                  Traceback (most recent call last)",
            "\u001b[0;32m<ipython-input-65-81d5723bdcfa>\u001b[0m in \u001b[0;36m<cell line: 0>\u001b[0;34m()\u001b[0m\n\u001b[0;32m----> 1\u001b[0;31m \u001b[0mwords\u001b[0m \u001b[0;34m=\u001b[0m \u001b[0;34m' '\u001b[0m\u001b[0;34m.\u001b[0m\u001b[0mjoin\u001b[0m\u001b[0;34m(\u001b[0m\u001b[0mreal_n\u001b[0m\u001b[0;34m[\u001b[0m\u001b[0;34m'clean_text'\u001b[0m\u001b[0;34m]\u001b[0m\u001b[0;34m)\u001b[0m\u001b[0;34m\u001b[0m\u001b[0;34m\u001b[0m\u001b[0m\n\u001b[0m\u001b[1;32m      2\u001b[0m \u001b[0mclean_word\u001b[0m \u001b[0;34m=\u001b[0m \u001b[0;34m\" \"\u001b[0m\u001b[0;34m.\u001b[0m\u001b[0mjoin\u001b[0m\u001b[0;34m(\u001b[0m\u001b[0;34m[\u001b[0m\u001b[0mword\u001b[0m \u001b[0;32mfor\u001b[0m \u001b[0mword\u001b[0m \u001b[0;32min\u001b[0m \u001b[0mwords\u001b[0m\u001b[0;34m.\u001b[0m\u001b[0msplit\u001b[0m\u001b[0;34m(\u001b[0m\u001b[0;34m)\u001b[0m\u001b[0;34m]\u001b[0m\u001b[0;34m)\u001b[0m\u001b[0;34m\u001b[0m\u001b[0;34m\u001b[0m\u001b[0m\n",
            "\u001b[0;32m/usr/local/lib/python3.11/dist-packages/pandas/core/frame.py\u001b[0m in \u001b[0;36m__getitem__\u001b[0;34m(self, key)\u001b[0m\n\u001b[1;32m   4100\u001b[0m             \u001b[0;32mif\u001b[0m \u001b[0mself\u001b[0m\u001b[0;34m.\u001b[0m\u001b[0mcolumns\u001b[0m\u001b[0;34m.\u001b[0m\u001b[0mnlevels\u001b[0m \u001b[0;34m>\u001b[0m \u001b[0;36m1\u001b[0m\u001b[0;34m:\u001b[0m\u001b[0;34m\u001b[0m\u001b[0;34m\u001b[0m\u001b[0m\n\u001b[1;32m   4101\u001b[0m                 \u001b[0;32mreturn\u001b[0m \u001b[0mself\u001b[0m\u001b[0;34m.\u001b[0m\u001b[0m_getitem_multilevel\u001b[0m\u001b[0;34m(\u001b[0m\u001b[0mkey\u001b[0m\u001b[0;34m)\u001b[0m\u001b[0;34m\u001b[0m\u001b[0;34m\u001b[0m\u001b[0m\n\u001b[0;32m-> 4102\u001b[0;31m             \u001b[0mindexer\u001b[0m \u001b[0;34m=\u001b[0m \u001b[0mself\u001b[0m\u001b[0;34m.\u001b[0m\u001b[0mcolumns\u001b[0m\u001b[0;34m.\u001b[0m\u001b[0mget_loc\u001b[0m\u001b[0;34m(\u001b[0m\u001b[0mkey\u001b[0m\u001b[0;34m)\u001b[0m\u001b[0;34m\u001b[0m\u001b[0;34m\u001b[0m\u001b[0m\n\u001b[0m\u001b[1;32m   4103\u001b[0m             \u001b[0;32mif\u001b[0m \u001b[0mis_integer\u001b[0m\u001b[0;34m(\u001b[0m\u001b[0mindexer\u001b[0m\u001b[0;34m)\u001b[0m\u001b[0;34m:\u001b[0m\u001b[0;34m\u001b[0m\u001b[0;34m\u001b[0m\u001b[0m\n\u001b[1;32m   4104\u001b[0m                 \u001b[0mindexer\u001b[0m \u001b[0;34m=\u001b[0m \u001b[0;34m[\u001b[0m\u001b[0mindexer\u001b[0m\u001b[0;34m]\u001b[0m\u001b[0;34m\u001b[0m\u001b[0;34m\u001b[0m\u001b[0m\n",
            "\u001b[0;32m/usr/local/lib/python3.11/dist-packages/pandas/core/indexes/base.py\u001b[0m in \u001b[0;36mget_loc\u001b[0;34m(self, key)\u001b[0m\n\u001b[1;32m   3810\u001b[0m             ):\n\u001b[1;32m   3811\u001b[0m                 \u001b[0;32mraise\u001b[0m \u001b[0mInvalidIndexError\u001b[0m\u001b[0;34m(\u001b[0m\u001b[0mkey\u001b[0m\u001b[0;34m)\u001b[0m\u001b[0;34m\u001b[0m\u001b[0;34m\u001b[0m\u001b[0m\n\u001b[0;32m-> 3812\u001b[0;31m             \u001b[0;32mraise\u001b[0m \u001b[0mKeyError\u001b[0m\u001b[0;34m(\u001b[0m\u001b[0mkey\u001b[0m\u001b[0;34m)\u001b[0m \u001b[0;32mfrom\u001b[0m \u001b[0merr\u001b[0m\u001b[0;34m\u001b[0m\u001b[0;34m\u001b[0m\u001b[0m\n\u001b[0m\u001b[1;32m   3813\u001b[0m         \u001b[0;32mexcept\u001b[0m \u001b[0mTypeError\u001b[0m\u001b[0;34m:\u001b[0m\u001b[0;34m\u001b[0m\u001b[0;34m\u001b[0m\u001b[0m\n\u001b[1;32m   3814\u001b[0m             \u001b[0;31m# If we have a listlike key, _check_indexing_error will raise\u001b[0m\u001b[0;34m\u001b[0m\u001b[0;34m\u001b[0m\u001b[0m\n",
            "\u001b[0;31mKeyError\u001b[0m: 'clean_text'"
          ]
        }
      ]
    },
    {
      "cell_type": "code",
      "source": [],
      "metadata": {
        "id": "TR1yml4agud0"
      },
      "execution_count": null,
      "outputs": []
    },
    {
      "cell_type": "code",
      "source": [
        "real_word = WordCloud(stopwords=stopwords.words(\"english\"),\n",
        "background_color='black',\n",
        "width=1600,\n",
        "height=800).generate(clean_word)"
      ],
      "metadata": {
        "id": "AgIWLudfgufb"
      },
      "execution_count": null,
      "outputs": []
    },
    {
      "cell_type": "code",
      "source": [
        "plt.figure(1,figsize=(30,20))\n",
        "plt.imshow(real_word)\n",
        "plt.axis('off')\n",
        "plt.show()"
      ],
      "metadata": {
        "id": "D7-jymrUgw2B"
      },
      "execution_count": null,
      "outputs": []
    },
    {
      "cell_type": "code",
      "source": [
        "fake_n = X_train.loc[y_train=='FAKE', :]\n",
        "fake_n.head()"
      ],
      "metadata": {
        "id": "YSyxwuiCgzc8"
      },
      "execution_count": null,
      "outputs": []
    },
    {
      "cell_type": "code",
      "source": [
        "words_f = ' '.join(fake_n['clean_text'])\n",
        "clean_word_f = \" \".join([word for word in words_f.split()])"
      ],
      "metadata": {
        "id": "hC-HPPJ8g2B_"
      },
      "execution_count": null,
      "outputs": []
    },
    {
      "cell_type": "code",
      "source": [],
      "metadata": {
        "id": "Py1UiNQtg7sk"
      },
      "execution_count": null,
      "outputs": []
    },
    {
      "cell_type": "code",
      "source": [
        "real_word_f = WordCloud(stopwords=stopwords.words(\"english\"),\n",
        "background_color='black',\n",
        "width=1600,\n",
        "height=800).generate(clean_word_f)"
      ],
      "metadata": {
        "id": "NPz9AQkqg7uC"
      },
      "execution_count": null,
      "outputs": []
    },
    {
      "cell_type": "code",
      "source": [
        "plt.figure(1,figsize=(30,20))\n",
        "plt.imshow(real_word_f)\n",
        "plt.axis('off')\n",
        "plt.show()"
      ],
      "metadata": {
        "id": "fUVhU3yIg-LI"
      },
      "execution_count": null,
      "outputs": []
    },
    {
      "cell_type": "markdown",
      "source": [
        "**Tfidf Vectorizer**"
      ],
      "metadata": {
        "id": "fkMjr0NGhAi9"
      }
    },
    {
      "cell_type": "code",
      "source": [
        "from sklearn.feature_extraction.text import TfidfVectorizer"
      ],
      "metadata": {
        "id": "yG8yYuLFhDuU"
      },
      "execution_count": null,
      "outputs": []
    },
    {
      "cell_type": "code",
      "source": [
        "tf_vector = TfidfVectorizer()"
      ],
      "metadata": {
        "id": "4i9KFGYUhG8E"
      },
      "execution_count": null,
      "outputs": []
    },
    {
      "cell_type": "code",
      "source": [
        "X_train_t = tf_vector.fit_transform(X_train['clean_text'])"
      ],
      "metadata": {
        "id": "VAt30D3rhIbE"
      },
      "execution_count": null,
      "outputs": []
    },
    {
      "cell_type": "code",
      "source": [
        "(X_train_t)"
      ],
      "metadata": {
        "id": "vBecFjwJhL2a"
      },
      "execution_count": null,
      "outputs": []
    },
    {
      "cell_type": "code",
      "source": [
        "print('unique words:',len(tf_vector.vocabulary_))\n",
        "print('Shape of input data:',X_train_t.shape)"
      ],
      "metadata": {
        "id": "RYypl8gPhOgK"
      },
      "execution_count": null,
      "outputs": []
    },
    {
      "cell_type": "markdown",
      "source": [
        "**Test data**"
      ],
      "metadata": {
        "id": "JB8EF0yShQpb"
      }
    },
    {
      "cell_type": "code",
      "source": [
        "X_test_tf = tf_vector.transform(X_test['clean_text'])"
      ],
      "metadata": {
        "id": "oucD9378hSat"
      },
      "execution_count": null,
      "outputs": []
    },
    {
      "cell_type": "code",
      "source": [
        "X_test_tf"
      ],
      "metadata": {
        "id": "jtKD_5f_hVDo"
      },
      "execution_count": null,
      "outputs": []
    },
    {
      "cell_type": "markdown",
      "source": [
        "**Label Encoding**"
      ],
      "metadata": {
        "id": "uFL8KKs2heof"
      }
    },
    {
      "cell_type": "code",
      "source": [
        "label = LabelEncoder()"
      ],
      "metadata": {
        "id": "rW3nUn4vhht5"
      },
      "execution_count": null,
      "outputs": []
    },
    {
      "cell_type": "code",
      "source": [
        "y_train = label.fit_transform(y_train)"
      ],
      "metadata": {
        "id": "DGr5Dhu9hiVw"
      },
      "execution_count": null,
      "outputs": []
    },
    {
      "cell_type": "code",
      "source": [],
      "metadata": {
        "id": "Lxa4W1_6hlIl"
      },
      "execution_count": null,
      "outputs": []
    },
    {
      "cell_type": "code",
      "source": [
        "y_train"
      ],
      "metadata": {
        "id": "qBWmjZbyhlKZ"
      },
      "execution_count": null,
      "outputs": []
    },
    {
      "cell_type": "code",
      "source": [],
      "metadata": {
        "id": "6fFxQFpChnud"
      },
      "execution_count": null,
      "outputs": []
    },
    {
      "cell_type": "code",
      "source": [
        "Y_test = label.transform(y_test)"
      ],
      "metadata": {
        "id": "O5sFjyXAhnwM"
      },
      "execution_count": null,
      "outputs": []
    },
    {
      "cell_type": "code",
      "source": [],
      "metadata": {
        "id": "Pi00y73Phpet"
      },
      "execution_count": null,
      "outputs": []
    },
    {
      "cell_type": "code",
      "source": [
        "Y_test"
      ],
      "metadata": {
        "id": "0AkrwM4dhpgm"
      },
      "execution_count": null,
      "outputs": []
    },
    {
      "cell_type": "markdown",
      "source": [],
      "metadata": {
        "id": "SVv4GCxdhsUP"
      }
    },
    {
      "cell_type": "markdown",
      "source": [
        "**Logistic Regression Model**"
      ],
      "metadata": {
        "id": "0hdJ3PVRhsWp"
      }
    },
    {
      "cell_type": "code",
      "source": [
        "from sklearn.linear_model import LogisticRegression"
      ],
      "metadata": {
        "id": "OhF5kpgjhu-5"
      },
      "execution_count": null,
      "outputs": []
    },
    {
      "cell_type": "code",
      "source": [
        "models = LogisticRegression()"
      ],
      "metadata": {
        "id": "Lxfw31rXhxaz"
      },
      "execution_count": null,
      "outputs": []
    },
    {
      "cell_type": "code",
      "source": [
        "models.fit(X_train_t,y_train)"
      ],
      "metadata": {
        "id": "c0AP-U3Zhy9p"
      },
      "execution_count": null,
      "outputs": []
    },
    {
      "cell_type": "code",
      "source": [
        "from sklearn.metrics import accuracy_score"
      ],
      "metadata": {
        "id": "m6iBheimhy7U"
      },
      "execution_count": null,
      "outputs": []
    },
    {
      "cell_type": "code",
      "source": [
        "l_train_score = models.predict(X_train_t)\n",
        "l_train_accuracy = accuracy_score(l_train_score,y_train)"
      ],
      "metadata": {
        "id": "UeeyMU9Ih4WS"
      },
      "execution_count": null,
      "outputs": []
    },
    {
      "cell_type": "code",
      "source": [
        "print('train_accuracy:',l_train_accuracy)"
      ],
      "metadata": {
        "id": "nggcwttOh4UT"
      },
      "execution_count": null,
      "outputs": []
    },
    {
      "cell_type": "code",
      "source": [
        "l_test_score = models.predict(X_test_tf)"
      ],
      "metadata": {
        "id": "06m3pLpth7dM"
      },
      "execution_count": null,
      "outputs": []
    },
    {
      "cell_type": "code",
      "source": [
        "l_test_accuracy = accuracy_score(test_score,Y_test)"
      ],
      "metadata": {
        "id": "C6rn2bgXh7a3"
      },
      "execution_count": null,
      "outputs": []
    },
    {
      "cell_type": "code",
      "source": [
        "print('test_acccuracy:',l_test_accuracy)"
      ],
      "metadata": {
        "id": "IAI-mlhnh-kx"
      },
      "execution_count": null,
      "outputs": []
    },
    {
      "cell_type": "code",
      "source": [
        "cmx_1=confusion_matrix(Y_test,l_test_score)\n",
        "print(\"\\nNo. of test samples : \",len(X_test))\n",
        "print(\"\\n Confustion Matrix : \\n\",cmx_2)\n",
        "print(\"\\nPerfomance measures are: \\n\",classification_report(Y_test, l_test_score))"
      ],
      "metadata": {
        "id": "lelQ-RZZiBrV"
      },
      "execution_count": null,
      "outputs": []
    },
    {
      "cell_type": "code",
      "source": [
        "news=X_train_t[1]"
      ],
      "metadata": {
        "id": "4KKwgzWIiBtd"
      },
      "execution_count": null,
      "outputs": []
    },
    {
      "cell_type": "code",
      "source": [
        "prediction = models.predict(news)\n",
        "print(prediction)\n",
        "if (prediction[0]==0):\n",
        "print('The news is fake')\n",
        "else:\n",
        "print('The news is real')"
      ],
      "metadata": {
        "id": "VgTsmRBYiFUJ"
      },
      "execution_count": null,
      "outputs": []
    },
    {
      "cell_type": "code",
      "source": [
        "from sklearn import metrics"
      ],
      "metadata": {
        "id": "O2e4YufQiFV6"
      },
      "execution_count": null,
      "outputs": []
    },
    {
      "cell_type": "code",
      "source": [
        "confusion = metrics.confusion_matrix(Y_test, test_score)"
      ],
      "metadata": {
        "id": "yLUg1wbniH_T"
      },
      "execution_count": null,
      "outputs": []
    },
    {
      "cell_type": "code",
      "source": [
        "confusion"
      ],
      "metadata": {
        "id": "Lk8wxhBriIBr"
      },
      "execution_count": null,
      "outputs": []
    },
    {
      "cell_type": "markdown",
      "source": [
        "**SVM**"
      ],
      "metadata": {
        "id": "Zz0oaVAAiKWF"
      }
    },
    {
      "cell_type": "code",
      "source": [
        "from sklearn.svm import SVC"
      ],
      "metadata": {
        "id": "Evb1-g9OiPPb"
      },
      "execution_count": null,
      "outputs": []
    },
    {
      "cell_type": "code",
      "source": [
        "support = svm.SVC()"
      ],
      "metadata": {
        "id": "wSQ9tfBfiQoc"
      },
      "execution_count": null,
      "outputs": []
    },
    {
      "cell_type": "code",
      "source": [
        "support"
      ],
      "metadata": {
        "id": "E0CeVxVciSdI"
      },
      "execution_count": null,
      "outputs": []
    },
    {
      "cell_type": "code",
      "source": [
        "support.fit(X_train_t,y_train)"
      ],
      "metadata": {
        "id": "dfLMABn6iT7j"
      },
      "execution_count": null,
      "outputs": []
    },
    {
      "cell_type": "code",
      "source": [
        "train_score_1 = support.predict(X_train_t)\n",
        "train_accuracy_1 = accuracy_score(train_score_1,y_train)"
      ],
      "metadata": {
        "id": "KKKQaYZLiY-H"
      },
      "execution_count": null,
      "outputs": []
    },
    {
      "cell_type": "code",
      "source": [
        "print('train_accuracy:',train_accuracy_1)"
      ],
      "metadata": {
        "id": "P_NH1Cdjiajo"
      },
      "execution_count": null,
      "outputs": []
    },
    {
      "cell_type": "code",
      "source": [
        "test_score_1 = support.predict(X_test_tf)"
      ],
      "metadata": {
        "id": "fn_YqLuXib05"
      },
      "execution_count": null,
      "outputs": []
    },
    {
      "cell_type": "code",
      "source": [
        "test_accuracy_1 = accuracy_score(test_score_1,Y_test)"
      ],
      "metadata": {
        "id": "0FcU7TWpidI-"
      },
      "execution_count": null,
      "outputs": []
    },
    {
      "cell_type": "code",
      "source": [
        "print('test_acccuracy:',test_accuracy_1)"
      ],
      "metadata": {
        "id": "xrme89ejieQG"
      },
      "execution_count": null,
      "outputs": []
    },
    {
      "cell_type": "code",
      "source": [
        "news_1=X_train_t[1]"
      ],
      "metadata": {
        "id": "ltwMPOwWifc8"
      },
      "execution_count": null,
      "outputs": []
    },
    {
      "cell_type": "code",
      "source": [
        "prediction_1 = support.predict(news_1)\n",
        "print(prediction_1)\n",
        "if (prediction_1[0]==0):\n",
        "print('The news is fake')\n",
        "else:\n",
        "print('The news is real')"
      ],
      "metadata": {
        "id": "xVKpOWkvihs8"
      },
      "execution_count": null,
      "outputs": []
    },
    {
      "cell_type": "code",
      "source": [
        "from sklearn.metrics import classification_report, confusion_matrix"
      ],
      "metadata": {
        "id": "Ygzt0aRUii-J"
      },
      "execution_count": null,
      "outputs": []
    },
    {
      "cell_type": "code",
      "source": [
        "confusion = metrics.confusion_matrix(Y_test, test_score_1)"
      ],
      "metadata": {
        "id": "UABienPlij6F"
      },
      "execution_count": null,
      "outputs": []
    },
    {
      "cell_type": "code",
      "source": [
        "cmx=confusion_matrix(Y_test,test_score)\n",
        "print(\"\\nNo. of test samples : \",len(X_test))\n",
        "print(\"\\n Confustion Matrix : \\n\",cmx)\n",
        "print(\"\\nPerfomance measures are: \\n\",classification_report(Y_test, test_score))"
      ],
      "metadata": {
        "id": "s1bSEW1Cij8Y"
      },
      "execution_count": null,
      "outputs": []
    },
    {
      "cell_type": "markdown",
      "source": [],
      "metadata": {
        "id": "qbM8iFhsinyV"
      }
    },
    {
      "cell_type": "markdown",
      "source": [
        "**KNN**"
      ],
      "metadata": {
        "id": "895-M4OHin05"
      }
    },
    {
      "cell_type": "code",
      "source": [
        "from sklearn.neighbors import KNeighborsClassifier"
      ],
      "metadata": {
        "id": "8o8bsTsTiqTL"
      },
      "execution_count": null,
      "outputs": []
    },
    {
      "cell_type": "code",
      "source": [
        "knn_model = KNeighborsClassifier(n_neighbors=5)"
      ],
      "metadata": {
        "id": "f0S2bbUpisUm"
      },
      "execution_count": null,
      "outputs": []
    },
    {
      "cell_type": "code",
      "source": [
        "knn_model.fit(X_train_t,y_train)"
      ],
      "metadata": {
        "id": "XxJUfuqCisWp"
      },
      "execution_count": null,
      "outputs": []
    },
    {
      "cell_type": "code",
      "source": [
        "knn_1_train_score = knn_model.predict(X_train_t)\n",
        "knn_train_accuracy = accuracy_score(knn_1_train_score,y_train)"
      ],
      "metadata": {
        "id": "kac74ElAisdY"
      },
      "execution_count": null,
      "outputs": []
    },
    {
      "cell_type": "code",
      "source": [
        "print('train_accuracy:',knn_train_accuracy)"
      ],
      "metadata": {
        "id": "LxHDa5wXiwhZ"
      },
      "execution_count": null,
      "outputs": []
    },
    {
      "cell_type": "code",
      "source": [
        "knn_test_score = knn_model.predict(X_test_tf)"
      ],
      "metadata": {
        "id": "7bIR_HGoixpv"
      },
      "execution_count": null,
      "outputs": []
    },
    {
      "cell_type": "code",
      "source": [
        "knn_test_accuracy = accuracy_score(knn_test_score,Y_test)"
      ],
      "metadata": {
        "id": "gh2q5oLyixnm"
      },
      "execution_count": null,
      "outputs": []
    },
    {
      "cell_type": "code",
      "source": [
        "print('test_acccuracy:',knn_test_accuracy)"
      ],
      "metadata": {
        "id": "rnsq-CjVi11g"
      },
      "execution_count": null,
      "outputs": []
    },
    {
      "cell_type": "code",
      "source": [
        "cmx_2=confusion_matrix(Y_test,knn_test_score)\n",
        "print(\"\\nNo. of test samples : \",len(X_test))\n",
        "print(\"\\n Confustion Matrix : \\n\",cmx_2)\n",
        "print(\"\\nPerfomance measures are: \\n\",classification_report(Y_test, knn_test_score))"
      ],
      "metadata": {
        "id": "O28pHm75i3yB"
      },
      "execution_count": null,
      "outputs": []
    }
  ],
  "metadata": {
    "accelerator": "GPU",
    "colab": {
      "provenance": [],
      "include_colab_link": true
    },
    "kernelspec": {
      "display_name": "Python 3 (ipykernel)",
      "language": "python",
      "name": "python3"
    },
    "language_info": {
      "codemirror_mode": {
        "name": "ipython",
        "version": 3
      },
      "file_extension": ".py",
      "mimetype": "text/x-python",
      "name": "python",
      "nbconvert_exporter": "python",
      "pygments_lexer": "ipython3",
      "version": "3.9.13"
    }
  },
  "nbformat": 4,
  "nbformat_minor": 0
}